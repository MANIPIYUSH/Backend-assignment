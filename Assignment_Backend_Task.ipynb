{
 "cells": [
  {
   "cell_type": "code",
   "execution_count": 2,
   "id": "dbf620f4",
   "metadata": {},
   "outputs": [],
   "source": [
    "import pandas as pd\n",
    "import numpy as np\n"
   ]
  },
  {
   "cell_type": "code",
   "execution_count": 3,
   "id": "570d2ee7",
   "metadata": {},
   "outputs": [
    {
     "data": {
      "text/html": [
       "<div>\n",
       "<style scoped>\n",
       "    .dataframe tbody tr th:only-of-type {\n",
       "        vertical-align: middle;\n",
       "    }\n",
       "\n",
       "    .dataframe tbody tr th {\n",
       "        vertical-align: top;\n",
       "    }\n",
       "\n",
       "    .dataframe thead th {\n",
       "        text-align: right;\n",
       "    }\n",
       "</style>\n",
       "<table border=\"1\" class=\"dataframe\">\n",
       "  <thead>\n",
       "    <tr style=\"text-align: right;\">\n",
       "      <th></th>\n",
       "      <th>BUILDINGKEY</th>\n",
       "      <th>FLOORKEY</th>\n",
       "      <th>FLOORNAME</th>\n",
       "      <th>NURSEKEY</th>\n",
       "      <th>NURSENAME</th>\n",
       "      <th>ROOMKEY</th>\n",
       "      <th>ROOMNAME</th>\n",
       "      <th>BEDKEY</th>\n",
       "      <th>BEDNAME</th>\n",
       "      <th>BEDSTATUS</th>\n",
       "    </tr>\n",
       "  </thead>\n",
       "  <tbody>\n",
       "    <tr>\n",
       "      <th>0</th>\n",
       "      <td>5.0</td>\n",
       "      <td>9.0</td>\n",
       "      <td>First Floor NT</td>\n",
       "      <td>00:00.0</td>\n",
       "      <td>Daycare Surgery</td>\n",
       "      <td>33.0</td>\n",
       "      <td>Daycare NT (Day Care)</td>\n",
       "      <td>34.0</td>\n",
       "      <td>101-1</td>\n",
       "      <td>Occupied Discharge</td>\n",
       "    </tr>\n",
       "    <tr>\n",
       "      <th>1</th>\n",
       "      <td>5.0</td>\n",
       "      <td>9.0</td>\n",
       "      <td>First Floor NT</td>\n",
       "      <td>00:00.0</td>\n",
       "      <td>Daycare Surgery</td>\n",
       "      <td>33.0</td>\n",
       "      <td>Daycare NT (Day Care)</td>\n",
       "      <td>35.0</td>\n",
       "      <td>101-1P</td>\n",
       "      <td>Occupied Discharge</td>\n",
       "    </tr>\n",
       "    <tr>\n",
       "      <th>2</th>\n",
       "      <td>5.0</td>\n",
       "      <td>9.0</td>\n",
       "      <td>First Floor NT</td>\n",
       "      <td>00:00.0</td>\n",
       "      <td>Daycare Surgery</td>\n",
       "      <td>33.0</td>\n",
       "      <td>Daycare NT (Day Care)</td>\n",
       "      <td>36.0</td>\n",
       "      <td>101-2</td>\n",
       "      <td>Vacant Dirty</td>\n",
       "    </tr>\n",
       "    <tr>\n",
       "      <th>3</th>\n",
       "      <td>5.0</td>\n",
       "      <td>9.0</td>\n",
       "      <td>First Floor NT</td>\n",
       "      <td>00:00.0</td>\n",
       "      <td>Daycare Surgery</td>\n",
       "      <td>33.0</td>\n",
       "      <td>Daycare NT (Day Care)</td>\n",
       "      <td>37.0</td>\n",
       "      <td>101-2P</td>\n",
       "      <td>Vacant Dirty</td>\n",
       "    </tr>\n",
       "    <tr>\n",
       "      <th>4</th>\n",
       "      <td>5.0</td>\n",
       "      <td>9.0</td>\n",
       "      <td>First Floor NT</td>\n",
       "      <td>00:00.0</td>\n",
       "      <td>Daycare Surgery</td>\n",
       "      <td>33.0</td>\n",
       "      <td>Daycare NT (Day Care)</td>\n",
       "      <td>38.0</td>\n",
       "      <td>101-3</td>\n",
       "      <td>Vacant Dirty</td>\n",
       "    </tr>\n",
       "    <tr>\n",
       "      <th>...</th>\n",
       "      <td>...</td>\n",
       "      <td>...</td>\n",
       "      <td>...</td>\n",
       "      <td>...</td>\n",
       "      <td>...</td>\n",
       "      <td>...</td>\n",
       "      <td>...</td>\n",
       "      <td>...</td>\n",
       "      <td>...</td>\n",
       "      <td>...</td>\n",
       "    </tr>\n",
       "    <tr>\n",
       "      <th>1095</th>\n",
       "      <td>NaN</td>\n",
       "      <td>NaN</td>\n",
       "      <td>NaN</td>\n",
       "      <td>NaN</td>\n",
       "      <td>NaN</td>\n",
       "      <td>NaN</td>\n",
       "      <td>NaN</td>\n",
       "      <td>NaN</td>\n",
       "      <td>NaN</td>\n",
       "      <td>NaN</td>\n",
       "    </tr>\n",
       "    <tr>\n",
       "      <th>1096</th>\n",
       "      <td>NaN</td>\n",
       "      <td>NaN</td>\n",
       "      <td>NaN</td>\n",
       "      <td>NaN</td>\n",
       "      <td>NaN</td>\n",
       "      <td>NaN</td>\n",
       "      <td>NaN</td>\n",
       "      <td>NaN</td>\n",
       "      <td>NaN</td>\n",
       "      <td>NaN</td>\n",
       "    </tr>\n",
       "    <tr>\n",
       "      <th>1097</th>\n",
       "      <td>NaN</td>\n",
       "      <td>NaN</td>\n",
       "      <td>NaN</td>\n",
       "      <td>NaN</td>\n",
       "      <td>NaN</td>\n",
       "      <td>NaN</td>\n",
       "      <td>NaN</td>\n",
       "      <td>NaN</td>\n",
       "      <td>NaN</td>\n",
       "      <td>NaN</td>\n",
       "    </tr>\n",
       "    <tr>\n",
       "      <th>1098</th>\n",
       "      <td>NaN</td>\n",
       "      <td>NaN</td>\n",
       "      <td>NaN</td>\n",
       "      <td>NaN</td>\n",
       "      <td>NaN</td>\n",
       "      <td>NaN</td>\n",
       "      <td>NaN</td>\n",
       "      <td>NaN</td>\n",
       "      <td>NaN</td>\n",
       "      <td>NaN</td>\n",
       "    </tr>\n",
       "    <tr>\n",
       "      <th>1099</th>\n",
       "      <td>NaN</td>\n",
       "      <td>NaN</td>\n",
       "      <td>NaN</td>\n",
       "      <td>NaN</td>\n",
       "      <td>NaN</td>\n",
       "      <td>NaN</td>\n",
       "      <td>NaN</td>\n",
       "      <td>NaN</td>\n",
       "      <td>NaN</td>\n",
       "      <td>NaN</td>\n",
       "    </tr>\n",
       "  </tbody>\n",
       "</table>\n",
       "<p>1100 rows × 10 columns</p>\n",
       "</div>"
      ],
      "text/plain": [
       "      BUILDINGKEY  FLOORKEY       FLOORNAME NURSEKEY        NURSENAME  \\\n",
       "0             5.0       9.0  First Floor NT  00:00.0  Daycare Surgery   \n",
       "1             5.0       9.0  First Floor NT  00:00.0  Daycare Surgery   \n",
       "2             5.0       9.0  First Floor NT  00:00.0  Daycare Surgery   \n",
       "3             5.0       9.0  First Floor NT  00:00.0  Daycare Surgery   \n",
       "4             5.0       9.0  First Floor NT  00:00.0  Daycare Surgery   \n",
       "...           ...       ...             ...      ...              ...   \n",
       "1095          NaN       NaN             NaN      NaN              NaN   \n",
       "1096          NaN       NaN             NaN      NaN              NaN   \n",
       "1097          NaN       NaN             NaN      NaN              NaN   \n",
       "1098          NaN       NaN             NaN      NaN              NaN   \n",
       "1099          NaN       NaN             NaN      NaN              NaN   \n",
       "\n",
       "      ROOMKEY               ROOMNAME  BEDKEY BEDNAME           BEDSTATUS  \n",
       "0        33.0  Daycare NT (Day Care)    34.0   101-1  Occupied Discharge  \n",
       "1        33.0  Daycare NT (Day Care)    35.0  101-1P  Occupied Discharge  \n",
       "2        33.0  Daycare NT (Day Care)    36.0   101-2        Vacant Dirty  \n",
       "3        33.0  Daycare NT (Day Care)    37.0  101-2P        Vacant Dirty  \n",
       "4        33.0  Daycare NT (Day Care)    38.0   101-3        Vacant Dirty  \n",
       "...       ...                    ...     ...     ...                 ...  \n",
       "1095      NaN                    NaN     NaN     NaN                 NaN  \n",
       "1096      NaN                    NaN     NaN     NaN                 NaN  \n",
       "1097      NaN                    NaN     NaN     NaN                 NaN  \n",
       "1098      NaN                    NaN     NaN     NaN                 NaN  \n",
       "1099      NaN                    NaN     NaN     NaN                 NaN  \n",
       "\n",
       "[1100 rows x 10 columns]"
      ]
     },
     "execution_count": 3,
     "metadata": {},
     "output_type": "execute_result"
    }
   ],
   "source": [
    "pd.read_csv(r\"C:\\Users\\hp\\Downloads\\Assignement\\Assignement\\dataset.csv\")"
   ]
  },
  {
   "cell_type": "markdown",
   "id": "c8cc447d",
   "metadata": {},
   "source": []
  },
  {
   "cell_type": "markdown",
   "id": "92f5371e",
   "metadata": {},
   "source": []
  },
  {
   "cell_type": "code",
   "execution_count": 4,
   "id": "c1b68717",
   "metadata": {},
   "outputs": [],
   "source": [
    "df=pd.read_csv(r\"C:\\Users\\hp\\Downloads\\Assignement\\Assignement\\dataset.csv\")"
   ]
  },
  {
   "cell_type": "code",
   "execution_count": 5,
   "id": "5ecfbda2",
   "metadata": {},
   "outputs": [],
   "source": [
    "c=df.dropna()"
   ]
  },
  {
   "cell_type": "code",
   "execution_count": 6,
   "id": "d86709c6",
   "metadata": {},
   "outputs": [
    {
     "data": {
      "text/html": [
       "<div>\n",
       "<style scoped>\n",
       "    .dataframe tbody tr th:only-of-type {\n",
       "        vertical-align: middle;\n",
       "    }\n",
       "\n",
       "    .dataframe tbody tr th {\n",
       "        vertical-align: top;\n",
       "    }\n",
       "\n",
       "    .dataframe thead th {\n",
       "        text-align: right;\n",
       "    }\n",
       "</style>\n",
       "<table border=\"1\" class=\"dataframe\">\n",
       "  <thead>\n",
       "    <tr style=\"text-align: right;\">\n",
       "      <th></th>\n",
       "      <th>BUILDINGKEY</th>\n",
       "      <th>FLOORKEY</th>\n",
       "      <th>FLOORNAME</th>\n",
       "      <th>NURSEKEY</th>\n",
       "      <th>NURSENAME</th>\n",
       "      <th>ROOMKEY</th>\n",
       "      <th>ROOMNAME</th>\n",
       "      <th>BEDKEY</th>\n",
       "      <th>BEDNAME</th>\n",
       "      <th>BEDSTATUS</th>\n",
       "    </tr>\n",
       "  </thead>\n",
       "  <tbody>\n",
       "    <tr>\n",
       "      <th>0</th>\n",
       "      <td>5.0</td>\n",
       "      <td>9.0</td>\n",
       "      <td>First Floor NT</td>\n",
       "      <td>00:00.0</td>\n",
       "      <td>Daycare Surgery</td>\n",
       "      <td>33.0</td>\n",
       "      <td>Daycare NT (Day Care)</td>\n",
       "      <td>34.0</td>\n",
       "      <td>101-1</td>\n",
       "      <td>Occupied Discharge</td>\n",
       "    </tr>\n",
       "    <tr>\n",
       "      <th>1</th>\n",
       "      <td>5.0</td>\n",
       "      <td>9.0</td>\n",
       "      <td>First Floor NT</td>\n",
       "      <td>00:00.0</td>\n",
       "      <td>Daycare Surgery</td>\n",
       "      <td>33.0</td>\n",
       "      <td>Daycare NT (Day Care)</td>\n",
       "      <td>35.0</td>\n",
       "      <td>101-1P</td>\n",
       "      <td>Occupied Discharge</td>\n",
       "    </tr>\n",
       "    <tr>\n",
       "      <th>2</th>\n",
       "      <td>5.0</td>\n",
       "      <td>9.0</td>\n",
       "      <td>First Floor NT</td>\n",
       "      <td>00:00.0</td>\n",
       "      <td>Daycare Surgery</td>\n",
       "      <td>33.0</td>\n",
       "      <td>Daycare NT (Day Care)</td>\n",
       "      <td>36.0</td>\n",
       "      <td>101-2</td>\n",
       "      <td>Vacant Dirty</td>\n",
       "    </tr>\n",
       "    <tr>\n",
       "      <th>3</th>\n",
       "      <td>5.0</td>\n",
       "      <td>9.0</td>\n",
       "      <td>First Floor NT</td>\n",
       "      <td>00:00.0</td>\n",
       "      <td>Daycare Surgery</td>\n",
       "      <td>33.0</td>\n",
       "      <td>Daycare NT (Day Care)</td>\n",
       "      <td>37.0</td>\n",
       "      <td>101-2P</td>\n",
       "      <td>Vacant Dirty</td>\n",
       "    </tr>\n",
       "    <tr>\n",
       "      <th>4</th>\n",
       "      <td>5.0</td>\n",
       "      <td>9.0</td>\n",
       "      <td>First Floor NT</td>\n",
       "      <td>00:00.0</td>\n",
       "      <td>Daycare Surgery</td>\n",
       "      <td>33.0</td>\n",
       "      <td>Daycare NT (Day Care)</td>\n",
       "      <td>38.0</td>\n",
       "      <td>101-3</td>\n",
       "      <td>Vacant Dirty</td>\n",
       "    </tr>\n",
       "    <tr>\n",
       "      <th>...</th>\n",
       "      <td>...</td>\n",
       "      <td>...</td>\n",
       "      <td>...</td>\n",
       "      <td>...</td>\n",
       "      <td>...</td>\n",
       "      <td>...</td>\n",
       "      <td>...</td>\n",
       "      <td>...</td>\n",
       "      <td>...</td>\n",
       "      <td>...</td>\n",
       "    </tr>\n",
       "    <tr>\n",
       "      <th>995</th>\n",
       "      <td>5.0</td>\n",
       "      <td>13.0</td>\n",
       "      <td>Fifth Floor NT</td>\n",
       "      <td>411</td>\n",
       "      <td>NT Ward 5D</td>\n",
       "      <td>422.0</td>\n",
       "      <td>Room 579 (Single Bed)</td>\n",
       "      <td>442.0</td>\n",
       "      <td>579-1</td>\n",
       "      <td>Vacant Dirty</td>\n",
       "    </tr>\n",
       "    <tr>\n",
       "      <th>996</th>\n",
       "      <td>5.0</td>\n",
       "      <td>13.0</td>\n",
       "      <td>Fifth Floor NT</td>\n",
       "      <td>411</td>\n",
       "      <td>NT Ward 5D</td>\n",
       "      <td>423.0</td>\n",
       "      <td>Room 580 (Single Bed)</td>\n",
       "      <td>443.0</td>\n",
       "      <td>580-1</td>\n",
       "      <td>Occupied(Male)</td>\n",
       "    </tr>\n",
       "    <tr>\n",
       "      <th>997</th>\n",
       "      <td>5.0</td>\n",
       "      <td>13.0</td>\n",
       "      <td>Fifth Floor NT</td>\n",
       "      <td>411</td>\n",
       "      <td>NT Ward 5D</td>\n",
       "      <td>424.0</td>\n",
       "      <td>Room 581 (Single Bed)</td>\n",
       "      <td>444.0</td>\n",
       "      <td>581-1</td>\n",
       "      <td>Occupied(Female)</td>\n",
       "    </tr>\n",
       "    <tr>\n",
       "      <th>998</th>\n",
       "      <td>5.0</td>\n",
       "      <td>13.0</td>\n",
       "      <td>Fifth Floor NT</td>\n",
       "      <td>411</td>\n",
       "      <td>NT Ward 5D</td>\n",
       "      <td>425.0</td>\n",
       "      <td>Room 582 (Single Bed)</td>\n",
       "      <td>445.0</td>\n",
       "      <td>582-1</td>\n",
       "      <td>Occupied(Female)</td>\n",
       "    </tr>\n",
       "    <tr>\n",
       "      <th>999</th>\n",
       "      <td>5.0</td>\n",
       "      <td>13.0</td>\n",
       "      <td>Fifth Floor NT</td>\n",
       "      <td>411</td>\n",
       "      <td>NT Ward 5D</td>\n",
       "      <td>426.0</td>\n",
       "      <td>Room 583 (Four Bedded)</td>\n",
       "      <td>446.0</td>\n",
       "      <td>583-3</td>\n",
       "      <td>Vacant Dirty</td>\n",
       "    </tr>\n",
       "  </tbody>\n",
       "</table>\n",
       "<p>992 rows × 10 columns</p>\n",
       "</div>"
      ],
      "text/plain": [
       "     BUILDINGKEY  FLOORKEY       FLOORNAME NURSEKEY        NURSENAME  ROOMKEY  \\\n",
       "0            5.0       9.0  First Floor NT  00:00.0  Daycare Surgery     33.0   \n",
       "1            5.0       9.0  First Floor NT  00:00.0  Daycare Surgery     33.0   \n",
       "2            5.0       9.0  First Floor NT  00:00.0  Daycare Surgery     33.0   \n",
       "3            5.0       9.0  First Floor NT  00:00.0  Daycare Surgery     33.0   \n",
       "4            5.0       9.0  First Floor NT  00:00.0  Daycare Surgery     33.0   \n",
       "..           ...       ...             ...      ...              ...      ...   \n",
       "995          5.0      13.0  Fifth Floor NT      411       NT Ward 5D    422.0   \n",
       "996          5.0      13.0  Fifth Floor NT      411       NT Ward 5D    423.0   \n",
       "997          5.0      13.0  Fifth Floor NT      411       NT Ward 5D    424.0   \n",
       "998          5.0      13.0  Fifth Floor NT      411       NT Ward 5D    425.0   \n",
       "999          5.0      13.0  Fifth Floor NT      411       NT Ward 5D    426.0   \n",
       "\n",
       "                   ROOMNAME  BEDKEY BEDNAME           BEDSTATUS  \n",
       "0     Daycare NT (Day Care)    34.0   101-1  Occupied Discharge  \n",
       "1     Daycare NT (Day Care)    35.0  101-1P  Occupied Discharge  \n",
       "2     Daycare NT (Day Care)    36.0   101-2        Vacant Dirty  \n",
       "3     Daycare NT (Day Care)    37.0  101-2P        Vacant Dirty  \n",
       "4     Daycare NT (Day Care)    38.0   101-3        Vacant Dirty  \n",
       "..                      ...     ...     ...                 ...  \n",
       "995   Room 579 (Single Bed)   442.0   579-1        Vacant Dirty  \n",
       "996   Room 580 (Single Bed)   443.0   580-1      Occupied(Male)  \n",
       "997   Room 581 (Single Bed)   444.0   581-1    Occupied(Female)  \n",
       "998   Room 582 (Single Bed)   445.0   582-1    Occupied(Female)  \n",
       "999  Room 583 (Four Bedded)   446.0   583-3        Vacant Dirty  \n",
       "\n",
       "[992 rows x 10 columns]"
      ]
     },
     "execution_count": 6,
     "metadata": {},
     "output_type": "execute_result"
    }
   ],
   "source": [
    "c"
   ]
  },
  {
   "cell_type": "markdown",
   "id": "a6a79e63",
   "metadata": {},
   "source": [
    "# 1.\tGet the Count of beds in each ward."
   ]
  },
  {
   "cell_type": "code",
   "execution_count": 78,
   "id": "50d9b8bf",
   "metadata": {},
   "outputs": [],
   "source": [
    "E=c['NURSENAME']=='Daycare Surgery'"
   ]
  },
  {
   "cell_type": "code",
   "execution_count": 80,
   "id": "37540cbf",
   "metadata": {},
   "outputs": [
    {
     "name": "stdout",
     "output_type": "stream",
     "text": [
      "50\n"
     ]
    }
   ],
   "source": [
    "#count of bed in each ward(Daycare)\n",
    "count=0\n",
    "for i in E:\n",
    "    if i is True:\n",
    "        count=count+1\n",
    "print(count)        "
   ]
  },
  {
   "cell_type": "code",
   "execution_count": 81,
   "id": "aff41082",
   "metadata": {},
   "outputs": [],
   "source": [
    "E=c['NURSENAME']=='NT ICU'"
   ]
  },
  {
   "cell_type": "code",
   "execution_count": 82,
   "id": "58c50147",
   "metadata": {},
   "outputs": [
    {
     "name": "stdout",
     "output_type": "stream",
     "text": [
      "16\n"
     ]
    }
   ],
   "source": [
    "#count of bed in each ward(NT ICU)\n",
    "count=0\n",
    "for i in E:\n",
    "    if i is True:\n",
    "        count=count+1\n",
    "print(count)  "
   ]
  },
  {
   "cell_type": "code",
   "execution_count": 83,
   "id": "799a1eb9",
   "metadata": {},
   "outputs": [],
   "source": [
    "E=c['NURSENAME']=='NT Ward 2D'"
   ]
  },
  {
   "cell_type": "code",
   "execution_count": 84,
   "id": "33e78469",
   "metadata": {},
   "outputs": [
    {
     "name": "stdout",
     "output_type": "stream",
     "text": [
      "110\n"
     ]
    }
   ],
   "source": [
    "#count of bed in each ward(NT Ward 2D)\n",
    "count=0\n",
    "for i in E:\n",
    "    if i is True:\n",
    "        count=count+1\n",
    "print(count)  "
   ]
  },
  {
   "cell_type": "code",
   "execution_count": 85,
   "id": "b194ceac",
   "metadata": {},
   "outputs": [],
   "source": [
    "E=c['NURSENAME']=='NT Ward 3D'"
   ]
  },
  {
   "cell_type": "code",
   "execution_count": 86,
   "id": "18c25e21",
   "metadata": {},
   "outputs": [
    {
     "name": "stdout",
     "output_type": "stream",
     "text": [
      "78\n"
     ]
    }
   ],
   "source": [
    "#count of bed in each ward(NT Ward 3D)\n",
    "count=0\n",
    "for i in E:\n",
    "    if i is True:\n",
    "        count=count+1\n",
    "print(count)  "
   ]
  },
  {
   "cell_type": "code",
   "execution_count": 87,
   "id": "aa6c547b",
   "metadata": {},
   "outputs": [],
   "source": [
    "E=c['NURSENAME']=='NT Ward 4D'"
   ]
  },
  {
   "cell_type": "code",
   "execution_count": 88,
   "id": "5533ae51",
   "metadata": {},
   "outputs": [
    {
     "name": "stdout",
     "output_type": "stream",
     "text": [
      "76\n"
     ]
    }
   ],
   "source": [
    "#count of bed in each ward(NT Ward 4D)\n",
    "count=0\n",
    "for i in E:\n",
    "    if i is True:\n",
    "        count=count+1\n",
    "print(count)  "
   ]
  },
  {
   "cell_type": "code",
   "execution_count": 89,
   "id": "1e88666e",
   "metadata": {},
   "outputs": [],
   "source": [
    "E=c['NURSENAME']=='NT Ward 5D'"
   ]
  },
  {
   "cell_type": "code",
   "execution_count": 90,
   "id": "7b1484db",
   "metadata": {},
   "outputs": [
    {
     "name": "stdout",
     "output_type": "stream",
     "text": [
      "41\n"
     ]
    }
   ],
   "source": [
    "#count of bed in each ward(NT Ward 5D)\n",
    "count=0\n",
    "for i in E:\n",
    "    if i is True:\n",
    "        count=count+1\n",
    "print(count)  "
   ]
  },
  {
   "cell_type": "code",
   "execution_count": 91,
   "id": "651de56b",
   "metadata": {},
   "outputs": [],
   "source": [
    "E=c['NURSENAME']=='NT NICU'"
   ]
  },
  {
   "cell_type": "code",
   "execution_count": 92,
   "id": "f657ec24",
   "metadata": {},
   "outputs": [
    {
     "name": "stdout",
     "output_type": "stream",
     "text": [
      "8\n"
     ]
    }
   ],
   "source": [
    "#count of bed in each ward(NT NICU)\n",
    "count=0\n",
    "for i in E:\n",
    "    if i is True:\n",
    "        count=count+1\n",
    "print(count)  "
   ]
  },
  {
   "cell_type": "code",
   "execution_count": 93,
   "id": "5e1f6678",
   "metadata": {},
   "outputs": [],
   "source": [
    "E=c['NURSENAME']=='NT Admission Lounge'"
   ]
  },
  {
   "cell_type": "code",
   "execution_count": 94,
   "id": "f1ad0433",
   "metadata": {},
   "outputs": [
    {
     "name": "stdout",
     "output_type": "stream",
     "text": [
      "28\n"
     ]
    }
   ],
   "source": [
    "#count of bed in each ward(NT Admission Lounge)\n",
    "count=0\n",
    "for i in E:\n",
    "    if i is True:\n",
    "        count=count+1\n",
    "print(count)  "
   ]
  },
  {
   "cell_type": "code",
   "execution_count": 95,
   "id": "23aae1f6",
   "metadata": {},
   "outputs": [],
   "source": [
    "E=c['NURSENAME']=='NT Labour Room'"
   ]
  },
  {
   "cell_type": "code",
   "execution_count": 96,
   "id": "7476c522",
   "metadata": {},
   "outputs": [
    {
     "name": "stdout",
     "output_type": "stream",
     "text": [
      "42\n"
     ]
    }
   ],
   "source": [
    "#count of bed in each ward(NT Labour Room)\n",
    "count=0\n",
    "for i in E:\n",
    "    if i is True:\n",
    "        count=count+1\n",
    "print(count)  "
   ]
  },
  {
   "cell_type": "code",
   "execution_count": 97,
   "id": "cd9f716d",
   "metadata": {},
   "outputs": [],
   "source": [
    "E=c['NURSENAME']=='NT Nursery'"
   ]
  },
  {
   "cell_type": "code",
   "execution_count": 98,
   "id": "33e25be3",
   "metadata": {},
   "outputs": [
    {
     "name": "stdout",
     "output_type": "stream",
     "text": [
      "118\n"
     ]
    }
   ],
   "source": [
    "#count of bed in each ward(NT Nursery)\n",
    "count=0\n",
    "for i in E:\n",
    "    if i is True:\n",
    "        count=count+1\n",
    "print(count)  "
   ]
  },
  {
   "cell_type": "code",
   "execution_count": 99,
   "id": "bef1a092",
   "metadata": {},
   "outputs": [],
   "source": [
    "E=c['NURSENAME']=='NT Paed HDU'"
   ]
  },
  {
   "cell_type": "code",
   "execution_count": 100,
   "id": "6a149cb3",
   "metadata": {},
   "outputs": [
    {
     "name": "stdout",
     "output_type": "stream",
     "text": [
      "16\n"
     ]
    }
   ],
   "source": [
    "#count of bed in each ward(NT Paed HDU)\n",
    "count=0\n",
    "for i in E:\n",
    "    if i is True:\n",
    "        count=count+1\n",
    "print(count)  "
   ]
  },
  {
   "cell_type": "code",
   "execution_count": 122,
   "id": "7d6139aa",
   "metadata": {},
   "outputs": [],
   "source": [
    "E=c['NURSENAME']=='Daycare Endoscopy'"
   ]
  },
  {
   "cell_type": "code",
   "execution_count": 123,
   "id": "2afbaa4f",
   "metadata": {},
   "outputs": [
    {
     "name": "stdout",
     "output_type": "stream",
     "text": [
      "32\n"
     ]
    }
   ],
   "source": [
    "#count of bed in each ward(Daycare Endoscopy)\n",
    "count=0\n",
    "for i in E:\n",
    "    if i is True:\n",
    "        count=count+1\n",
    "print(count)  "
   ]
  },
  {
   "cell_type": "code",
   "execution_count": 124,
   "id": "84f8f622",
   "metadata": {},
   "outputs": [],
   "source": [
    "E=c['NURSENAME']=='ST ICU'"
   ]
  },
  {
   "cell_type": "code",
   "execution_count": 125,
   "id": "70f2d1de",
   "metadata": {},
   "outputs": [
    {
     "name": "stdout",
     "output_type": "stream",
     "text": [
      "9\n"
     ]
    }
   ],
   "source": [
    "#count of bed in each ward(ST ICU)\n",
    "count=0\n",
    "for i in E:\n",
    "    if i is True:\n",
    "        count=count+1\n",
    "print(count)  "
   ]
  },
  {
   "cell_type": "code",
   "execution_count": 134,
   "id": "5929d62b",
   "metadata": {},
   "outputs": [],
   "source": [
    "E=c['NURSENAME']=='ST Ward 5A'"
   ]
  },
  {
   "cell_type": "code",
   "execution_count": 135,
   "id": "1db106b5",
   "metadata": {},
   "outputs": [
    {
     "name": "stdout",
     "output_type": "stream",
     "text": [
      "35\n"
     ]
    }
   ],
   "source": [
    "#count of bed in each ward(ST Ward 5A)\n",
    "count=0\n",
    "for i in E:\n",
    "    if i is True:\n",
    "        count=count+1\n",
    "print(count)  "
   ]
  },
  {
   "cell_type": "code",
   "execution_count": 136,
   "id": "dd31618b",
   "metadata": {},
   "outputs": [],
   "source": [
    "E=c['NURSENAME']=='ST Ward 4A'"
   ]
  },
  {
   "cell_type": "code",
   "execution_count": 137,
   "id": "17b42f53",
   "metadata": {},
   "outputs": [
    {
     "name": "stdout",
     "output_type": "stream",
     "text": [
      "45\n"
     ]
    }
   ],
   "source": [
    "#count of bed in each ward(ST Ward 4A)\n",
    "count=0\n",
    "for i in E:\n",
    "    if i is True:\n",
    "        count=count+1\n",
    "print(count)  "
   ]
  },
  {
   "cell_type": "code",
   "execution_count": 138,
   "id": "5e148a79",
   "metadata": {},
   "outputs": [],
   "source": [
    "E=c['NURSENAME']=='ST Ward 3A'"
   ]
  },
  {
   "cell_type": "code",
   "execution_count": 139,
   "id": "581f5b0b",
   "metadata": {},
   "outputs": [
    {
     "name": "stdout",
     "output_type": "stream",
     "text": [
      "31\n"
     ]
    }
   ],
   "source": [
    "#count of bed in each ward(ST Ward 3A)\n",
    "count=0\n",
    "for i in E:\n",
    "    if i is True:\n",
    "        count=count+1\n",
    "print(count)  "
   ]
  },
  {
   "cell_type": "code",
   "execution_count": 140,
   "id": "73e00096",
   "metadata": {},
   "outputs": [],
   "source": [
    "E=c['NURSENAME']=='ST Ward 2A'"
   ]
  },
  {
   "cell_type": "code",
   "execution_count": 141,
   "id": "77c8cbdc",
   "metadata": {},
   "outputs": [
    {
     "name": "stdout",
     "output_type": "stream",
     "text": [
      "30\n"
     ]
    }
   ],
   "source": [
    "#count of bed in each ward(ST Ward 2A)\n",
    "count=0\n",
    "for i in E:\n",
    "    if i is True:\n",
    "        count=count+1\n",
    "print(count)  "
   ]
  },
  {
   "cell_type": "code",
   "execution_count": 142,
   "id": "7de3590e",
   "metadata": {},
   "outputs": [],
   "source": [
    "E=c['NURSENAME']=='ST CCU'"
   ]
  },
  {
   "cell_type": "code",
   "execution_count": 143,
   "id": "25ddfba5",
   "metadata": {},
   "outputs": [
    {
     "name": "stdout",
     "output_type": "stream",
     "text": [
      "11\n"
     ]
    }
   ],
   "source": [
    "#count of bed in each ward(ST CCU)\n",
    "count=0\n",
    "for i in E:\n",
    "    if i is True:\n",
    "        count=count+1\n",
    "print(count)  "
   ]
  },
  {
   "cell_type": "code",
   "execution_count": 144,
   "id": "28e2b9ab",
   "metadata": {},
   "outputs": [],
   "source": [
    "E=c['NURSENAME']=='Daycare Haemato & Onco Paed'"
   ]
  },
  {
   "cell_type": "code",
   "execution_count": 145,
   "id": "77dcf855",
   "metadata": {},
   "outputs": [
    {
     "name": "stdout",
     "output_type": "stream",
     "text": [
      "11\n"
     ]
    }
   ],
   "source": [
    "#count of bed in each ward(Daycare Haemato & Onco Paed)\n",
    "count=0\n",
    "for i in E:\n",
    "    if i is True:\n",
    "        count=count+1\n",
    "print(count)  "
   ]
  },
  {
   "cell_type": "code",
   "execution_count": 146,
   "id": "a644d67d",
   "metadata": {},
   "outputs": [],
   "source": [
    "E=c['NURSENAME']=='Daycare Imaging'"
   ]
  },
  {
   "cell_type": "code",
   "execution_count": 147,
   "id": "30711686",
   "metadata": {},
   "outputs": [
    {
     "name": "stdout",
     "output_type": "stream",
     "text": [
      "10\n"
     ]
    }
   ],
   "source": [
    "#count of bed in each ward(Daycare Imaging)\n",
    "count=0\n",
    "for i in E:\n",
    "    if i is True:\n",
    "        count=count+1\n",
    "print(count)  "
   ]
  },
  {
   "cell_type": "markdown",
   "id": "e11ae458",
   "metadata": {},
   "source": [
    "# 2.\tGet the count of bed in each room."
   ]
  },
  {
   "cell_type": "code",
   "execution_count": 173,
   "id": "85eb648a",
   "metadata": {},
   "outputs": [],
   "source": [
    "E=c['ROOMNAME']=='Daycare NT (Day Care)'"
   ]
  },
  {
   "cell_type": "code",
   "execution_count": 174,
   "id": "7bd7b058",
   "metadata": {},
   "outputs": [
    {
     "name": "stdout",
     "output_type": "stream",
     "text": [
      "50\n"
     ]
    }
   ],
   "source": [
    "count=0\n",
    "for i in E:\n",
    "    if i is True:\n",
    "        count=count+1\n",
    "print(count)    "
   ]
  },
  {
   "cell_type": "code",
   "execution_count": 184,
   "id": "f1ea7092",
   "metadata": {},
   "outputs": [],
   "source": [
    "E=c['ROOMNAME']=='Room 255 (Single Executive)'"
   ]
  },
  {
   "cell_type": "code",
   "execution_count": 185,
   "id": "b8d0af09",
   "metadata": {},
   "outputs": [
    {
     "name": "stdout",
     "output_type": "stream",
     "text": [
      "2\n"
     ]
    }
   ],
   "source": [
    "count=0\n",
    "for i in E:\n",
    "    if i is True:\n",
    "        count=count+1\n",
    "print(count) "
   ]
  },
  {
   "cell_type": "code",
   "execution_count": 479,
   "id": "d12d2881",
   "metadata": {},
   "outputs": [],
   "source": [
    "E=c['ROOMNAME']=='Room 256 (Double Bed)'"
   ]
  },
  {
   "cell_type": "code",
   "execution_count": 480,
   "id": "ba1af8d0",
   "metadata": {},
   "outputs": [
    {
     "name": "stdout",
     "output_type": "stream",
     "text": [
      "4\n"
     ]
    }
   ],
   "source": [
    "count=0\n",
    "for i in E:\n",
    "    if i is True:\n",
    "        count=count+1\n",
    "print(count) "
   ]
  },
  {
   "cell_type": "code",
   "execution_count": 481,
   "id": "2645f353",
   "metadata": {},
   "outputs": [],
   "source": [
    "E=c['ROOMNAME']=='Room 257 (Double Bed)'"
   ]
  },
  {
   "cell_type": "code",
   "execution_count": 482,
   "id": "7496af35",
   "metadata": {},
   "outputs": [
    {
     "name": "stdout",
     "output_type": "stream",
     "text": [
      "4\n"
     ]
    }
   ],
   "source": [
    "count=0\n",
    "for i in E:\n",
    "    if i is True:\n",
    "        count=count+1\n",
    "print(count) "
   ]
  },
  {
   "cell_type": "code",
   "execution_count": 483,
   "id": "c0245806",
   "metadata": {},
   "outputs": [],
   "source": [
    "E=c['ROOMNAME']=='Room 258 (Double Bed)'"
   ]
  },
  {
   "cell_type": "code",
   "execution_count": 484,
   "id": "4afe346c",
   "metadata": {},
   "outputs": [
    {
     "name": "stdout",
     "output_type": "stream",
     "text": [
      "4\n"
     ]
    }
   ],
   "source": [
    "count=0\n",
    "for i in E:\n",
    "    if i is True:\n",
    "        count=count+1\n",
    "print(count) "
   ]
  },
  {
   "cell_type": "code",
   "execution_count": 485,
   "id": "96184f06",
   "metadata": {},
   "outputs": [],
   "source": [
    "E=c['ROOMNAME']=='Room 260 (Single Bed)'"
   ]
  },
  {
   "cell_type": "code",
   "execution_count": 486,
   "id": "5374a65e",
   "metadata": {},
   "outputs": [
    {
     "name": "stdout",
     "output_type": "stream",
     "text": [
      "2\n"
     ]
    }
   ],
   "source": [
    "count=0\n",
    "for i in E:\n",
    "    if i is True:\n",
    "        count=count+1\n",
    "print(count) "
   ]
  },
  {
   "cell_type": "code",
   "execution_count": 487,
   "id": "71e048f0",
   "metadata": {},
   "outputs": [],
   "source": [
    "E=c['ROOMNAME']=='Room 261 (Single Bed)'"
   ]
  },
  {
   "cell_type": "code",
   "execution_count": 488,
   "id": "a0fbd92c",
   "metadata": {},
   "outputs": [
    {
     "name": "stdout",
     "output_type": "stream",
     "text": [
      "2\n"
     ]
    }
   ],
   "source": [
    "count=0\n",
    "for i in E:\n",
    "    if i is True:\n",
    "        count=count+1\n",
    "print(count) "
   ]
  },
  {
   "cell_type": "code",
   "execution_count": 489,
   "id": "3ed700c9",
   "metadata": {},
   "outputs": [],
   "source": [
    "E=c['ROOMNAME']=='Room 262 (Single Bed)'"
   ]
  },
  {
   "cell_type": "code",
   "execution_count": 490,
   "id": "68b3bbca",
   "metadata": {},
   "outputs": [
    {
     "name": "stdout",
     "output_type": "stream",
     "text": [
      "2\n"
     ]
    }
   ],
   "source": [
    "count=0\n",
    "for i in E:\n",
    "    if i is True:\n",
    "        count=count+1\n",
    "print(count) "
   ]
  },
  {
   "cell_type": "code",
   "execution_count": 491,
   "id": "45c4b84f",
   "metadata": {},
   "outputs": [],
   "source": [
    "E=c['ROOMNAME']=='Room 263 (Single Bed)'"
   ]
  },
  {
   "cell_type": "code",
   "execution_count": 492,
   "id": "6566f0ea",
   "metadata": {},
   "outputs": [
    {
     "name": "stdout",
     "output_type": "stream",
     "text": [
      "2\n"
     ]
    }
   ],
   "source": [
    "count=0\n",
    "for i in E:\n",
    "    if i is True:\n",
    "        count=count+1\n",
    "print(count) "
   ]
  },
  {
   "cell_type": "code",
   "execution_count": 493,
   "id": "bc7de2dd",
   "metadata": {},
   "outputs": [],
   "source": [
    "E=c['ROOMNAME']=='Room 264 (Single Bed)'"
   ]
  },
  {
   "cell_type": "code",
   "execution_count": 494,
   "id": "bc7b6495",
   "metadata": {},
   "outputs": [
    {
     "name": "stdout",
     "output_type": "stream",
     "text": [
      "2\n"
     ]
    }
   ],
   "source": [
    "count=0\n",
    "for i in E:\n",
    "    if i is True:\n",
    "        count=count+1\n",
    "print(count) "
   ]
  },
  {
   "cell_type": "code",
   "execution_count": 495,
   "id": "c8ad9cd4",
   "metadata": {},
   "outputs": [],
   "source": [
    "E=c['ROOMNAME']=='Room 265 (Single Bed)'"
   ]
  },
  {
   "cell_type": "code",
   "execution_count": 496,
   "id": "6fc38efc",
   "metadata": {},
   "outputs": [
    {
     "name": "stdout",
     "output_type": "stream",
     "text": [
      "2\n"
     ]
    }
   ],
   "source": [
    "count=0\n",
    "for i in E:\n",
    "    if i is True:\n",
    "        count=count+1\n",
    "print(count) "
   ]
  },
  {
   "cell_type": "code",
   "execution_count": 196,
   "id": "7a219a11",
   "metadata": {},
   "outputs": [],
   "source": [
    "E=c['ROOMNAME']=='Room 266 (Single Bed)'"
   ]
  },
  {
   "cell_type": "code",
   "execution_count": 497,
   "id": "c3c2f94f",
   "metadata": {},
   "outputs": [
    {
     "name": "stdout",
     "output_type": "stream",
     "text": [
      "2\n"
     ]
    }
   ],
   "source": [
    "count=0\n",
    "for i in E:\n",
    "    if i is True:\n",
    "        count=count+1\n",
    "print(count) "
   ]
  },
  {
   "cell_type": "code",
   "execution_count": 498,
   "id": "b08286ad",
   "metadata": {},
   "outputs": [],
   "source": [
    "E=c['ROOMNAME']=='Room 267 (Single Bed)'"
   ]
  },
  {
   "cell_type": "code",
   "execution_count": 499,
   "id": "be24b06f",
   "metadata": {},
   "outputs": [
    {
     "name": "stdout",
     "output_type": "stream",
     "text": [
      "2\n"
     ]
    }
   ],
   "source": [
    "count=0\n",
    "for i in E:\n",
    "    if i is True:\n",
    "        count=count+1\n",
    "print(count) "
   ]
  },
  {
   "cell_type": "code",
   "execution_count": 500,
   "id": "b1794906",
   "metadata": {},
   "outputs": [],
   "source": [
    "E=c['ROOMNAME']=='Room 268 (Suite)'"
   ]
  },
  {
   "cell_type": "code",
   "execution_count": 501,
   "id": "bbb152b2",
   "metadata": {},
   "outputs": [
    {
     "name": "stdout",
     "output_type": "stream",
     "text": [
      "2\n"
     ]
    }
   ],
   "source": [
    "count=0\n",
    "for i in E:\n",
    "    if i is True:\n",
    "        count=count+1\n",
    "print(count) "
   ]
  },
  {
   "cell_type": "code",
   "execution_count": 502,
   "id": "6ab7cf19",
   "metadata": {},
   "outputs": [],
   "source": [
    "E=c['ROOMNAME']=='Room 269 (Single Bed)'"
   ]
  },
  {
   "cell_type": "code",
   "execution_count": 503,
   "id": "935eea24",
   "metadata": {},
   "outputs": [
    {
     "name": "stdout",
     "output_type": "stream",
     "text": [
      "2\n"
     ]
    }
   ],
   "source": [
    "count=0\n",
    "for i in E:\n",
    "    if i is True:\n",
    "        count=count+1\n",
    "print(count) "
   ]
  },
  {
   "cell_type": "code",
   "execution_count": 504,
   "id": "c1efa5de",
   "metadata": {},
   "outputs": [],
   "source": [
    "E=c['ROOMNAME']=='Room 270 (Single Bed)'"
   ]
  },
  {
   "cell_type": "code",
   "execution_count": 505,
   "id": "2da290ca",
   "metadata": {},
   "outputs": [
    {
     "name": "stdout",
     "output_type": "stream",
     "text": [
      "2\n"
     ]
    }
   ],
   "source": [
    "count=0\n",
    "for i in E:\n",
    "    if i is True:\n",
    "        count=count+1\n",
    "print(count) "
   ]
  },
  {
   "cell_type": "code",
   "execution_count": 506,
   "id": "5aac9645",
   "metadata": {},
   "outputs": [],
   "source": [
    "E=c['ROOMNAME']=='Room 271 (Single Bed)'"
   ]
  },
  {
   "cell_type": "code",
   "execution_count": 507,
   "id": "a4845a2b",
   "metadata": {},
   "outputs": [
    {
     "name": "stdout",
     "output_type": "stream",
     "text": [
      "2\n"
     ]
    }
   ],
   "source": [
    "count=0\n",
    "for i in E:\n",
    "    if i is True:\n",
    "        count=count+1\n",
    "print(count) "
   ]
  },
  {
   "cell_type": "code",
   "execution_count": 508,
   "id": "7f936575",
   "metadata": {},
   "outputs": [],
   "source": [
    "E=c['ROOMNAME']=='Room 272 (Single Bed)'"
   ]
  },
  {
   "cell_type": "code",
   "execution_count": 509,
   "id": "b286e2a5",
   "metadata": {},
   "outputs": [
    {
     "name": "stdout",
     "output_type": "stream",
     "text": [
      "2\n"
     ]
    }
   ],
   "source": [
    "count=0\n",
    "for i in E:\n",
    "    if i is True:\n",
    "        count=count+1\n",
    "print(count) "
   ]
  },
  {
   "cell_type": "code",
   "execution_count": 510,
   "id": "69046e32",
   "metadata": {},
   "outputs": [],
   "source": [
    "E=c['ROOMNAME']=='Room 273 (Four Bedded)'"
   ]
  },
  {
   "cell_type": "code",
   "execution_count": 511,
   "id": "dae82a7f",
   "metadata": {},
   "outputs": [
    {
     "name": "stdout",
     "output_type": "stream",
     "text": [
      "4\n"
     ]
    }
   ],
   "source": [
    "count=0\n",
    "for i in E:\n",
    "    if i is True:\n",
    "        count=count+1\n",
    "print(count) "
   ]
  },
  {
   "cell_type": "code",
   "execution_count": 512,
   "id": "3a094e5f",
   "metadata": {},
   "outputs": [],
   "source": [
    "E=c['ROOMNAME']=='Room 274 (Double Bed)'"
   ]
  },
  {
   "cell_type": "code",
   "execution_count": 513,
   "id": "7f87b695",
   "metadata": {},
   "outputs": [
    {
     "name": "stdout",
     "output_type": "stream",
     "text": [
      "4\n"
     ]
    }
   ],
   "source": [
    "count=0\n",
    "for i in E:\n",
    "    if i is True:\n",
    "        count=count+1\n",
    "print(count) "
   ]
  },
  {
   "cell_type": "code",
   "execution_count": 514,
   "id": "7e04bcc1",
   "metadata": {},
   "outputs": [],
   "source": [
    "E=c['ROOMNAME']=='Room 275 (Double Bed)'"
   ]
  },
  {
   "cell_type": "code",
   "execution_count": 515,
   "id": "b5359f99",
   "metadata": {
    "scrolled": true
   },
   "outputs": [
    {
     "name": "stdout",
     "output_type": "stream",
     "text": [
      "4\n"
     ]
    }
   ],
   "source": [
    "count=0\n",
    "for i in E:\n",
    "    if i is True:\n",
    "        count=count+1\n",
    "print(count) "
   ]
  },
  {
   "cell_type": "code",
   "execution_count": 516,
   "id": "bb4d62a4",
   "metadata": {},
   "outputs": [],
   "source": [
    "E=c['ROOMNAME']=='Room 276 (Phototherapy)'"
   ]
  },
  {
   "cell_type": "code",
   "execution_count": 517,
   "id": "8e624675",
   "metadata": {},
   "outputs": [
    {
     "name": "stdout",
     "output_type": "stream",
     "text": [
      "12\n"
     ]
    }
   ],
   "source": [
    "count=0\n",
    "for i in E:\n",
    "    if i is True:\n",
    "        count=count+1\n",
    "print(count) "
   ]
  },
  {
   "cell_type": "code",
   "execution_count": 518,
   "id": "ed087623",
   "metadata": {},
   "outputs": [],
   "source": [
    "E=c['ROOMNAME']=='Room 277 (Double Bed)'"
   ]
  },
  {
   "cell_type": "code",
   "execution_count": 519,
   "id": "f0f43d84",
   "metadata": {},
   "outputs": [
    {
     "name": "stdout",
     "output_type": "stream",
     "text": [
      "4\n"
     ]
    }
   ],
   "source": [
    "count=0\n",
    "for i in E:\n",
    "    if i is True:\n",
    "        count=count+1\n",
    "print(count) "
   ]
  },
  {
   "cell_type": "code",
   "execution_count": 520,
   "id": "21bfe847",
   "metadata": {},
   "outputs": [],
   "source": [
    "E=c['ROOMNAME']=='Room 278 (Single Bed)'"
   ]
  },
  {
   "cell_type": "code",
   "execution_count": 521,
   "id": "ff04aed0",
   "metadata": {},
   "outputs": [
    {
     "name": "stdout",
     "output_type": "stream",
     "text": [
      "2\n"
     ]
    }
   ],
   "source": [
    "count=0\n",
    "for i in E:\n",
    "    if i is True:\n",
    "        count=count+1\n",
    "print(count) "
   ]
  },
  {
   "cell_type": "code",
   "execution_count": 524,
   "id": "9fc42162",
   "metadata": {},
   "outputs": [],
   "source": [
    "E=c['ROOMNAME']=='Room 279 (Single Bed)'"
   ]
  },
  {
   "cell_type": "code",
   "execution_count": 525,
   "id": "f1dfe79d",
   "metadata": {},
   "outputs": [
    {
     "name": "stdout",
     "output_type": "stream",
     "text": [
      "2\n"
     ]
    }
   ],
   "source": [
    "count=0\n",
    "for i in E:\n",
    "    if i is True:\n",
    "        count=count+1\n",
    "print(count) "
   ]
  },
  {
   "cell_type": "code",
   "execution_count": 526,
   "id": "096f453f",
   "metadata": {},
   "outputs": [],
   "source": [
    "E=c['ROOMNAME']=='Room 280 (Single Bed)'"
   ]
  },
  {
   "cell_type": "code",
   "execution_count": 527,
   "id": "1e0a8b5c",
   "metadata": {},
   "outputs": [
    {
     "name": "stdout",
     "output_type": "stream",
     "text": [
      "2\n"
     ]
    }
   ],
   "source": [
    "count=0\n",
    "for i in E:\n",
    "    if i is True:\n",
    "        count=count+1\n",
    "print(count) "
   ]
  },
  {
   "cell_type": "code",
   "execution_count": 528,
   "id": "3c8bf73d",
   "metadata": {},
   "outputs": [],
   "source": [
    "E=c['ROOMNAME']=='Room 281 (Suite)'"
   ]
  },
  {
   "cell_type": "code",
   "execution_count": 529,
   "id": "682f26aa",
   "metadata": {},
   "outputs": [
    {
     "name": "stdout",
     "output_type": "stream",
     "text": [
      "2\n"
     ]
    }
   ],
   "source": [
    "count=0\n",
    "for i in E:\n",
    "    if i is True:\n",
    "        count=count+1\n",
    "print(count) "
   ]
  },
  {
   "cell_type": "code",
   "execution_count": 530,
   "id": "d4f49470",
   "metadata": {},
   "outputs": [],
   "source": [
    "E=c['ROOMNAME']=='Room 283 (Single Bed)'"
   ]
  },
  {
   "cell_type": "code",
   "execution_count": 531,
   "id": "52129c07",
   "metadata": {},
   "outputs": [
    {
     "name": "stdout",
     "output_type": "stream",
     "text": [
      "2\n"
     ]
    }
   ],
   "source": [
    "count=0\n",
    "for i in E:\n",
    "    if i is True:\n",
    "        count=count+1\n",
    "print(count) "
   ]
  },
  {
   "cell_type": "code",
   "execution_count": 532,
   "id": "a5a7d905",
   "metadata": {},
   "outputs": [],
   "source": [
    "E=c['ROOMNAME']=='Room 284 (Single Bed)'"
   ]
  },
  {
   "cell_type": "code",
   "execution_count": 533,
   "id": "f8aab6c4",
   "metadata": {},
   "outputs": [
    {
     "name": "stdout",
     "output_type": "stream",
     "text": [
      "2\n"
     ]
    }
   ],
   "source": [
    "count=0\n",
    "for i in E:\n",
    "    if i is True:\n",
    "        count=count+1\n",
    "print(count) "
   ]
  },
  {
   "cell_type": "code",
   "execution_count": 534,
   "id": "8d8f1241",
   "metadata": {},
   "outputs": [],
   "source": [
    "E=c['ROOMNAME']=='Room 288 (Double Bed)'"
   ]
  },
  {
   "cell_type": "code",
   "execution_count": 535,
   "id": "d9eac9ad",
   "metadata": {},
   "outputs": [
    {
     "name": "stdout",
     "output_type": "stream",
     "text": [
      "6\n"
     ]
    }
   ],
   "source": [
    "count=0\n",
    "for i in E:\n",
    "    if i is True:\n",
    "        count=count+1\n",
    "print(count) "
   ]
  },
  {
   "cell_type": "code",
   "execution_count": 536,
   "id": "417bf0ee",
   "metadata": {},
   "outputs": [],
   "source": [
    "E=c['ROOMNAME']=='Room 289 (Double Bed)'"
   ]
  },
  {
   "cell_type": "code",
   "execution_count": 537,
   "id": "10baf948",
   "metadata": {},
   "outputs": [
    {
     "name": "stdout",
     "output_type": "stream",
     "text": [
      "6\n"
     ]
    }
   ],
   "source": [
    "count=0\n",
    "for i in E:\n",
    "    if i is True:\n",
    "        count=count+1\n",
    "print(count) "
   ]
  },
  {
   "cell_type": "code",
   "execution_count": 538,
   "id": "40103861",
   "metadata": {},
   "outputs": [],
   "source": [
    "E=c['ROOMNAME']=='Room 290 (Double Bed)'"
   ]
  },
  {
   "cell_type": "code",
   "execution_count": 539,
   "id": "e266f209",
   "metadata": {},
   "outputs": [
    {
     "name": "stdout",
     "output_type": "stream",
     "text": [
      "6\n"
     ]
    }
   ],
   "source": [
    "count=0\n",
    "for i in E:\n",
    "    if i is True:\n",
    "        count=count+1\n",
    "print(count) "
   ]
  },
  {
   "cell_type": "code",
   "execution_count": 540,
   "id": "b30f4a8c",
   "metadata": {},
   "outputs": [],
   "source": [
    "E=c['ROOMNAME']=='Room 291 (Double Bed)'"
   ]
  },
  {
   "cell_type": "code",
   "execution_count": 541,
   "id": "887e5cc8",
   "metadata": {},
   "outputs": [
    {
     "name": "stdout",
     "output_type": "stream",
     "text": [
      "6\n"
     ]
    }
   ],
   "source": [
    "count=0\n",
    "for i in E:\n",
    "    if i is True:\n",
    "        count=count+1\n",
    "print(count) "
   ]
  },
  {
   "cell_type": "code",
   "execution_count": 542,
   "id": "04ffddb2",
   "metadata": {},
   "outputs": [],
   "source": [
    "E=c['ROOMNAME']=='Room 292-1E (Single Executive)'"
   ]
  },
  {
   "cell_type": "code",
   "execution_count": 543,
   "id": "853da9da",
   "metadata": {},
   "outputs": [
    {
     "name": "stdout",
     "output_type": "stream",
     "text": [
      "2\n"
     ]
    }
   ],
   "source": [
    "count=0\n",
    "for i in E:\n",
    "    if i is True:\n",
    "        count=count+1\n",
    "print(count) "
   ]
  },
  {
   "cell_type": "code",
   "execution_count": 544,
   "id": "ff6a8074",
   "metadata": {},
   "outputs": [],
   "source": [
    "E=c['ROOMNAME']=='NICU NT (NICU)'"
   ]
  },
  {
   "cell_type": "code",
   "execution_count": 545,
   "id": "6daca415",
   "metadata": {},
   "outputs": [
    {
     "name": "stdout",
     "output_type": "stream",
     "text": [
      "8\n"
     ]
    }
   ],
   "source": [
    "count=0\n",
    "for i in E:\n",
    "    if i is True:\n",
    "        count=count+1\n",
    "print(count) "
   ]
  },
  {
   "cell_type": "code",
   "execution_count": 546,
   "id": "348d65c9",
   "metadata": {},
   "outputs": [],
   "source": [
    "E=c['ROOMNAME']=='Room 299 (Admission Lounge)'"
   ]
  },
  {
   "cell_type": "code",
   "execution_count": 547,
   "id": "96bfbffd",
   "metadata": {},
   "outputs": [
    {
     "name": "stdout",
     "output_type": "stream",
     "text": [
      "28\n"
     ]
    }
   ],
   "source": [
    "count=0\n",
    "for i in E:\n",
    "    if i is True:\n",
    "        count=count+1\n",
    "print(count) "
   ]
  },
  {
   "cell_type": "code",
   "execution_count": 548,
   "id": "1cfa4150",
   "metadata": {},
   "outputs": [],
   "source": [
    "E=c['ROOMNAME']=='NT PAED HDU (HDU)'"
   ]
  },
  {
   "cell_type": "code",
   "execution_count": 549,
   "id": "dc8393d8",
   "metadata": {},
   "outputs": [
    {
     "name": "stdout",
     "output_type": "stream",
     "text": [
      "16\n"
     ]
    }
   ],
   "source": [
    "count=0\n",
    "for i in E:\n",
    "    if i is True:\n",
    "        count=count+1\n",
    "print(count) "
   ]
  },
  {
   "cell_type": "code",
   "execution_count": 550,
   "id": "a05277a2",
   "metadata": {},
   "outputs": [],
   "source": [
    "E=c['ROOMNAME']=='Room 350 (Nursery Bed)'"
   ]
  },
  {
   "cell_type": "code",
   "execution_count": 551,
   "id": "82b9b795",
   "metadata": {},
   "outputs": [
    {
     "name": "stdout",
     "output_type": "stream",
     "text": [
      "80\n"
     ]
    }
   ],
   "source": [
    "count=0\n",
    "for i in E:\n",
    "    if i is True:\n",
    "        count=count+1\n",
    "print(count) "
   ]
  },
  {
   "cell_type": "code",
   "execution_count": 552,
   "id": "5c225b5f",
   "metadata": {},
   "outputs": [],
   "source": [
    "E=c['ROOMNAME']=='Room 351 (Incubator)'"
   ]
  },
  {
   "cell_type": "code",
   "execution_count": 553,
   "id": "c6c0bc6a",
   "metadata": {},
   "outputs": [
    {
     "name": "stdout",
     "output_type": "stream",
     "text": [
      "10\n"
     ]
    }
   ],
   "source": [
    "count=0\n",
    "for i in E:\n",
    "    if i is True:\n",
    "        count=count+1\n",
    "print(count) "
   ]
  },
  {
   "cell_type": "code",
   "execution_count": 554,
   "id": "5c171481",
   "metadata": {},
   "outputs": [],
   "source": [
    "E=c['ROOMNAME']=='Room 352 (NHDU)'"
   ]
  },
  {
   "cell_type": "code",
   "execution_count": 555,
   "id": "221a5bec",
   "metadata": {},
   "outputs": [
    {
     "name": "stdout",
     "output_type": "stream",
     "text": [
      "8\n"
     ]
    }
   ],
   "source": [
    "count=0\n",
    "for i in E:\n",
    "    if i is True:\n",
    "        count=count+1\n",
    "print(count) "
   ]
  },
  {
   "cell_type": "code",
   "execution_count": 556,
   "id": "7fa987ea",
   "metadata": {},
   "outputs": [],
   "source": [
    "E=c['ROOMNAME']=='Room 353 (Double Bed)'"
   ]
  },
  {
   "cell_type": "code",
   "execution_count": 557,
   "id": "0b44aed4",
   "metadata": {},
   "outputs": [
    {
     "name": "stdout",
     "output_type": "stream",
     "text": [
      "6\n"
     ]
    }
   ],
   "source": [
    "count=0\n",
    "for i in E:\n",
    "    if i is True:\n",
    "        count=count+1\n",
    "print(count) "
   ]
  },
  {
   "cell_type": "code",
   "execution_count": 558,
   "id": "691f6682",
   "metadata": {},
   "outputs": [],
   "source": [
    "E=c['ROOMNAME']=='Room 354 (Double Bed)'"
   ]
  },
  {
   "cell_type": "code",
   "execution_count": 559,
   "id": "eb910d9a",
   "metadata": {},
   "outputs": [
    {
     "name": "stdout",
     "output_type": "stream",
     "text": [
      "4\n"
     ]
    }
   ],
   "source": [
    "count=0\n",
    "for i in E:\n",
    "    if i is True:\n",
    "        count=count+1\n",
    "print(count) "
   ]
  },
  {
   "cell_type": "code",
   "execution_count": 560,
   "id": "68dc9fe9",
   "metadata": {},
   "outputs": [],
   "source": [
    "E=c['ROOMNAME']=='Room 355 (Single Bed)'"
   ]
  },
  {
   "cell_type": "code",
   "execution_count": 561,
   "id": "d4f80bc9",
   "metadata": {},
   "outputs": [
    {
     "name": "stdout",
     "output_type": "stream",
     "text": [
      "2\n"
     ]
    }
   ],
   "source": [
    "count=0\n",
    "for i in E:\n",
    "    if i is True:\n",
    "        count=count+1\n",
    "print(count) "
   ]
  },
  {
   "cell_type": "code",
   "execution_count": 562,
   "id": "7698edd8",
   "metadata": {},
   "outputs": [],
   "source": [
    "E=c['ROOMNAME']=='Room 356 (Single Bed)'"
   ]
  },
  {
   "cell_type": "code",
   "execution_count": 563,
   "id": "fdab33d4",
   "metadata": {},
   "outputs": [
    {
     "name": "stdout",
     "output_type": "stream",
     "text": [
      "2\n"
     ]
    }
   ],
   "source": [
    "count=0\n",
    "for i in E:\n",
    "    if i is True:\n",
    "        count=count+1\n",
    "print(count) "
   ]
  },
  {
   "cell_type": "code",
   "execution_count": 564,
   "id": "b9175fe6",
   "metadata": {},
   "outputs": [],
   "source": [
    "E=c['ROOMNAME']=='Room 357 (Single Bed)'"
   ]
  },
  {
   "cell_type": "code",
   "execution_count": 565,
   "id": "256488f2",
   "metadata": {},
   "outputs": [
    {
     "name": "stdout",
     "output_type": "stream",
     "text": [
      "2\n"
     ]
    }
   ],
   "source": [
    "count=0\n",
    "for i in E:\n",
    "    if i is True:\n",
    "        count=count+1\n",
    "print(count) "
   ]
  },
  {
   "cell_type": "code",
   "execution_count": 566,
   "id": "e480325e",
   "metadata": {},
   "outputs": [],
   "source": [
    "E=c['ROOMNAME']=='Room 358 (Single Bed)'"
   ]
  },
  {
   "cell_type": "code",
   "execution_count": 567,
   "id": "995caa55",
   "metadata": {},
   "outputs": [
    {
     "name": "stdout",
     "output_type": "stream",
     "text": [
      "2\n"
     ]
    }
   ],
   "source": [
    "count=0\n",
    "for i in E:\n",
    "    if i is True:\n",
    "        count=count+1\n",
    "print(count) "
   ]
  },
  {
   "cell_type": "code",
   "execution_count": 568,
   "id": "f364c045",
   "metadata": {},
   "outputs": [],
   "source": [
    "E=c['ROOMNAME']=='Room 359 (Single Bed)'"
   ]
  },
  {
   "cell_type": "code",
   "execution_count": 569,
   "id": "daf2ad86",
   "metadata": {},
   "outputs": [
    {
     "name": "stdout",
     "output_type": "stream",
     "text": [
      "2\n"
     ]
    }
   ],
   "source": [
    "count=0\n",
    "for i in E:\n",
    "    if i is True:\n",
    "        count=count+1\n",
    "print(count) "
   ]
  },
  {
   "cell_type": "code",
   "execution_count": 570,
   "id": "afd69d0b",
   "metadata": {},
   "outputs": [],
   "source": [
    "E=c['ROOMNAME']=='Room 360 (Single Bed)'"
   ]
  },
  {
   "cell_type": "code",
   "execution_count": 571,
   "id": "2a0f04a6",
   "metadata": {},
   "outputs": [
    {
     "name": "stdout",
     "output_type": "stream",
     "text": [
      "2\n"
     ]
    }
   ],
   "source": [
    "count=0\n",
    "for i in E:\n",
    "    if i is True:\n",
    "        count=count+1\n",
    "print(count) "
   ]
  },
  {
   "cell_type": "code",
   "execution_count": 572,
   "id": "49e6b86b",
   "metadata": {},
   "outputs": [],
   "source": [
    "E=c['ROOMNAME']=='Room 361 (Single Bed)'"
   ]
  },
  {
   "cell_type": "code",
   "execution_count": 573,
   "id": "e776ba16",
   "metadata": {},
   "outputs": [
    {
     "name": "stdout",
     "output_type": "stream",
     "text": [
      "2\n"
     ]
    }
   ],
   "source": [
    "count=0\n",
    "for i in E:\n",
    "    if i is True:\n",
    "        count=count+1\n",
    "print(count) "
   ]
  },
  {
   "cell_type": "code",
   "execution_count": 574,
   "id": "d1191fa4",
   "metadata": {},
   "outputs": [],
   "source": [
    "E=c['ROOMNAME']=='Room 362 (Single Bed)'"
   ]
  },
  {
   "cell_type": "code",
   "execution_count": 575,
   "id": "34f5306c",
   "metadata": {},
   "outputs": [
    {
     "name": "stdout",
     "output_type": "stream",
     "text": [
      "2\n"
     ]
    }
   ],
   "source": [
    "count=0\n",
    "for i in E:\n",
    "    if i is True:\n",
    "        count=count+1\n",
    "print(count) "
   ]
  },
  {
   "cell_type": "code",
   "execution_count": 576,
   "id": "8f2cbf08",
   "metadata": {},
   "outputs": [],
   "source": [
    "E=c['ROOMNAME']=='Room 363 (Single Bed)'"
   ]
  },
  {
   "cell_type": "code",
   "execution_count": 577,
   "id": "56b1fbdd",
   "metadata": {},
   "outputs": [
    {
     "name": "stdout",
     "output_type": "stream",
     "text": [
      "2\n"
     ]
    }
   ],
   "source": [
    "count=0\n",
    "for i in E:\n",
    "    if i is True:\n",
    "        count=count+1\n",
    "print(count) "
   ]
  },
  {
   "cell_type": "code",
   "execution_count": 578,
   "id": "18e9b9e8",
   "metadata": {},
   "outputs": [],
   "source": [
    "E=c['ROOMNAME']=='Room 364 (Single Bed)'"
   ]
  },
  {
   "cell_type": "code",
   "execution_count": 579,
   "id": "38449832",
   "metadata": {},
   "outputs": [
    {
     "name": "stdout",
     "output_type": "stream",
     "text": [
      "2\n"
     ]
    }
   ],
   "source": [
    "count=0\n",
    "for i in E:\n",
    "    if i is True:\n",
    "        count=count+1\n",
    "print(count) "
   ]
  },
  {
   "cell_type": "code",
   "execution_count": 580,
   "id": "50bf2d3e",
   "metadata": {},
   "outputs": [],
   "source": [
    "E=c['ROOMNAME']=='Room 365 (Suite)'"
   ]
  },
  {
   "cell_type": "code",
   "execution_count": 581,
   "id": "d4684341",
   "metadata": {},
   "outputs": [
    {
     "name": "stdout",
     "output_type": "stream",
     "text": [
      "4\n"
     ]
    }
   ],
   "source": [
    "count=0\n",
    "for i in E:\n",
    "    if i is True:\n",
    "        count=count+1\n",
    "print(count) "
   ]
  },
  {
   "cell_type": "code",
   "execution_count": null,
   "id": "9e2326d2",
   "metadata": {},
   "outputs": [],
   "source": []
  },
  {
   "cell_type": "code",
   "execution_count": 582,
   "id": "9cb74a05",
   "metadata": {},
   "outputs": [],
   "source": [
    "E=c['ROOMNAME']=='Room 366 (Single Bed)'"
   ]
  },
  {
   "cell_type": "code",
   "execution_count": 583,
   "id": "db6d2984",
   "metadata": {},
   "outputs": [
    {
     "name": "stdout",
     "output_type": "stream",
     "text": [
      "2\n"
     ]
    }
   ],
   "source": [
    "count=0\n",
    "for i in E:\n",
    "    if i is True:\n",
    "        count=count+1\n",
    "print(count) "
   ]
  },
  {
   "cell_type": "code",
   "execution_count": 584,
   "id": "3040ab7f",
   "metadata": {},
   "outputs": [],
   "source": [
    "E=c['ROOMNAME']=='Room 367 (Single Bed)'"
   ]
  },
  {
   "cell_type": "code",
   "execution_count": 585,
   "id": "31c1b97e",
   "metadata": {},
   "outputs": [
    {
     "name": "stdout",
     "output_type": "stream",
     "text": [
      "2\n"
     ]
    }
   ],
   "source": [
    "count=0\n",
    "for i in E:\n",
    "    if i is True:\n",
    "        count=count+1\n",
    "print(count) "
   ]
  },
  {
   "cell_type": "code",
   "execution_count": 586,
   "id": "c5adfc92",
   "metadata": {},
   "outputs": [],
   "source": [
    "E=c['ROOMNAME']=='Room 368 (Single Bed)'"
   ]
  },
  {
   "cell_type": "code",
   "execution_count": 587,
   "id": "ef8234a4",
   "metadata": {},
   "outputs": [
    {
     "name": "stdout",
     "output_type": "stream",
     "text": [
      "2\n"
     ]
    }
   ],
   "source": [
    "count=0\n",
    "for i in E:\n",
    "    if i is True:\n",
    "        count=count+1\n",
    "print(count) "
   ]
  },
  {
   "cell_type": "code",
   "execution_count": 588,
   "id": "ad49c4bd",
   "metadata": {},
   "outputs": [],
   "source": [
    "E=c['ROOMNAME']=='Room 369 (Single Bed)'"
   ]
  },
  {
   "cell_type": "code",
   "execution_count": 589,
   "id": "f5ec4b26",
   "metadata": {},
   "outputs": [
    {
     "name": "stdout",
     "output_type": "stream",
     "text": [
      "2\n"
     ]
    }
   ],
   "source": [
    "count=0\n",
    "for i in E:\n",
    "    if i is True:\n",
    "        count=count+1\n",
    "print(count) "
   ]
  },
  {
   "cell_type": "code",
   "execution_count": 590,
   "id": "a185f336",
   "metadata": {},
   "outputs": [],
   "source": [
    "E=c['ROOMNAME']=='Room 370 (Double Bed)'"
   ]
  },
  {
   "cell_type": "code",
   "execution_count": 591,
   "id": "b2c8e32e",
   "metadata": {},
   "outputs": [
    {
     "name": "stdout",
     "output_type": "stream",
     "text": [
      "4\n"
     ]
    }
   ],
   "source": [
    "count=0\n",
    "for i in E:\n",
    "    if i is True:\n",
    "        count=count+1\n",
    "print(count) "
   ]
  },
  {
   "cell_type": "code",
   "execution_count": 592,
   "id": "1f4232a7",
   "metadata": {},
   "outputs": [],
   "source": [
    "E=c['ROOMNAME']=='Room 371 (Double Bed)'"
   ]
  },
  {
   "cell_type": "code",
   "execution_count": 593,
   "id": "899ca9af",
   "metadata": {},
   "outputs": [
    {
     "name": "stdout",
     "output_type": "stream",
     "text": [
      "4\n"
     ]
    }
   ],
   "source": [
    "count=0\n",
    "for i in E:\n",
    "    if i is True:\n",
    "        count=count+1\n",
    "print(count) "
   ]
  },
  {
   "cell_type": "code",
   "execution_count": 594,
   "id": "2603eea0",
   "metadata": {},
   "outputs": [],
   "source": [
    "E=c['ROOMNAME']=='Room 372 (Double Bed)'"
   ]
  },
  {
   "cell_type": "code",
   "execution_count": 595,
   "id": "c5437b69",
   "metadata": {},
   "outputs": [
    {
     "name": "stdout",
     "output_type": "stream",
     "text": [
      "6\n"
     ]
    }
   ],
   "source": [
    "count=0\n",
    "for i in E:\n",
    "    if i is True:\n",
    "        count=count+1\n",
    "print(count) "
   ]
  },
  {
   "cell_type": "code",
   "execution_count": 597,
   "id": "55b00f60",
   "metadata": {},
   "outputs": [],
   "source": [
    "E=c['ROOMNAME']=='Room 373 (Double Bed)'"
   ]
  },
  {
   "cell_type": "code",
   "execution_count": 598,
   "id": "8de774f7",
   "metadata": {},
   "outputs": [
    {
     "name": "stdout",
     "output_type": "stream",
     "text": [
      "6\n"
     ]
    }
   ],
   "source": [
    "count=0\n",
    "for i in E:\n",
    "    if i is True:\n",
    "        count=count+1\n",
    "print(count) "
   ]
  },
  {
   "cell_type": "code",
   "execution_count": 599,
   "id": "40a8594b",
   "metadata": {},
   "outputs": [],
   "source": [
    "E=c['ROOMNAME']=='Room 374 (Double Bed)'"
   ]
  },
  {
   "cell_type": "code",
   "execution_count": 600,
   "id": "5111b135",
   "metadata": {},
   "outputs": [
    {
     "name": "stdout",
     "output_type": "stream",
     "text": [
      "4\n"
     ]
    }
   ],
   "source": [
    "count=0\n",
    "for i in E:\n",
    "    if i is True:\n",
    "        count=count+1\n",
    "print(count) "
   ]
  },
  {
   "cell_type": "code",
   "execution_count": 601,
   "id": "e64b3386",
   "metadata": {},
   "outputs": [],
   "source": [
    "E=c['ROOMNAME']=='Room 375 (Double Bed)'"
   ]
  },
  {
   "cell_type": "code",
   "execution_count": 602,
   "id": "69f1da95",
   "metadata": {},
   "outputs": [
    {
     "name": "stdout",
     "output_type": "stream",
     "text": [
      "4\n"
     ]
    }
   ],
   "source": [
    "count=0\n",
    "for i in E:\n",
    "    if i is True:\n",
    "        count=count+1\n",
    "print(count) "
   ]
  },
  {
   "cell_type": "code",
   "execution_count": 603,
   "id": "6c73d0a4",
   "metadata": {},
   "outputs": [],
   "source": [
    "E=c['ROOMNAME']=='Room 376 (Single Bed)'"
   ]
  },
  {
   "cell_type": "code",
   "execution_count": 604,
   "id": "39f47c94",
   "metadata": {},
   "outputs": [
    {
     "name": "stdout",
     "output_type": "stream",
     "text": [
      "2\n"
     ]
    }
   ],
   "source": [
    "count=0\n",
    "for i in E:\n",
    "    if i is True:\n",
    "        count=count+1\n",
    "print(count) "
   ]
  },
  {
   "cell_type": "code",
   "execution_count": 605,
   "id": "4b1d5d04",
   "metadata": {},
   "outputs": [],
   "source": [
    "E=c['ROOMNAME']=='Room 377 (Single Bed)'"
   ]
  },
  {
   "cell_type": "code",
   "execution_count": 606,
   "id": "a4a3a60f",
   "metadata": {},
   "outputs": [
    {
     "name": "stdout",
     "output_type": "stream",
     "text": [
      "2\n"
     ]
    }
   ],
   "source": [
    "count=0\n",
    "for i in E:\n",
    "    if i is True:\n",
    "        count=count+1\n",
    "print(count) "
   ]
  },
  {
   "cell_type": "code",
   "execution_count": 607,
   "id": "9bcc2fe2",
   "metadata": {},
   "outputs": [],
   "source": [
    "E=c['ROOMNAME']=='Room 378 (Single Bed)'"
   ]
  },
  {
   "cell_type": "code",
   "execution_count": 608,
   "id": "8b36bcb5",
   "metadata": {},
   "outputs": [
    {
     "name": "stdout",
     "output_type": "stream",
     "text": [
      "2\n"
     ]
    }
   ],
   "source": [
    "count=0\n",
    "for i in E:\n",
    "    if i is True:\n",
    "        count=count+1\n",
    "print(count) "
   ]
  },
  {
   "cell_type": "code",
   "execution_count": 609,
   "id": "fb9dfeb0",
   "metadata": {},
   "outputs": [],
   "source": [
    "E=c['ROOMNAME']=='Room 379 (Single Bed)'"
   ]
  },
  {
   "cell_type": "code",
   "execution_count": 610,
   "id": "48e7461d",
   "metadata": {},
   "outputs": [
    {
     "name": "stdout",
     "output_type": "stream",
     "text": [
      "2\n"
     ]
    }
   ],
   "source": [
    "count=0\n",
    "for i in E:\n",
    "    if i is True:\n",
    "        count=count+1\n",
    "print(count) "
   ]
  },
  {
   "cell_type": "code",
   "execution_count": 611,
   "id": "3c0805f3",
   "metadata": {},
   "outputs": [],
   "source": [
    "E=c['ROOMNAME']=='Room 349 (Phototherapy)'"
   ]
  },
  {
   "cell_type": "code",
   "execution_count": 612,
   "id": "b9f291b8",
   "metadata": {},
   "outputs": [
    {
     "name": "stdout",
     "output_type": "stream",
     "text": [
      "20\n"
     ]
    }
   ],
   "source": [
    "count=0\n",
    "for i in E:\n",
    "    if i is True:\n",
    "        count=count+1\n",
    "print(count) "
   ]
  },
  {
   "cell_type": "code",
   "execution_count": 613,
   "id": "990b4dcc",
   "metadata": {},
   "outputs": [],
   "source": [
    "E=c['ROOMNAME']=='Room 490 (Observation Room)'"
   ]
  },
  {
   "cell_type": "code",
   "execution_count": 614,
   "id": "dd4490d0",
   "metadata": {},
   "outputs": [
    {
     "name": "stdout",
     "output_type": "stream",
     "text": [
      "20\n"
     ]
    }
   ],
   "source": [
    "count=0\n",
    "for i in E:\n",
    "    if i is True:\n",
    "        count=count+1\n",
    "print(count) "
   ]
  },
  {
   "cell_type": "code",
   "execution_count": 615,
   "id": "f5698f90",
   "metadata": {},
   "outputs": [],
   "source": [
    "E=c['ROOMNAME']=='Room 491 (Observation Room)'"
   ]
  },
  {
   "cell_type": "code",
   "execution_count": 616,
   "id": "bd1c59e0",
   "metadata": {},
   "outputs": [
    {
     "name": "stdout",
     "output_type": "stream",
     "text": [
      "2\n"
     ]
    }
   ],
   "source": [
    "count=0\n",
    "for i in E:\n",
    "    if i is True:\n",
    "        count=count+1\n",
    "print(count) "
   ]
  },
  {
   "cell_type": "code",
   "execution_count": 617,
   "id": "b7fed02d",
   "metadata": {},
   "outputs": [],
   "source": [
    "E=c['ROOMNAME']=='Room 495 (Delivery Bed)'"
   ]
  },
  {
   "cell_type": "code",
   "execution_count": 618,
   "id": "57b24a96",
   "metadata": {},
   "outputs": [
    {
     "name": "stdout",
     "output_type": "stream",
     "text": [
      "20\n"
     ]
    }
   ],
   "source": [
    "count=0\n",
    "for i in E:\n",
    "    if i is True:\n",
    "        count=count+1\n",
    "print(count) "
   ]
  },
  {
   "cell_type": "code",
   "execution_count": 619,
   "id": "b5aba814",
   "metadata": {},
   "outputs": [],
   "source": [
    "E=c['ROOMNAME']=='Room 451 (Single Bed)'"
   ]
  },
  {
   "cell_type": "code",
   "execution_count": 620,
   "id": "119142c8",
   "metadata": {},
   "outputs": [
    {
     "name": "stdout",
     "output_type": "stream",
     "text": [
      "2\n"
     ]
    }
   ],
   "source": [
    "count=0\n",
    "for i in E:\n",
    "    if i is True:\n",
    "        count=count+1\n",
    "print(count) "
   ]
  },
  {
   "cell_type": "code",
   "execution_count": 622,
   "id": "22047424",
   "metadata": {},
   "outputs": [],
   "source": [
    "E=c['ROOMNAME']=='Room 452 (Single Bed)'"
   ]
  },
  {
   "cell_type": "code",
   "execution_count": 623,
   "id": "2a906527",
   "metadata": {},
   "outputs": [
    {
     "name": "stdout",
     "output_type": "stream",
     "text": [
      "2\n"
     ]
    }
   ],
   "source": [
    "count=0\n",
    "for i in E:\n",
    "    if i is True:\n",
    "        count=count+1\n",
    "print(count) "
   ]
  },
  {
   "cell_type": "code",
   "execution_count": 624,
   "id": "9b526977",
   "metadata": {},
   "outputs": [],
   "source": [
    "E=c['ROOMNAME']=='Room 453 (Single Bed)'"
   ]
  },
  {
   "cell_type": "code",
   "execution_count": 625,
   "id": "1e2849f5",
   "metadata": {},
   "outputs": [
    {
     "name": "stdout",
     "output_type": "stream",
     "text": [
      "4\n"
     ]
    }
   ],
   "source": [
    "count=0\n",
    "for i in E:\n",
    "    if i is True:\n",
    "        count=count+1\n",
    "print(count) "
   ]
  },
  {
   "cell_type": "code",
   "execution_count": 626,
   "id": "205a71fe",
   "metadata": {},
   "outputs": [],
   "source": [
    "E=c['ROOMNAME']=='Room 454 (Single Bed)'"
   ]
  },
  {
   "cell_type": "code",
   "execution_count": 627,
   "id": "5d6b0c1b",
   "metadata": {},
   "outputs": [
    {
     "name": "stdout",
     "output_type": "stream",
     "text": [
      "2\n"
     ]
    }
   ],
   "source": [
    "count=0\n",
    "for i in E:\n",
    "    if i is True:\n",
    "        count=count+1\n",
    "print(count) "
   ]
  },
  {
   "cell_type": "code",
   "execution_count": 628,
   "id": "6c9699e0",
   "metadata": {},
   "outputs": [],
   "source": [
    "E=c['ROOMNAME']=='Room 455 (Single Bed)'"
   ]
  },
  {
   "cell_type": "code",
   "execution_count": 629,
   "id": "e8ab674c",
   "metadata": {},
   "outputs": [
    {
     "name": "stdout",
     "output_type": "stream",
     "text": [
      "2\n"
     ]
    }
   ],
   "source": [
    "count=0\n",
    "for i in E:\n",
    "    if i is True:\n",
    "        count=count+1\n",
    "print(count) "
   ]
  },
  {
   "cell_type": "code",
   "execution_count": 630,
   "id": "6e4cce83",
   "metadata": {},
   "outputs": [],
   "source": [
    "E=c['ROOMNAME']=='Room 456 (Single Bed)'"
   ]
  },
  {
   "cell_type": "code",
   "execution_count": 631,
   "id": "54ecfe7f",
   "metadata": {},
   "outputs": [
    {
     "name": "stdout",
     "output_type": "stream",
     "text": [
      "2\n"
     ]
    }
   ],
   "source": [
    "count=0\n",
    "for i in E:\n",
    "    if i is True:\n",
    "        count=count+1\n",
    "print(count) "
   ]
  },
  {
   "cell_type": "code",
   "execution_count": 632,
   "id": "098c2341",
   "metadata": {},
   "outputs": [],
   "source": [
    "E=c['ROOMNAME']=='Room 457 (Single Bed)'"
   ]
  },
  {
   "cell_type": "code",
   "execution_count": 633,
   "id": "42751a43",
   "metadata": {},
   "outputs": [
    {
     "name": "stdout",
     "output_type": "stream",
     "text": [
      "2\n"
     ]
    }
   ],
   "source": [
    "count=0\n",
    "for i in E:\n",
    "    if i is True:\n",
    "        count=count+1\n",
    "print(count) "
   ]
  },
  {
   "cell_type": "code",
   "execution_count": 634,
   "id": "efa0d2fd",
   "metadata": {},
   "outputs": [],
   "source": [
    "E=c['ROOMNAME']=='Room 458 (Single Bed)'"
   ]
  },
  {
   "cell_type": "code",
   "execution_count": 635,
   "id": "4f2a6871",
   "metadata": {},
   "outputs": [
    {
     "name": "stdout",
     "output_type": "stream",
     "text": [
      "2\n"
     ]
    }
   ],
   "source": [
    "count=0\n",
    "for i in E:\n",
    "    if i is True:\n",
    "        count=count+1\n",
    "print(count) "
   ]
  },
  {
   "cell_type": "code",
   "execution_count": 636,
   "id": "ca6a62ba",
   "metadata": {},
   "outputs": [],
   "source": [
    "E=c['ROOMNAME']=='Room 459 (Suite)'"
   ]
  },
  {
   "cell_type": "code",
   "execution_count": 637,
   "id": "449e3ab3",
   "metadata": {},
   "outputs": [
    {
     "name": "stdout",
     "output_type": "stream",
     "text": [
      "2\n"
     ]
    }
   ],
   "source": [
    "count=0\n",
    "for i in E:\n",
    "    if i is True:\n",
    "        count=count+1\n",
    "print(count) "
   ]
  },
  {
   "cell_type": "code",
   "execution_count": 640,
   "id": "a2d6e0ba",
   "metadata": {},
   "outputs": [],
   "source": [
    "E=c['ROOMNAME']=='Room 460 (Single Bed)'"
   ]
  },
  {
   "cell_type": "code",
   "execution_count": 641,
   "id": "46b024e3",
   "metadata": {},
   "outputs": [
    {
     "name": "stdout",
     "output_type": "stream",
     "text": [
      "2\n"
     ]
    }
   ],
   "source": [
    "count=0\n",
    "for i in E:\n",
    "    if i is True:\n",
    "        count=count+1\n",
    "print(count) "
   ]
  },
  {
   "cell_type": "code",
   "execution_count": 642,
   "id": "b34e46eb",
   "metadata": {},
   "outputs": [],
   "source": [
    "E=c['ROOMNAME']=='Room 461 (Single Bed)'"
   ]
  },
  {
   "cell_type": "code",
   "execution_count": 643,
   "id": "d5dc8ed3",
   "metadata": {},
   "outputs": [
    {
     "name": "stdout",
     "output_type": "stream",
     "text": [
      "2\n"
     ]
    }
   ],
   "source": [
    "count=0\n",
    "for i in E:\n",
    "    if i is True:\n",
    "        count=count+1\n",
    "print(count) "
   ]
  },
  {
   "cell_type": "code",
   "execution_count": 644,
   "id": "bb3f9021",
   "metadata": {},
   "outputs": [],
   "source": [
    "E=c['ROOMNAME']=='Room 462 (Single Bed)'"
   ]
  },
  {
   "cell_type": "code",
   "execution_count": 645,
   "id": "e81c516b",
   "metadata": {},
   "outputs": [
    {
     "name": "stdout",
     "output_type": "stream",
     "text": [
      "2\n"
     ]
    }
   ],
   "source": [
    "count=0\n",
    "for i in E:\n",
    "    if i is True:\n",
    "        count=count+1\n",
    "print(count) "
   ]
  },
  {
   "cell_type": "code",
   "execution_count": 646,
   "id": "0558b4d6",
   "metadata": {},
   "outputs": [],
   "source": [
    "E=c['ROOMNAME']=='Room 463 (Single Bed)'"
   ]
  },
  {
   "cell_type": "code",
   "execution_count": 647,
   "id": "45426073",
   "metadata": {},
   "outputs": [
    {
     "name": "stdout",
     "output_type": "stream",
     "text": [
      "2\n"
     ]
    }
   ],
   "source": [
    "count=0\n",
    "for i in E:\n",
    "    if i is True:\n",
    "        count=count+1\n",
    "print(count) "
   ]
  },
  {
   "cell_type": "code",
   "execution_count": 648,
   "id": "e6ab1e27",
   "metadata": {},
   "outputs": [],
   "source": [
    "E=c['ROOMNAME']=='Room 464 (Double Bed)'"
   ]
  },
  {
   "cell_type": "code",
   "execution_count": 649,
   "id": "1bb3a6c5",
   "metadata": {},
   "outputs": [
    {
     "name": "stdout",
     "output_type": "stream",
     "text": [
      "6\n"
     ]
    }
   ],
   "source": [
    "count=0\n",
    "for i in E:\n",
    "    if i is True:\n",
    "        count=count+1\n",
    "print(count) "
   ]
  },
  {
   "cell_type": "code",
   "execution_count": 650,
   "id": "4afef18c",
   "metadata": {},
   "outputs": [],
   "source": [
    "E=c['ROOMNAME']=='Room 465 (Double Bed)'"
   ]
  },
  {
   "cell_type": "code",
   "execution_count": 651,
   "id": "bfd6265e",
   "metadata": {},
   "outputs": [
    {
     "name": "stdout",
     "output_type": "stream",
     "text": [
      "6\n"
     ]
    }
   ],
   "source": [
    "count=0\n",
    "for i in E:\n",
    "    if i is True:\n",
    "        count=count+1\n",
    "print(count) "
   ]
  },
  {
   "cell_type": "code",
   "execution_count": 652,
   "id": "41bcc579",
   "metadata": {},
   "outputs": [],
   "source": [
    "E=c['ROOMNAME']=='Room 466 (Double Bed)'"
   ]
  },
  {
   "cell_type": "code",
   "execution_count": 653,
   "id": "85362369",
   "metadata": {},
   "outputs": [
    {
     "name": "stdout",
     "output_type": "stream",
     "text": [
      "6\n"
     ]
    }
   ],
   "source": [
    "count=0\n",
    "for i in E:\n",
    "    if i is True:\n",
    "        count=count+1\n",
    "print(count) "
   ]
  },
  {
   "cell_type": "code",
   "execution_count": 654,
   "id": "f0b5d325",
   "metadata": {},
   "outputs": [],
   "source": [
    "E=c['ROOMNAME']=='Room 467 (Double Bed)'"
   ]
  },
  {
   "cell_type": "code",
   "execution_count": 655,
   "id": "5fb1cb81",
   "metadata": {},
   "outputs": [
    {
     "name": "stdout",
     "output_type": "stream",
     "text": [
      "6\n"
     ]
    }
   ],
   "source": [
    "count=0\n",
    "for i in E:\n",
    "    if i is True:\n",
    "        count=count+1\n",
    "print(count) "
   ]
  },
  {
   "cell_type": "code",
   "execution_count": 656,
   "id": "ac0a59e5",
   "metadata": {},
   "outputs": [],
   "source": [
    "E=c['ROOMNAME']=='Room 468 (Double Bed)'"
   ]
  },
  {
   "cell_type": "code",
   "execution_count": 657,
   "id": "ab5db33c",
   "metadata": {},
   "outputs": [
    {
     "name": "stdout",
     "output_type": "stream",
     "text": [
      "6\n"
     ]
    }
   ],
   "source": [
    "count=0\n",
    "for i in E:\n",
    "    if i is True:\n",
    "        count=count+1\n",
    "print(count) "
   ]
  },
  {
   "cell_type": "code",
   "execution_count": 658,
   "id": "67f10627",
   "metadata": {},
   "outputs": [],
   "source": [
    "E=c['ROOMNAME']=='Room 469 (Four Bedded)'"
   ]
  },
  {
   "cell_type": "code",
   "execution_count": 659,
   "id": "edd79641",
   "metadata": {},
   "outputs": [
    {
     "name": "stdout",
     "output_type": "stream",
     "text": [
      "6\n"
     ]
    }
   ],
   "source": [
    "count=0\n",
    "for i in E:\n",
    "    if i is True:\n",
    "        count=count+1\n",
    "print(count) "
   ]
  },
  {
   "cell_type": "code",
   "execution_count": 662,
   "id": "fdb33be7",
   "metadata": {},
   "outputs": [],
   "source": [
    "E=c['ROOMNAME']=='Room 470 (Four Bedded)'"
   ]
  },
  {
   "cell_type": "code",
   "execution_count": 663,
   "id": "6d6aeed0",
   "metadata": {},
   "outputs": [
    {
     "name": "stdout",
     "output_type": "stream",
     "text": [
      "6\n"
     ]
    }
   ],
   "source": [
    "count=0\n",
    "for i in E:\n",
    "    if i is True:\n",
    "        count=count+1\n",
    "print(count) "
   ]
  },
  {
   "cell_type": "code",
   "execution_count": 664,
   "id": "5369fe30",
   "metadata": {},
   "outputs": [],
   "source": [
    "E=c['ROOMNAME']=='Room 471 (Executive Suite)'"
   ]
  },
  {
   "cell_type": "code",
   "execution_count": 665,
   "id": "90cbb64d",
   "metadata": {},
   "outputs": [
    {
     "name": "stdout",
     "output_type": "stream",
     "text": [
      "2\n"
     ]
    }
   ],
   "source": [
    "count=0\n",
    "for i in E:\n",
    "    if i is True:\n",
    "        count=count+1\n",
    "print(count) "
   ]
  },
  {
   "cell_type": "code",
   "execution_count": 666,
   "id": "dccd4a86",
   "metadata": {},
   "outputs": [],
   "source": [
    "E=c['ROOMNAME']=='Room 472 (Executive Suite)'"
   ]
  },
  {
   "cell_type": "code",
   "execution_count": 667,
   "id": "c9383fe6",
   "metadata": {},
   "outputs": [
    {
     "name": "stdout",
     "output_type": "stream",
     "text": [
      "2\n"
     ]
    }
   ],
   "source": [
    "count=0\n",
    "for i in E:\n",
    "    if i is True:\n",
    "        count=count+1\n",
    "print(count) "
   ]
  },
  {
   "cell_type": "code",
   "execution_count": 668,
   "id": "0c993579",
   "metadata": {},
   "outputs": [],
   "source": [
    "E=c['ROOMNAME']=='Room 450 (Single Bed)'"
   ]
  },
  {
   "cell_type": "code",
   "execution_count": 669,
   "id": "7dd11d00",
   "metadata": {},
   "outputs": [
    {
     "name": "stdout",
     "output_type": "stream",
     "text": [
      "2\n"
     ]
    }
   ],
   "source": [
    "count=0\n",
    "for i in E:\n",
    "    if i is True:\n",
    "        count=count+1\n",
    "print(count) "
   ]
  },
  {
   "cell_type": "code",
   "execution_count": 670,
   "id": "702b41bb",
   "metadata": {},
   "outputs": [],
   "source": [
    "E=c['ROOMNAME']=='Room 550 (Single Bed)'"
   ]
  },
  {
   "cell_type": "code",
   "execution_count": 671,
   "id": "36bf8c4d",
   "metadata": {},
   "outputs": [
    {
     "name": "stdout",
     "output_type": "stream",
     "text": [
      "2\n"
     ]
    }
   ],
   "source": [
    "count=0\n",
    "for i in E:\n",
    "    if i is True:\n",
    "        count=count+1\n",
    "print(count) "
   ]
  },
  {
   "cell_type": "code",
   "execution_count": 672,
   "id": "fb04b335",
   "metadata": {},
   "outputs": [],
   "source": [
    "E=c['ROOMNAME']=='Room 551 (Single Bed)'"
   ]
  },
  {
   "cell_type": "code",
   "execution_count": 673,
   "id": "0f2c421d",
   "metadata": {},
   "outputs": [
    {
     "name": "stdout",
     "output_type": "stream",
     "text": [
      "2\n"
     ]
    }
   ],
   "source": [
    "count=0\n",
    "for i in E:\n",
    "    if i is True:\n",
    "        count=count+1\n",
    "print(count) "
   ]
  },
  {
   "cell_type": "code",
   "execution_count": 674,
   "id": "cdce7da3",
   "metadata": {},
   "outputs": [],
   "source": [
    "E=c['ROOMNAME']=='Room 552 (Single Bed)'"
   ]
  },
  {
   "cell_type": "code",
   "execution_count": 675,
   "id": "945fd10a",
   "metadata": {},
   "outputs": [
    {
     "name": "stdout",
     "output_type": "stream",
     "text": [
      "2\n"
     ]
    }
   ],
   "source": [
    "count=0\n",
    "for i in E:\n",
    "    if i is True:\n",
    "        count=count+1\n",
    "print(count) "
   ]
  },
  {
   "cell_type": "code",
   "execution_count": 676,
   "id": "d97fd8ae",
   "metadata": {},
   "outputs": [],
   "source": [
    "E=c['ROOMNAME']=='Room 553 (Single Bed)'"
   ]
  },
  {
   "cell_type": "code",
   "execution_count": 677,
   "id": "3d985fb8",
   "metadata": {},
   "outputs": [
    {
     "name": "stdout",
     "output_type": "stream",
     "text": [
      "2\n"
     ]
    }
   ],
   "source": [
    "count=0\n",
    "for i in E:\n",
    "    if i is True:\n",
    "        count=count+1\n",
    "print(count) "
   ]
  },
  {
   "cell_type": "code",
   "execution_count": 678,
   "id": "520fe56d",
   "metadata": {},
   "outputs": [],
   "source": [
    "E=c['ROOMNAME']=='Room 554 (Single Bed)'"
   ]
  },
  {
   "cell_type": "code",
   "execution_count": 679,
   "id": "c97d5b21",
   "metadata": {},
   "outputs": [
    {
     "name": "stdout",
     "output_type": "stream",
     "text": [
      "2\n"
     ]
    }
   ],
   "source": [
    "count=0\n",
    "for i in E:\n",
    "    if i is True:\n",
    "        count=count+1\n",
    "print(count) "
   ]
  },
  {
   "cell_type": "code",
   "execution_count": 680,
   "id": "2e7d41f2",
   "metadata": {},
   "outputs": [],
   "source": [
    "E=c['ROOMNAME']=='Room 555 (Single Bed)'"
   ]
  },
  {
   "cell_type": "code",
   "execution_count": 681,
   "id": "0f056ac0",
   "metadata": {},
   "outputs": [
    {
     "name": "stdout",
     "output_type": "stream",
     "text": [
      "2\n"
     ]
    }
   ],
   "source": [
    "count=0\n",
    "for i in E:\n",
    "    if i is True:\n",
    "        count=count+1\n",
    "print(count) "
   ]
  },
  {
   "cell_type": "code",
   "execution_count": 682,
   "id": "4ace38ca",
   "metadata": {},
   "outputs": [],
   "source": [
    "E=c['ROOMNAME']=='Room 556 (Single Bed)'"
   ]
  },
  {
   "cell_type": "code",
   "execution_count": 683,
   "id": "dbc5c19e",
   "metadata": {},
   "outputs": [
    {
     "name": "stdout",
     "output_type": "stream",
     "text": [
      "2\n"
     ]
    }
   ],
   "source": [
    "count=0\n",
    "for i in E:\n",
    "    if i is True:\n",
    "        count=count+1\n",
    "print(count) "
   ]
  },
  {
   "cell_type": "code",
   "execution_count": 684,
   "id": "0d091c6a",
   "metadata": {},
   "outputs": [],
   "source": [
    "E=c['ROOMNAME']=='Room 557 (Single Bed)'"
   ]
  },
  {
   "cell_type": "code",
   "execution_count": 685,
   "id": "05b16442",
   "metadata": {},
   "outputs": [
    {
     "name": "stdout",
     "output_type": "stream",
     "text": [
      "2\n"
     ]
    }
   ],
   "source": [
    "count=0\n",
    "for i in E:\n",
    "    if i is True:\n",
    "        count=count+1\n",
    "print(count) "
   ]
  },
  {
   "cell_type": "code",
   "execution_count": 687,
   "id": "2db6a4c3",
   "metadata": {},
   "outputs": [],
   "source": [
    "E=c['ROOMNAME']=='Room 558 (Single Bed)'"
   ]
  },
  {
   "cell_type": "code",
   "execution_count": 688,
   "id": "169aa24b",
   "metadata": {},
   "outputs": [
    {
     "name": "stdout",
     "output_type": "stream",
     "text": [
      "2\n"
     ]
    }
   ],
   "source": [
    "count=0\n",
    "for i in E:\n",
    "    if i is True:\n",
    "        count=count+1\n",
    "print(count) "
   ]
  },
  {
   "cell_type": "code",
   "execution_count": 689,
   "id": "9646541c",
   "metadata": {},
   "outputs": [],
   "source": [
    "E=c['ROOMNAME']=='Room 559 (Single Bed)'"
   ]
  },
  {
   "cell_type": "code",
   "execution_count": 690,
   "id": "1801774d",
   "metadata": {},
   "outputs": [
    {
     "name": "stdout",
     "output_type": "stream",
     "text": [
      "2\n"
     ]
    }
   ],
   "source": [
    "count=0\n",
    "for i in E:\n",
    "    if i is True:\n",
    "        count=count+1\n",
    "print(count) "
   ]
  },
  {
   "cell_type": "code",
   "execution_count": 692,
   "id": "1c6aac4f",
   "metadata": {},
   "outputs": [],
   "source": [
    "E=c['ROOMNAME']=='Room 560 (Single Bed)'"
   ]
  },
  {
   "cell_type": "code",
   "execution_count": 693,
   "id": "29279347",
   "metadata": {},
   "outputs": [
    {
     "name": "stdout",
     "output_type": "stream",
     "text": [
      "2\n"
     ]
    }
   ],
   "source": [
    "count=0\n",
    "for i in E:\n",
    "    if i is True:\n",
    "        count=count+1\n",
    "print(count) "
   ]
  },
  {
   "cell_type": "code",
   "execution_count": 694,
   "id": "4cee63aa",
   "metadata": {},
   "outputs": [],
   "source": [
    "E=c['ROOMNAME']=='Room 561 (Single Bed)'"
   ]
  },
  {
   "cell_type": "code",
   "execution_count": 695,
   "id": "bfc32d8e",
   "metadata": {},
   "outputs": [
    {
     "name": "stdout",
     "output_type": "stream",
     "text": [
      "2\n"
     ]
    }
   ],
   "source": [
    "count=0\n",
    "for i in E:\n",
    "    if i is True:\n",
    "        count=count+1\n",
    "print(count) "
   ]
  },
  {
   "cell_type": "code",
   "execution_count": 696,
   "id": "d9e225e7",
   "metadata": {},
   "outputs": [],
   "source": [
    "E=c['ROOMNAME']=='Room 562 (Single Bed)'"
   ]
  },
  {
   "cell_type": "code",
   "execution_count": 697,
   "id": "37caadfa",
   "metadata": {},
   "outputs": [
    {
     "name": "stdout",
     "output_type": "stream",
     "text": [
      "2\n"
     ]
    }
   ],
   "source": [
    "count=0\n",
    "for i in E:\n",
    "    if i is True:\n",
    "        count=count+1\n",
    "print(count) "
   ]
  },
  {
   "cell_type": "code",
   "execution_count": 698,
   "id": "61532247",
   "metadata": {},
   "outputs": [],
   "source": [
    "E=c['ROOMNAME']=='Room 563 (Double Bed)'"
   ]
  },
  {
   "cell_type": "code",
   "execution_count": 699,
   "id": "96124536",
   "metadata": {},
   "outputs": [
    {
     "name": "stdout",
     "output_type": "stream",
     "text": [
      "4\n"
     ]
    }
   ],
   "source": [
    "count=0\n",
    "for i in E:\n",
    "    if i is True:\n",
    "        count=count+1\n",
    "print(count) "
   ]
  },
  {
   "cell_type": "code",
   "execution_count": 700,
   "id": "d56887b8",
   "metadata": {},
   "outputs": [],
   "source": [
    "E=c['ROOMNAME']=='Room 564 (Double Bed)'"
   ]
  },
  {
   "cell_type": "code",
   "execution_count": 701,
   "id": "28d4edf7",
   "metadata": {},
   "outputs": [
    {
     "name": "stdout",
     "output_type": "stream",
     "text": [
      "4\n"
     ]
    }
   ],
   "source": [
    "count=0\n",
    "for i in E:\n",
    "    if i is True:\n",
    "        count=count+1\n",
    "print(count) "
   ]
  },
  {
   "cell_type": "code",
   "execution_count": 702,
   "id": "d6fec9fb",
   "metadata": {},
   "outputs": [],
   "source": [
    "E=c['ROOMNAME']=='Room 565 (Four Bedded)'"
   ]
  },
  {
   "cell_type": "code",
   "execution_count": 703,
   "id": "e565caeb",
   "metadata": {},
   "outputs": [
    {
     "name": "stdout",
     "output_type": "stream",
     "text": [
      "4\n"
     ]
    }
   ],
   "source": [
    "count=0\n",
    "for i in E:\n",
    "    if i is True:\n",
    "        count=count+1\n",
    "print(count) "
   ]
  },
  {
   "cell_type": "code",
   "execution_count": 704,
   "id": "3885635d",
   "metadata": {},
   "outputs": [],
   "source": [
    "E=c['ROOMNAME']=='Room 566 (Double Bed)'"
   ]
  },
  {
   "cell_type": "code",
   "execution_count": 705,
   "id": "14a0f91a",
   "metadata": {},
   "outputs": [
    {
     "name": "stdout",
     "output_type": "stream",
     "text": [
      "4\n"
     ]
    }
   ],
   "source": [
    "count=0\n",
    "for i in E:\n",
    "    if i is True:\n",
    "        count=count+1\n",
    "print(count) "
   ]
  },
  {
   "cell_type": "code",
   "execution_count": 706,
   "id": "87a31f29",
   "metadata": {},
   "outputs": [],
   "source": [
    "E=c['ROOMNAME']=='Room 567 (Double Bed)'"
   ]
  },
  {
   "cell_type": "code",
   "execution_count": 707,
   "id": "f617c6f8",
   "metadata": {},
   "outputs": [
    {
     "name": "stdout",
     "output_type": "stream",
     "text": [
      "4\n"
     ]
    }
   ],
   "source": [
    "count=0\n",
    "for i in E:\n",
    "    if i is True:\n",
    "        count=count+1\n",
    "print(count) "
   ]
  },
  {
   "cell_type": "code",
   "execution_count": 708,
   "id": "fe3b9d0c",
   "metadata": {},
   "outputs": [],
   "source": [
    "E=c['ROOMNAME']=='Room 568 (Four Bedded)'"
   ]
  },
  {
   "cell_type": "code",
   "execution_count": 709,
   "id": "bf560e38",
   "metadata": {},
   "outputs": [
    {
     "name": "stdout",
     "output_type": "stream",
     "text": [
      "4\n"
     ]
    }
   ],
   "source": [
    "count=0\n",
    "for i in E:\n",
    "    if i is True:\n",
    "        count=count+1\n",
    "print(count) "
   ]
  },
  {
   "cell_type": "code",
   "execution_count": 710,
   "id": "14aff95c",
   "metadata": {},
   "outputs": [],
   "source": [
    "E=c['ROOMNAME']=='Room 569 (Single Bed)'"
   ]
  },
  {
   "cell_type": "code",
   "execution_count": 711,
   "id": "99e99dc4",
   "metadata": {},
   "outputs": [
    {
     "name": "stdout",
     "output_type": "stream",
     "text": [
      "2\n"
     ]
    }
   ],
   "source": [
    "count=0\n",
    "for i in E:\n",
    "    if i is True:\n",
    "        count=count+1\n",
    "print(count) "
   ]
  },
  {
   "cell_type": "code",
   "execution_count": 712,
   "id": "fc2ec80d",
   "metadata": {},
   "outputs": [],
   "source": [
    "E=c['ROOMNAME']=='Room 570 (Single Bed)'"
   ]
  },
  {
   "cell_type": "code",
   "execution_count": 713,
   "id": "53503ad2",
   "metadata": {},
   "outputs": [
    {
     "name": "stdout",
     "output_type": "stream",
     "text": [
      "2\n"
     ]
    }
   ],
   "source": [
    "count=0\n",
    "for i in E:\n",
    "    if i is True:\n",
    "        count=count+1\n",
    "print(count) "
   ]
  },
  {
   "cell_type": "code",
   "execution_count": 714,
   "id": "810057d6",
   "metadata": {},
   "outputs": [],
   "source": [
    "E=c['ROOMNAME']=='Room 571 (Single Bed)'"
   ]
  },
  {
   "cell_type": "code",
   "execution_count": 715,
   "id": "97929fed",
   "metadata": {},
   "outputs": [
    {
     "name": "stdout",
     "output_type": "stream",
     "text": [
      "2\n"
     ]
    }
   ],
   "source": [
    "count=0\n",
    "for i in E:\n",
    "    if i is True:\n",
    "        count=count+1\n",
    "print(count) "
   ]
  },
  {
   "cell_type": "code",
   "execution_count": 716,
   "id": "4ea0c2f4",
   "metadata": {},
   "outputs": [],
   "source": [
    "E=c['ROOMNAME']=='Room 572 (Single Bed)'"
   ]
  },
  {
   "cell_type": "code",
   "execution_count": 717,
   "id": "cd9fdfde",
   "metadata": {},
   "outputs": [
    {
     "name": "stdout",
     "output_type": "stream",
     "text": [
      "2\n"
     ]
    }
   ],
   "source": [
    "count=0\n",
    "for i in E:\n",
    "    if i is True:\n",
    "        count=count+1\n",
    "print(count) "
   ]
  },
  {
   "cell_type": "code",
   "execution_count": 718,
   "id": "2aca6d5b",
   "metadata": {},
   "outputs": [],
   "source": [
    "E=c['ROOMNAME']=='Room 573 (Single Bed)'"
   ]
  },
  {
   "cell_type": "code",
   "execution_count": 719,
   "id": "9c4d95aa",
   "metadata": {},
   "outputs": [
    {
     "name": "stdout",
     "output_type": "stream",
     "text": [
      "2\n"
     ]
    }
   ],
   "source": [
    "count=0\n",
    "for i in E:\n",
    "    if i is True:\n",
    "        count=count+1\n",
    "print(count) "
   ]
  },
  {
   "cell_type": "code",
   "execution_count": 720,
   "id": "1242ed2e",
   "metadata": {},
   "outputs": [],
   "source": [
    "E=c['ROOMNAME']=='Room 574 (Single Bed)'"
   ]
  },
  {
   "cell_type": "code",
   "execution_count": 721,
   "id": "972dd6e7",
   "metadata": {},
   "outputs": [
    {
     "name": "stdout",
     "output_type": "stream",
     "text": [
      "2\n"
     ]
    }
   ],
   "source": [
    "count=0\n",
    "for i in E:\n",
    "    if i is True:\n",
    "        count=count+1\n",
    "print(count) "
   ]
  },
  {
   "cell_type": "code",
   "execution_count": 722,
   "id": "01b5ef74",
   "metadata": {},
   "outputs": [],
   "source": [
    "E=c['ROOMNAME']=='Room 575 (Single Bed)'"
   ]
  },
  {
   "cell_type": "code",
   "execution_count": 723,
   "id": "acfea05c",
   "metadata": {},
   "outputs": [
    {
     "name": "stdout",
     "output_type": "stream",
     "text": [
      "2\n"
     ]
    }
   ],
   "source": [
    "count=0\n",
    "for i in E:\n",
    "    if i is True:\n",
    "        count=count+1\n",
    "print(count) "
   ]
  },
  {
   "cell_type": "code",
   "execution_count": 724,
   "id": "71059102",
   "metadata": {},
   "outputs": [],
   "source": [
    "E=c['ROOMNAME']=='Room 576 (Single Bed)'"
   ]
  },
  {
   "cell_type": "code",
   "execution_count": 725,
   "id": "8360b4e2",
   "metadata": {},
   "outputs": [
    {
     "name": "stdout",
     "output_type": "stream",
     "text": [
      "2\n"
     ]
    }
   ],
   "source": [
    "count=0\n",
    "for i in E:\n",
    "    if i is True:\n",
    "        count=count+1\n",
    "print(count) "
   ]
  },
  {
   "cell_type": "code",
   "execution_count": 726,
   "id": "41558d26",
   "metadata": {},
   "outputs": [],
   "source": [
    "E=c['ROOMNAME']=='Room 577 (Single Bed)'"
   ]
  },
  {
   "cell_type": "code",
   "execution_count": 727,
   "id": "3b70ef2d",
   "metadata": {},
   "outputs": [
    {
     "name": "stdout",
     "output_type": "stream",
     "text": [
      "2\n"
     ]
    }
   ],
   "source": [
    "count=0\n",
    "for i in E:\n",
    "    if i is True:\n",
    "        count=count+1\n",
    "print(count) "
   ]
  },
  {
   "cell_type": "code",
   "execution_count": 728,
   "id": "a82c4c76",
   "metadata": {},
   "outputs": [],
   "source": [
    "E=c['ROOMNAME']=='Room 578 (Suite)'"
   ]
  },
  {
   "cell_type": "code",
   "execution_count": 729,
   "id": "4a419d03",
   "metadata": {},
   "outputs": [
    {
     "name": "stdout",
     "output_type": "stream",
     "text": [
      "2\n"
     ]
    }
   ],
   "source": [
    "count=0\n",
    "for i in E:\n",
    "    if i is True:\n",
    "        count=count+1\n",
    "print(count) "
   ]
  },
  {
   "cell_type": "code",
   "execution_count": 730,
   "id": "07531b78",
   "metadata": {},
   "outputs": [],
   "source": [
    "E=c['ROOMNAME']=='Room 579 (Single Bed)'"
   ]
  },
  {
   "cell_type": "code",
   "execution_count": 731,
   "id": "06c03e9e",
   "metadata": {},
   "outputs": [
    {
     "name": "stdout",
     "output_type": "stream",
     "text": [
      "2\n"
     ]
    }
   ],
   "source": [
    "count=0\n",
    "for i in E:\n",
    "    if i is True:\n",
    "        count=count+1\n",
    "print(count) "
   ]
  },
  {
   "cell_type": "code",
   "execution_count": 732,
   "id": "695ab414",
   "metadata": {},
   "outputs": [],
   "source": [
    "E=c['ROOMNAME']=='Room 580 (Single Bed)'"
   ]
  },
  {
   "cell_type": "code",
   "execution_count": 733,
   "id": "44ad935b",
   "metadata": {},
   "outputs": [
    {
     "name": "stdout",
     "output_type": "stream",
     "text": [
      "2\n"
     ]
    }
   ],
   "source": [
    "count=0\n",
    "for i in E:\n",
    "    if i is True:\n",
    "        count=count+1\n",
    "print(count) "
   ]
  },
  {
   "cell_type": "code",
   "execution_count": 734,
   "id": "b573303e",
   "metadata": {},
   "outputs": [],
   "source": [
    "E=c['ROOMNAME']=='Room 581 (Single Bed)'"
   ]
  },
  {
   "cell_type": "code",
   "execution_count": 735,
   "id": "cd84a9d5",
   "metadata": {},
   "outputs": [
    {
     "name": "stdout",
     "output_type": "stream",
     "text": [
      "2\n"
     ]
    }
   ],
   "source": [
    "count=0\n",
    "for i in E:\n",
    "    if i is True:\n",
    "        count=count+1\n",
    "print(count) "
   ]
  },
  {
   "cell_type": "code",
   "execution_count": 736,
   "id": "e6868575",
   "metadata": {},
   "outputs": [],
   "source": [
    "E=c['ROOMNAME']=='Room 582 (Single Bed)'"
   ]
  },
  {
   "cell_type": "code",
   "execution_count": 737,
   "id": "2ab698e9",
   "metadata": {},
   "outputs": [
    {
     "name": "stdout",
     "output_type": "stream",
     "text": [
      "2\n"
     ]
    }
   ],
   "source": [
    "count=0\n",
    "for i in E:\n",
    "    if i is True:\n",
    "        count=count+1\n",
    "print(count) "
   ]
  },
  {
   "cell_type": "code",
   "execution_count": 738,
   "id": "1707b7d9",
   "metadata": {},
   "outputs": [],
   "source": [
    "E=c['ROOMNAME']=='Room 583 (Four Bedded)'"
   ]
  },
  {
   "cell_type": "code",
   "execution_count": 739,
   "id": "0408989c",
   "metadata": {},
   "outputs": [
    {
     "name": "stdout",
     "output_type": "stream",
     "text": [
      "3\n"
     ]
    }
   ],
   "source": [
    "count=0\n",
    "for i in E:\n",
    "    if i is True:\n",
    "        count=count+1\n",
    "print(count) "
   ]
  },
  {
   "cell_type": "code",
   "execution_count": 740,
   "id": "0ad12151",
   "metadata": {},
   "outputs": [],
   "source": [
    "E=c['ROOMNAME']=='Room 584 (Four Bedded)'"
   ]
  },
  {
   "cell_type": "code",
   "execution_count": 741,
   "id": "f9df5540",
   "metadata": {},
   "outputs": [
    {
     "name": "stdout",
     "output_type": "stream",
     "text": [
      "2\n"
     ]
    }
   ],
   "source": [
    "count=0\n",
    "for i in E:\n",
    "    if i is True:\n",
    "        count=count+1\n",
    "print(count) "
   ]
  },
  {
   "cell_type": "code",
   "execution_count": 742,
   "id": "4137e473",
   "metadata": {},
   "outputs": [],
   "source": [
    "E=c['ROOMNAME']=='Room 585 (Double Bed)'"
   ]
  },
  {
   "cell_type": "code",
   "execution_count": 743,
   "id": "f3075f45",
   "metadata": {},
   "outputs": [
    {
     "name": "stdout",
     "output_type": "stream",
     "text": [
      "2\n"
     ]
    }
   ],
   "source": [
    "count=0\n",
    "for i in E:\n",
    "    if i is True:\n",
    "        count=count+1\n",
    "print(count) "
   ]
  },
  {
   "cell_type": "code",
   "execution_count": 744,
   "id": "0a0121bc",
   "metadata": {},
   "outputs": [],
   "source": [
    "E=c['ROOMNAME']=='Room 586 (Double Bed)'"
   ]
  },
  {
   "cell_type": "code",
   "execution_count": 745,
   "id": "0a41a1b6",
   "metadata": {},
   "outputs": [
    {
     "name": "stdout",
     "output_type": "stream",
     "text": [
      "2\n"
     ]
    }
   ],
   "source": [
    "count=0\n",
    "for i in E:\n",
    "    if i is True:\n",
    "        count=count+1\n",
    "print(count) "
   ]
  },
  {
   "cell_type": "code",
   "execution_count": 746,
   "id": "72e235a7",
   "metadata": {},
   "outputs": [],
   "source": [
    "E=c['ROOMNAME']=='Room 587 (Double Bed)'"
   ]
  },
  {
   "cell_type": "code",
   "execution_count": 747,
   "id": "30981a34",
   "metadata": {},
   "outputs": [
    {
     "name": "stdout",
     "output_type": "stream",
     "text": [
      "2\n"
     ]
    }
   ],
   "source": [
    "count=0\n",
    "for i in E:\n",
    "    if i is True:\n",
    "        count=count+1\n",
    "print(count) "
   ]
  },
  {
   "cell_type": "code",
   "execution_count": 748,
   "id": "a8aebc8c",
   "metadata": {},
   "outputs": [],
   "source": [
    "E=c['ROOMNAME']=='Room 588 (Four Bedded)'"
   ]
  },
  {
   "cell_type": "code",
   "execution_count": 749,
   "id": "4cd93e10",
   "metadata": {},
   "outputs": [
    {
     "name": "stdout",
     "output_type": "stream",
     "text": [
      "2\n"
     ]
    }
   ],
   "source": [
    "count=0\n",
    "for i in E:\n",
    "    if i is True:\n",
    "        count=count+1\n",
    "print(count) "
   ]
  },
  {
   "cell_type": "code",
   "execution_count": 750,
   "id": "b5a57603",
   "metadata": {},
   "outputs": [],
   "source": [
    "E=c['ROOMNAME']=='G03 (Day Care)'"
   ]
  },
  {
   "cell_type": "code",
   "execution_count": 751,
   "id": "7e31aa56",
   "metadata": {},
   "outputs": [
    {
     "name": "stdout",
     "output_type": "stream",
     "text": [
      "0\n"
     ]
    }
   ],
   "source": [
    "count=0\n",
    "for i in E:\n",
    "    if i is True:\n",
    "        count=count+1\n",
    "print(count) "
   ]
  },
  {
   "cell_type": "code",
   "execution_count": 752,
   "id": "3fdcb677",
   "metadata": {},
   "outputs": [],
   "source": [
    "E=c['ROOMNAME']=='Haematology & Oncology Daycare Adult (Day Care Chemo)'"
   ]
  },
  {
   "cell_type": "code",
   "execution_count": 753,
   "id": "b29ef782",
   "metadata": {},
   "outputs": [
    {
     "name": "stdout",
     "output_type": "stream",
     "text": [
      "35\n"
     ]
    }
   ],
   "source": [
    "count=0\n",
    "for i in E:\n",
    "    if i is True:\n",
    "        count=count+1\n",
    "print(count) "
   ]
  },
  {
   "cell_type": "code",
   "execution_count": 758,
   "id": "9ecface3",
   "metadata": {},
   "outputs": [],
   "source": [
    "E=c['ROOMNAME']=='Haematology & Oncology Daycare Paeds (Day Care Chemo (Private))'"
   ]
  },
  {
   "cell_type": "code",
   "execution_count": 759,
   "id": "4a3cbbb7",
   "metadata": {},
   "outputs": [
    {
     "name": "stdout",
     "output_type": "stream",
     "text": [
      "11\n"
     ]
    }
   ],
   "source": [
    "count=0\n",
    "for i in E:\n",
    "    if i is True:\n",
    "        count=count+1\n",
    "print(count) "
   ]
  },
  {
   "cell_type": "code",
   "execution_count": 760,
   "id": "1869cb87",
   "metadata": {},
   "outputs": [],
   "source": [
    "E=c['ROOMNAME']=='Room 206 (Executive Suite)'"
   ]
  },
  {
   "cell_type": "code",
   "execution_count": 761,
   "id": "0d14897b",
   "metadata": {},
   "outputs": [
    {
     "name": "stdout",
     "output_type": "stream",
     "text": [
      "1\n"
     ]
    }
   ],
   "source": [
    "count=0\n",
    "for i in E:\n",
    "    if i is True:\n",
    "        count=count+1\n",
    "print(count) "
   ]
  },
  {
   "cell_type": "code",
   "execution_count": 762,
   "id": "80a337cd",
   "metadata": {},
   "outputs": [],
   "source": [
    "E=c['ROOMNAME']=='Room 207 (Double Bed)'"
   ]
  },
  {
   "cell_type": "code",
   "execution_count": 763,
   "id": "59a698df",
   "metadata": {},
   "outputs": [
    {
     "name": "stdout",
     "output_type": "stream",
     "text": [
      "2\n"
     ]
    }
   ],
   "source": [
    "count=0\n",
    "for i in E:\n",
    "    if i is True:\n",
    "        count=count+1\n",
    "print(count) "
   ]
  },
  {
   "cell_type": "code",
   "execution_count": 764,
   "id": "b14e9200",
   "metadata": {},
   "outputs": [],
   "source": [
    "E=c['ROOMNAME']=='Room 208 (Double Bed)'"
   ]
  },
  {
   "cell_type": "code",
   "execution_count": 765,
   "id": "66c071bf",
   "metadata": {},
   "outputs": [
    {
     "name": "stdout",
     "output_type": "stream",
     "text": [
      "2\n"
     ]
    }
   ],
   "source": [
    "count=0\n",
    "for i in E:\n",
    "    if i is True:\n",
    "        count=count+1\n",
    "print(count) "
   ]
  },
  {
   "cell_type": "code",
   "execution_count": 766,
   "id": "855a5688",
   "metadata": {},
   "outputs": [],
   "source": [
    "E=c['ROOMNAME']=='Room 209 (Double Bed)'"
   ]
  },
  {
   "cell_type": "code",
   "execution_count": 767,
   "id": "9984e22d",
   "metadata": {},
   "outputs": [
    {
     "name": "stdout",
     "output_type": "stream",
     "text": [
      "2\n"
     ]
    }
   ],
   "source": [
    "count=0\n",
    "for i in E:\n",
    "    if i is True:\n",
    "        count=count+1\n",
    "print(count) "
   ]
  },
  {
   "cell_type": "code",
   "execution_count": 768,
   "id": "03f51100",
   "metadata": {},
   "outputs": [],
   "source": [
    "E=c['ROOMNAME']=='Room 210 (Double Bed)'"
   ]
  },
  {
   "cell_type": "code",
   "execution_count": 769,
   "id": "c8b327e4",
   "metadata": {},
   "outputs": [
    {
     "name": "stdout",
     "output_type": "stream",
     "text": [
      "2\n"
     ]
    }
   ],
   "source": [
    "count=0\n",
    "for i in E:\n",
    "    if i is True:\n",
    "        count=count+1\n",
    "print(count) "
   ]
  },
  {
   "cell_type": "code",
   "execution_count": 770,
   "id": "f036f48f",
   "metadata": {},
   "outputs": [],
   "source": [
    "E=c['ROOMNAME']=='Room 211 (Double Bed)'"
   ]
  },
  {
   "cell_type": "code",
   "execution_count": 771,
   "id": "e4f12a05",
   "metadata": {},
   "outputs": [
    {
     "name": "stdout",
     "output_type": "stream",
     "text": [
      "2\n"
     ]
    }
   ],
   "source": [
    "count=0\n",
    "for i in E:\n",
    "    if i is True:\n",
    "        count=count+1\n",
    "print(count) "
   ]
  },
  {
   "cell_type": "code",
   "execution_count": 772,
   "id": "989a4e0a",
   "metadata": {},
   "outputs": [],
   "source": [
    "E=c['ROOMNAME']=='Room 212 (Single Bed)'"
   ]
  },
  {
   "cell_type": "code",
   "execution_count": 773,
   "id": "309d3899",
   "metadata": {},
   "outputs": [
    {
     "name": "stdout",
     "output_type": "stream",
     "text": [
      "1\n"
     ]
    }
   ],
   "source": [
    "count=0\n",
    "for i in E:\n",
    "    if i is True:\n",
    "        count=count+1\n",
    "print(count) "
   ]
  },
  {
   "cell_type": "code",
   "execution_count": 774,
   "id": "fc30678e",
   "metadata": {},
   "outputs": [],
   "source": [
    "E=c['ROOMNAME']=='Room 213 (Single Bed)'"
   ]
  },
  {
   "cell_type": "code",
   "execution_count": 775,
   "id": "e14e6b4a",
   "metadata": {},
   "outputs": [
    {
     "name": "stdout",
     "output_type": "stream",
     "text": [
      "1\n"
     ]
    }
   ],
   "source": [
    "count=0\n",
    "for i in E:\n",
    "    if i is True:\n",
    "        count=count+1\n",
    "print(count) "
   ]
  },
  {
   "cell_type": "code",
   "execution_count": 776,
   "id": "7c6d59ed",
   "metadata": {},
   "outputs": [],
   "source": [
    "E=c['ROOMNAME']=='Room 214 (Single Bed)'"
   ]
  },
  {
   "cell_type": "code",
   "execution_count": 777,
   "id": "f28cc513",
   "metadata": {},
   "outputs": [
    {
     "name": "stdout",
     "output_type": "stream",
     "text": [
      "1\n"
     ]
    }
   ],
   "source": [
    "count=0\n",
    "for i in E:\n",
    "    if i is True:\n",
    "        count=count+1\n",
    "print(count) "
   ]
  },
  {
   "cell_type": "code",
   "execution_count": 778,
   "id": "f7125d5a",
   "metadata": {},
   "outputs": [],
   "source": [
    "E=c['ROOMNAME']=='Room 215 (Single Bed)'"
   ]
  },
  {
   "cell_type": "code",
   "execution_count": 779,
   "id": "b3f3a715",
   "metadata": {},
   "outputs": [
    {
     "name": "stdout",
     "output_type": "stream",
     "text": [
      "1\n"
     ]
    }
   ],
   "source": [
    "count=0\n",
    "for i in E:\n",
    "    if i is True:\n",
    "        count=count+1\n",
    "print(count) "
   ]
  },
  {
   "cell_type": "code",
   "execution_count": 780,
   "id": "bbc6c315",
   "metadata": {},
   "outputs": [],
   "source": [
    "E=c['ROOMNAME']=='Room 216 (Single Bed)'"
   ]
  },
  {
   "cell_type": "code",
   "execution_count": 781,
   "id": "d804a8c8",
   "metadata": {},
   "outputs": [
    {
     "name": "stdout",
     "output_type": "stream",
     "text": [
      "1\n"
     ]
    }
   ],
   "source": [
    "count=0\n",
    "for i in E:\n",
    "    if i is True:\n",
    "        count=count+1\n",
    "print(count) "
   ]
  },
  {
   "cell_type": "code",
   "execution_count": 782,
   "id": "aa2a00ac",
   "metadata": {},
   "outputs": [],
   "source": [
    "E=c['ROOMNAME']=='Room 217 (Single Bed)'"
   ]
  },
  {
   "cell_type": "code",
   "execution_count": 783,
   "id": "7162e80a",
   "metadata": {},
   "outputs": [
    {
     "name": "stdout",
     "output_type": "stream",
     "text": [
      "1\n"
     ]
    }
   ],
   "source": [
    "count=0\n",
    "for i in E:\n",
    "    if i is True:\n",
    "        count=count+1\n",
    "print(count) "
   ]
  },
  {
   "cell_type": "code",
   "execution_count": 784,
   "id": "b2180f05",
   "metadata": {},
   "outputs": [],
   "source": [
    "E=c['ROOMNAME']=='Room 218 (Four Bedded)'"
   ]
  },
  {
   "cell_type": "code",
   "execution_count": 785,
   "id": "4a47fdc8",
   "metadata": {},
   "outputs": [
    {
     "name": "stdout",
     "output_type": "stream",
     "text": [
      "2\n"
     ]
    }
   ],
   "source": [
    "count=0\n",
    "for i in E:\n",
    "    if i is True:\n",
    "        count=count+1\n",
    "print(count) "
   ]
  },
  {
   "cell_type": "code",
   "execution_count": 786,
   "id": "8b3beb21",
   "metadata": {},
   "outputs": [],
   "source": [
    "E=c['ROOMNAME']=='Room 219 (Double Bed)'"
   ]
  },
  {
   "cell_type": "code",
   "execution_count": 787,
   "id": "a54c6351",
   "metadata": {},
   "outputs": [
    {
     "name": "stdout",
     "output_type": "stream",
     "text": [
      "2\n"
     ]
    }
   ],
   "source": [
    "count=0\n",
    "for i in E:\n",
    "    if i is True:\n",
    "        count=count+1\n",
    "print(count) "
   ]
  },
  {
   "cell_type": "code",
   "execution_count": 788,
   "id": "967393e0",
   "metadata": {},
   "outputs": [],
   "source": [
    "E=c['ROOMNAME']=='Room 220 (Executive Suite)'"
   ]
  },
  {
   "cell_type": "code",
   "execution_count": 789,
   "id": "de148103",
   "metadata": {},
   "outputs": [
    {
     "name": "stdout",
     "output_type": "stream",
     "text": [
      "1\n"
     ]
    }
   ],
   "source": [
    "count=0\n",
    "for i in E:\n",
    "    if i is True:\n",
    "        count=count+1\n",
    "print(count) "
   ]
  },
  {
   "cell_type": "code",
   "execution_count": 790,
   "id": "07f0d8f3",
   "metadata": {},
   "outputs": [],
   "source": [
    "E=c['ROOMNAME']=='Room 221 (Double Bed)'"
   ]
  },
  {
   "cell_type": "code",
   "execution_count": 791,
   "id": "167e065c",
   "metadata": {},
   "outputs": [
    {
     "name": "stdout",
     "output_type": "stream",
     "text": [
      "2\n"
     ]
    }
   ],
   "source": [
    "count=0\n",
    "for i in E:\n",
    "    if i is True:\n",
    "        count=count+1\n",
    "print(count) "
   ]
  },
  {
   "cell_type": "code",
   "execution_count": 793,
   "id": "d30a031c",
   "metadata": {},
   "outputs": [],
   "source": [
    "E=c['ROOMNAME']=='Room 222 (Double Bed)'"
   ]
  },
  {
   "cell_type": "code",
   "execution_count": 794,
   "id": "85567c84",
   "metadata": {},
   "outputs": [
    {
     "name": "stdout",
     "output_type": "stream",
     "text": [
      "2\n"
     ]
    }
   ],
   "source": [
    "count=0\n",
    "for i in E:\n",
    "    if i is True:\n",
    "        count=count+1\n",
    "print(count) "
   ]
  },
  {
   "cell_type": "code",
   "execution_count": 795,
   "id": "3cc62c8a",
   "metadata": {},
   "outputs": [],
   "source": [
    "E=c['ROOMNAME']=='Room 223 (Single Bed)'"
   ]
  },
  {
   "cell_type": "code",
   "execution_count": 796,
   "id": "39c39f35",
   "metadata": {},
   "outputs": [
    {
     "name": "stdout",
     "output_type": "stream",
     "text": [
      "1\n"
     ]
    }
   ],
   "source": [
    "count=0\n",
    "for i in E:\n",
    "    if i is True:\n",
    "        count=count+1\n",
    "print(count) "
   ]
  },
  {
   "cell_type": "code",
   "execution_count": 797,
   "id": "ad39b4b7",
   "metadata": {},
   "outputs": [],
   "source": [
    "E=c['ROOMNAME']=='Room 224 (Single Bed)'"
   ]
  },
  {
   "cell_type": "code",
   "execution_count": 798,
   "id": "8d8a69df",
   "metadata": {},
   "outputs": [
    {
     "name": "stdout",
     "output_type": "stream",
     "text": [
      "1\n"
     ]
    }
   ],
   "source": [
    "count=0\n",
    "for i in E:\n",
    "    if i is True:\n",
    "        count=count+1\n",
    "print(count) "
   ]
  },
  {
   "cell_type": "code",
   "execution_count": 799,
   "id": "dd90a104",
   "metadata": {},
   "outputs": [],
   "source": [
    "E=c['ROOMNAME']=='Room 225 (Single Bed)'"
   ]
  },
  {
   "cell_type": "code",
   "execution_count": 800,
   "id": "1aff546a",
   "metadata": {},
   "outputs": [
    {
     "name": "stdout",
     "output_type": "stream",
     "text": [
      "1\n"
     ]
    }
   ],
   "source": [
    "count=0\n",
    "for i in E:\n",
    "    if i is True:\n",
    "        count=count+1\n",
    "print(count) "
   ]
  },
  {
   "cell_type": "code",
   "execution_count": 801,
   "id": "f60bee0d",
   "metadata": {},
   "outputs": [],
   "source": [
    "E=c['ROOMNAME']=='Room 226 (Single Bed)'"
   ]
  },
  {
   "cell_type": "code",
   "execution_count": 802,
   "id": "5fcba23b",
   "metadata": {},
   "outputs": [
    {
     "name": "stdout",
     "output_type": "stream",
     "text": [
      "1\n"
     ]
    }
   ],
   "source": [
    "count=0\n",
    "for i in E:\n",
    "    if i is True:\n",
    "        count=count+1\n",
    "print(count) "
   ]
  },
  {
   "cell_type": "code",
   "execution_count": 803,
   "id": "e89744b1",
   "metadata": {},
   "outputs": [],
   "source": [
    "E=c['ROOMNAME']=='Room 301 (Double Bed)'"
   ]
  },
  {
   "cell_type": "code",
   "execution_count": 804,
   "id": "6ef8ae0c",
   "metadata": {},
   "outputs": [
    {
     "name": "stdout",
     "output_type": "stream",
     "text": [
      "2\n"
     ]
    }
   ],
   "source": [
    "count=0\n",
    "for i in E:\n",
    "    if i is True:\n",
    "        count=count+1\n",
    "print(count) "
   ]
  },
  {
   "cell_type": "code",
   "execution_count": 805,
   "id": "1d1f536c",
   "metadata": {},
   "outputs": [],
   "source": [
    "E=c['ROOMNAME']=='Room 302 (Double Bed)'"
   ]
  },
  {
   "cell_type": "code",
   "execution_count": 806,
   "id": "8667a10c",
   "metadata": {},
   "outputs": [
    {
     "name": "stdout",
     "output_type": "stream",
     "text": [
      "2\n"
     ]
    }
   ],
   "source": [
    "count=0\n",
    "for i in E:\n",
    "    if i is True:\n",
    "        count=count+1\n",
    "print(count) "
   ]
  },
  {
   "cell_type": "code",
   "execution_count": 807,
   "id": "f106c447",
   "metadata": {},
   "outputs": [],
   "source": [
    "E=c['ROOMNAME']=='Room 303 (Double Bed)'"
   ]
  },
  {
   "cell_type": "code",
   "execution_count": 808,
   "id": "e5ab0e43",
   "metadata": {},
   "outputs": [
    {
     "name": "stdout",
     "output_type": "stream",
     "text": [
      "2\n"
     ]
    }
   ],
   "source": [
    "count=0\n",
    "for i in E:\n",
    "    if i is True:\n",
    "        count=count+1\n",
    "print(count) "
   ]
  },
  {
   "cell_type": "code",
   "execution_count": 809,
   "id": "e009d704",
   "metadata": {},
   "outputs": [],
   "source": [
    "E=c['ROOMNAME']=='Room 304 (Double Bed)'"
   ]
  },
  {
   "cell_type": "code",
   "execution_count": 810,
   "id": "6bc7f03e",
   "metadata": {},
   "outputs": [
    {
     "name": "stdout",
     "output_type": "stream",
     "text": [
      "2\n"
     ]
    }
   ],
   "source": [
    "count=0\n",
    "for i in E:\n",
    "    if i is True:\n",
    "        count=count+1\n",
    "print(count) "
   ]
  },
  {
   "cell_type": "code",
   "execution_count": 811,
   "id": "99ddd44b",
   "metadata": {},
   "outputs": [],
   "source": [
    "E=c['ROOMNAME']=='Room 305 (Double Bed)'"
   ]
  },
  {
   "cell_type": "code",
   "execution_count": 812,
   "id": "3ddd0f52",
   "metadata": {},
   "outputs": [
    {
     "name": "stdout",
     "output_type": "stream",
     "text": [
      "2\n"
     ]
    }
   ],
   "source": [
    "count=0\n",
    "for i in E:\n",
    "    if i is True:\n",
    "        count=count+1\n",
    "print(count) "
   ]
  },
  {
   "cell_type": "code",
   "execution_count": 813,
   "id": "937ff303",
   "metadata": {},
   "outputs": [],
   "source": [
    "E=c['ROOMNAME']=='Room 306 (Suite)'"
   ]
  },
  {
   "cell_type": "code",
   "execution_count": 814,
   "id": "f15eca92",
   "metadata": {},
   "outputs": [
    {
     "name": "stdout",
     "output_type": "stream",
     "text": [
      "1\n"
     ]
    }
   ],
   "source": [
    "count=0\n",
    "for i in E:\n",
    "    if i is True:\n",
    "        count=count+1\n",
    "print(count) "
   ]
  },
  {
   "cell_type": "code",
   "execution_count": 815,
   "id": "788a3021",
   "metadata": {},
   "outputs": [],
   "source": [
    "E=c['ROOMNAME']=='Room 307 (Single Bed)'"
   ]
  },
  {
   "cell_type": "code",
   "execution_count": 816,
   "id": "c580cf0c",
   "metadata": {},
   "outputs": [
    {
     "name": "stdout",
     "output_type": "stream",
     "text": [
      "1\n"
     ]
    }
   ],
   "source": [
    "count=0\n",
    "for i in E:\n",
    "    if i is True:\n",
    "        count=count+1\n",
    "print(count) "
   ]
  },
  {
   "cell_type": "code",
   "execution_count": 817,
   "id": "aa0045d5",
   "metadata": {},
   "outputs": [],
   "source": [
    "E=c['ROOMNAME']=='Room 308 (Single Bed)'"
   ]
  },
  {
   "cell_type": "code",
   "execution_count": 818,
   "id": "9df23653",
   "metadata": {},
   "outputs": [
    {
     "name": "stdout",
     "output_type": "stream",
     "text": [
      "1\n"
     ]
    }
   ],
   "source": [
    "count=0\n",
    "for i in E:\n",
    "    if i is True:\n",
    "        count=count+1\n",
    "print(count) "
   ]
  },
  {
   "cell_type": "code",
   "execution_count": 821,
   "id": "bee2218d",
   "metadata": {},
   "outputs": [],
   "source": [
    "E=c['ROOMNAME']=='Room 309 (Double Bed)'"
   ]
  },
  {
   "cell_type": "code",
   "execution_count": 822,
   "id": "3835c9da",
   "metadata": {},
   "outputs": [
    {
     "name": "stdout",
     "output_type": "stream",
     "text": [
      "2\n"
     ]
    }
   ],
   "source": [
    "count=0\n",
    "for i in E:\n",
    "    if i is True:\n",
    "        count=count+1\n",
    "print(count) "
   ]
  },
  {
   "cell_type": "code",
   "execution_count": 823,
   "id": "e9356209",
   "metadata": {},
   "outputs": [],
   "source": [
    "E=c['ROOMNAME']=='Room 310 (Double Bed)'"
   ]
  },
  {
   "cell_type": "code",
   "execution_count": 824,
   "id": "5b3ff501",
   "metadata": {},
   "outputs": [
    {
     "name": "stdout",
     "output_type": "stream",
     "text": [
      "2\n"
     ]
    }
   ],
   "source": [
    "count=0\n",
    "for i in E:\n",
    "    if i is True:\n",
    "        count=count+1\n",
    "print(count) "
   ]
  },
  {
   "cell_type": "code",
   "execution_count": 825,
   "id": "ae6f8d8f",
   "metadata": {},
   "outputs": [],
   "source": [
    "E=c['ROOMNAME']=='Room 311 (Double Bed)'"
   ]
  },
  {
   "cell_type": "code",
   "execution_count": 826,
   "id": "1ef33183",
   "metadata": {},
   "outputs": [
    {
     "name": "stdout",
     "output_type": "stream",
     "text": [
      "2\n"
     ]
    }
   ],
   "source": [
    "count=0\n",
    "for i in E:\n",
    "    if i is True:\n",
    "        count=count+1\n",
    "print(count) "
   ]
  },
  {
   "cell_type": "code",
   "execution_count": 829,
   "id": "bf1663f2",
   "metadata": {},
   "outputs": [],
   "source": [
    "E=c['ROOMNAME']=='Room 312 (Double Bed)'"
   ]
  },
  {
   "cell_type": "code",
   "execution_count": 830,
   "id": "b51cf821",
   "metadata": {},
   "outputs": [
    {
     "name": "stdout",
     "output_type": "stream",
     "text": [
      "2\n"
     ]
    }
   ],
   "source": [
    "count=0\n",
    "for i in E:\n",
    "    if i is True:\n",
    "        count=count+1\n",
    "print(count) "
   ]
  },
  {
   "cell_type": "code",
   "execution_count": 831,
   "id": "0277a121",
   "metadata": {},
   "outputs": [],
   "source": [
    "E=c['ROOMNAME']=='Room 313 (Double Bed)'"
   ]
  },
  {
   "cell_type": "code",
   "execution_count": 832,
   "id": "0e8b1da6",
   "metadata": {},
   "outputs": [
    {
     "name": "stdout",
     "output_type": "stream",
     "text": [
      "2\n"
     ]
    }
   ],
   "source": [
    "count=0\n",
    "for i in E:\n",
    "    if i is True:\n",
    "        count=count+1\n",
    "print(count) "
   ]
  },
  {
   "cell_type": "code",
   "execution_count": 833,
   "id": "1bfb9cc7",
   "metadata": {},
   "outputs": [],
   "source": [
    "E=c['ROOMNAME']=='Room 314 (Double Bed)'"
   ]
  },
  {
   "cell_type": "code",
   "execution_count": 834,
   "id": "de7413de",
   "metadata": {},
   "outputs": [
    {
     "name": "stdout",
     "output_type": "stream",
     "text": [
      "2\n"
     ]
    }
   ],
   "source": [
    "count=0\n",
    "for i in E:\n",
    "    if i is True:\n",
    "        count=count+1\n",
    "print(count) "
   ]
  },
  {
   "cell_type": "code",
   "execution_count": 835,
   "id": "a9145a01",
   "metadata": {},
   "outputs": [],
   "source": [
    "E=c['ROOMNAME']=='Room 315 (Single Bed)'"
   ]
  },
  {
   "cell_type": "code",
   "execution_count": 836,
   "id": "a6540b4b",
   "metadata": {},
   "outputs": [
    {
     "name": "stdout",
     "output_type": "stream",
     "text": [
      "1\n"
     ]
    }
   ],
   "source": [
    "count=0\n",
    "for i in E:\n",
    "    if i is True:\n",
    "        count=count+1\n",
    "print(count) "
   ]
  },
  {
   "cell_type": "code",
   "execution_count": 837,
   "id": "337fcdf3",
   "metadata": {},
   "outputs": [],
   "source": [
    "E=c['ROOMNAME']=='Room 316 (Single Bed)'"
   ]
  },
  {
   "cell_type": "code",
   "execution_count": 838,
   "id": "1a5b64fd",
   "metadata": {},
   "outputs": [
    {
     "name": "stdout",
     "output_type": "stream",
     "text": [
      "1\n"
     ]
    }
   ],
   "source": [
    "count=0\n",
    "for i in E:\n",
    "    if i is True:\n",
    "        count=count+1\n",
    "print(count) "
   ]
  },
  {
   "cell_type": "code",
   "execution_count": 839,
   "id": "94d4a80d",
   "metadata": {},
   "outputs": [],
   "source": [
    "E=c['ROOMNAME']=='Room 317 (Single Bed)'"
   ]
  },
  {
   "cell_type": "code",
   "execution_count": 840,
   "id": "b84a23e6",
   "metadata": {},
   "outputs": [
    {
     "name": "stdout",
     "output_type": "stream",
     "text": [
      "1\n"
     ]
    }
   ],
   "source": [
    "count=0\n",
    "for i in E:\n",
    "    if i is True:\n",
    "        count=count+1\n",
    "print(count) "
   ]
  },
  {
   "cell_type": "code",
   "execution_count": 841,
   "id": "3d5cbe0e",
   "metadata": {},
   "outputs": [],
   "source": [
    "E=c['ROOMNAME']=='Room 318 (Single Bed)'"
   ]
  },
  {
   "cell_type": "code",
   "execution_count": 842,
   "id": "8d4d5e89",
   "metadata": {},
   "outputs": [
    {
     "name": "stdout",
     "output_type": "stream",
     "text": [
      "1\n"
     ]
    }
   ],
   "source": [
    "count=0\n",
    "for i in E:\n",
    "    if i is True:\n",
    "        count=count+1\n",
    "print(count) "
   ]
  },
  {
   "cell_type": "code",
   "execution_count": 843,
   "id": "bb5aa4b4",
   "metadata": {},
   "outputs": [],
   "source": [
    "E=c['ROOMNAME']=='Room 319 (Single Bed)'"
   ]
  },
  {
   "cell_type": "code",
   "execution_count": 844,
   "id": "b24abe38",
   "metadata": {},
   "outputs": [
    {
     "name": "stdout",
     "output_type": "stream",
     "text": [
      "1\n"
     ]
    }
   ],
   "source": [
    "count=0\n",
    "for i in E:\n",
    "    if i is True:\n",
    "        count=count+1\n",
    "print(count) "
   ]
  },
  {
   "cell_type": "code",
   "execution_count": 845,
   "id": "b7f0372b",
   "metadata": {},
   "outputs": [],
   "source": [
    "E=c['ROOMNAME']=='Room 320 (Single Bed)'"
   ]
  },
  {
   "cell_type": "code",
   "execution_count": 846,
   "id": "2d48702d",
   "metadata": {},
   "outputs": [
    {
     "name": "stdout",
     "output_type": "stream",
     "text": [
      "1\n"
     ]
    }
   ],
   "source": [
    "count=0\n",
    "for i in E:\n",
    "    if i is True:\n",
    "        count=count+1\n",
    "print(count) "
   ]
  },
  {
   "cell_type": "code",
   "execution_count": 847,
   "id": "cf5ce56f",
   "metadata": {},
   "outputs": [],
   "source": [
    "E=c['ROOMNAME']=='Room 321 (Four Bedded)'"
   ]
  },
  {
   "cell_type": "code",
   "execution_count": 848,
   "id": "8042fa10",
   "metadata": {},
   "outputs": [
    {
     "name": "stdout",
     "output_type": "stream",
     "text": [
      "3\n"
     ]
    }
   ],
   "source": [
    "count=0\n",
    "for i in E:\n",
    "    if i is True:\n",
    "        count=count+1\n",
    "print(count) "
   ]
  },
  {
   "cell_type": "code",
   "execution_count": 849,
   "id": "a7eabf45",
   "metadata": {},
   "outputs": [],
   "source": [
    "E=c['ROOMNAME']=='Room 322 (Four Bedded)'"
   ]
  },
  {
   "cell_type": "code",
   "execution_count": 850,
   "id": "329e14f2",
   "metadata": {},
   "outputs": [
    {
     "name": "stdout",
     "output_type": "stream",
     "text": [
      "3\n"
     ]
    }
   ],
   "source": [
    "count=0\n",
    "for i in E:\n",
    "    if i is True:\n",
    "        count=count+1\n",
    "print(count) "
   ]
  },
  {
   "cell_type": "code",
   "execution_count": 861,
   "id": "ad864485",
   "metadata": {},
   "outputs": [],
   "source": [
    "E=c['ROOMNAME']=='Room 323 (Double Bed)'"
   ]
  },
  {
   "cell_type": "code",
   "execution_count": 862,
   "id": "f9887a7b",
   "metadata": {},
   "outputs": [
    {
     "name": "stdout",
     "output_type": "stream",
     "text": [
      "0\n"
     ]
    }
   ],
   "source": [
    "count=0\n",
    "for i in E:\n",
    "    if i is True:\n",
    "        count=count+1\n",
    "print(count) "
   ]
  },
  {
   "cell_type": "code",
   "execution_count": 863,
   "id": "d5ad8efd",
   "metadata": {},
   "outputs": [],
   "source": [
    "E=c['ROOMNAME']=='Room 324 (Double Bed)'"
   ]
  },
  {
   "cell_type": "code",
   "execution_count": 864,
   "id": "696555d6",
   "metadata": {},
   "outputs": [
    {
     "name": "stdout",
     "output_type": "stream",
     "text": [
      "3\n"
     ]
    }
   ],
   "source": [
    "count=0\n",
    "for i in E:\n",
    "    if i is True:\n",
    "        count=count+1\n",
    "print(count) "
   ]
  },
  {
   "cell_type": "code",
   "execution_count": 865,
   "id": "9b50c288",
   "metadata": {},
   "outputs": [],
   "source": [
    "E=c['ROOMNAME']=='Room 325 (Four Bedded)'"
   ]
  },
  {
   "cell_type": "code",
   "execution_count": 866,
   "id": "f4a5aa15",
   "metadata": {},
   "outputs": [
    {
     "name": "stdout",
     "output_type": "stream",
     "text": [
      "3\n"
     ]
    }
   ],
   "source": [
    "count=0\n",
    "for i in E:\n",
    "    if i is True:\n",
    "        count=count+1\n",
    "print(count) "
   ]
  },
  {
   "cell_type": "code",
   "execution_count": 867,
   "id": "ff872e80",
   "metadata": {},
   "outputs": [],
   "source": [
    "E=c['ROOMNAME']=='Room 326 (Suite)'"
   ]
  },
  {
   "cell_type": "code",
   "execution_count": 868,
   "id": "06111e8e",
   "metadata": {},
   "outputs": [
    {
     "name": "stdout",
     "output_type": "stream",
     "text": [
      "1\n"
     ]
    }
   ],
   "source": [
    "count=0\n",
    "for i in E:\n",
    "    if i is True:\n",
    "        count=count+1\n",
    "print(count) "
   ]
  },
  {
   "cell_type": "code",
   "execution_count": 869,
   "id": "35911766",
   "metadata": {},
   "outputs": [],
   "source": [
    "E=c['ROOMNAME']=='Room 327 (Single Bed)'"
   ]
  },
  {
   "cell_type": "code",
   "execution_count": 870,
   "id": "2d66d62c",
   "metadata": {},
   "outputs": [
    {
     "name": "stdout",
     "output_type": "stream",
     "text": [
      "1\n"
     ]
    }
   ],
   "source": [
    "count=0\n",
    "for i in E:\n",
    "    if i is True:\n",
    "        count=count+1\n",
    "print(count) "
   ]
  },
  {
   "cell_type": "code",
   "execution_count": 871,
   "id": "46af5d50",
   "metadata": {},
   "outputs": [],
   "source": [
    "E=c['ROOMNAME']=='Room 329 (Four Bedded)'"
   ]
  },
  {
   "cell_type": "code",
   "execution_count": 872,
   "id": "4ce2248f",
   "metadata": {},
   "outputs": [
    {
     "name": "stdout",
     "output_type": "stream",
     "text": [
      "8\n"
     ]
    }
   ],
   "source": [
    "count=0\n",
    "for i in E:\n",
    "    if i is True:\n",
    "        count=count+1\n",
    "print(count) "
   ]
  },
  {
   "cell_type": "code",
   "execution_count": 873,
   "id": "7c760365",
   "metadata": {},
   "outputs": [],
   "source": [
    "E=c['ROOMNAME']=='Room 330 (Double Bed)'"
   ]
  },
  {
   "cell_type": "code",
   "execution_count": 874,
   "id": "3279ad33",
   "metadata": {},
   "outputs": [
    {
     "name": "stdout",
     "output_type": "stream",
     "text": [
      "3\n"
     ]
    }
   ],
   "source": [
    "count=0\n",
    "for i in E:\n",
    "    if i is True:\n",
    "        count=count+1\n",
    "print(count) "
   ]
  },
  {
   "cell_type": "code",
   "execution_count": 875,
   "id": "83451d83",
   "metadata": {},
   "outputs": [],
   "source": [
    "E=c['ROOMNAME']=='Room 331 (Double Bed)'"
   ]
  },
  {
   "cell_type": "code",
   "execution_count": 876,
   "id": "d4d0bf1a",
   "metadata": {},
   "outputs": [
    {
     "name": "stdout",
     "output_type": "stream",
     "text": [
      "3\n"
     ]
    }
   ],
   "source": [
    "count=0\n",
    "for i in E:\n",
    "    if i is True:\n",
    "        count=count+1\n",
    "print(count) "
   ]
  },
  {
   "cell_type": "code",
   "execution_count": 877,
   "id": "110915c8",
   "metadata": {},
   "outputs": [],
   "source": [
    "E=c['ROOMNAME']=='Room 332 (Double Bed)'"
   ]
  },
  {
   "cell_type": "code",
   "execution_count": 878,
   "id": "fc16efc3",
   "metadata": {},
   "outputs": [
    {
     "name": "stdout",
     "output_type": "stream",
     "text": [
      "3\n"
     ]
    }
   ],
   "source": [
    "count=0\n",
    "for i in E:\n",
    "    if i is True:\n",
    "        count=count+1\n",
    "print(count) "
   ]
  },
  {
   "cell_type": "code",
   "execution_count": 879,
   "id": "6af6dc74",
   "metadata": {},
   "outputs": [],
   "source": [
    "E=c['ROOMNAME']=='Room 333 (Double Bed)'"
   ]
  },
  {
   "cell_type": "code",
   "execution_count": 880,
   "id": "58c4a196",
   "metadata": {},
   "outputs": [
    {
     "name": "stdout",
     "output_type": "stream",
     "text": [
      "3\n"
     ]
    }
   ],
   "source": [
    "count=0\n",
    "for i in E:\n",
    "    if i is True:\n",
    "        count=count+1\n",
    "print(count) "
   ]
  },
  {
   "cell_type": "code",
   "execution_count": 881,
   "id": "9b6ead5c",
   "metadata": {},
   "outputs": [],
   "source": [
    "E=c['ROOMNAME']=='Room 334 (Double Bed)'"
   ]
  },
  {
   "cell_type": "code",
   "execution_count": 882,
   "id": "bba81f3f",
   "metadata": {},
   "outputs": [
    {
     "name": "stdout",
     "output_type": "stream",
     "text": [
      "3\n"
     ]
    }
   ],
   "source": [
    "count=0\n",
    "for i in E:\n",
    "    if i is True:\n",
    "        count=count+1\n",
    "print(count) "
   ]
  },
  {
   "cell_type": "code",
   "execution_count": 883,
   "id": "214b73d0",
   "metadata": {},
   "outputs": [],
   "source": [
    "E=c['ROOMNAME']=='Room 335 (Single Bed)'"
   ]
  },
  {
   "cell_type": "code",
   "execution_count": 884,
   "id": "00ad119c",
   "metadata": {},
   "outputs": [
    {
     "name": "stdout",
     "output_type": "stream",
     "text": [
      "1\n"
     ]
    }
   ],
   "source": [
    "count=0\n",
    "for i in E:\n",
    "    if i is True:\n",
    "        count=count+1\n",
    "print(count) "
   ]
  },
  {
   "cell_type": "code",
   "execution_count": 885,
   "id": "616f61e5",
   "metadata": {},
   "outputs": [],
   "source": [
    "E=c['ROOMNAME']=='Room 336 (Single Bed)'"
   ]
  },
  {
   "cell_type": "code",
   "execution_count": 886,
   "id": "74139ba0",
   "metadata": {},
   "outputs": [
    {
     "name": "stdout",
     "output_type": "stream",
     "text": [
      "1\n"
     ]
    }
   ],
   "source": [
    "count=0\n",
    "for i in E:\n",
    "    if i is True:\n",
    "        count=count+1\n",
    "print(count) "
   ]
  },
  {
   "cell_type": "code",
   "execution_count": 887,
   "id": "2e3c7215",
   "metadata": {},
   "outputs": [],
   "source": [
    "E=c['ROOMNAME']=='Room 337 (Single Bed)'"
   ]
  },
  {
   "cell_type": "code",
   "execution_count": 888,
   "id": "df8c1185",
   "metadata": {},
   "outputs": [
    {
     "name": "stdout",
     "output_type": "stream",
     "text": [
      "1\n"
     ]
    }
   ],
   "source": [
    "count=0\n",
    "for i in E:\n",
    "    if i is True:\n",
    "        count=count+1\n",
    "print(count) "
   ]
  },
  {
   "cell_type": "code",
   "execution_count": 889,
   "id": "f6e36c71",
   "metadata": {},
   "outputs": [],
   "source": [
    "E=c['ROOMNAME']=='Room 338 (Single Bed)'"
   ]
  },
  {
   "cell_type": "code",
   "execution_count": 890,
   "id": "d7d7ad77",
   "metadata": {},
   "outputs": [
    {
     "name": "stdout",
     "output_type": "stream",
     "text": [
      "1\n"
     ]
    }
   ],
   "source": [
    "count=0\n",
    "for i in E:\n",
    "    if i is True:\n",
    "        count=count+1\n",
    "print(count) "
   ]
  },
  {
   "cell_type": "code",
   "execution_count": 891,
   "id": "abf12253",
   "metadata": {},
   "outputs": [],
   "source": [
    "E=c['ROOMNAME']=='Room 339 (Single Bed)'"
   ]
  },
  {
   "cell_type": "code",
   "execution_count": 892,
   "id": "246ab28b",
   "metadata": {},
   "outputs": [
    {
     "name": "stdout",
     "output_type": "stream",
     "text": [
      "1\n"
     ]
    }
   ],
   "source": [
    "count=0\n",
    "for i in E:\n",
    "    if i is True:\n",
    "        count=count+1\n",
    "print(count) "
   ]
  },
  {
   "cell_type": "code",
   "execution_count": 893,
   "id": "7bcee9eb",
   "metadata": {},
   "outputs": [],
   "source": [
    "E=c['ROOMNAME']=='Room 421 (HDU)'"
   ]
  },
  {
   "cell_type": "code",
   "execution_count": 894,
   "id": "3999259a",
   "metadata": {},
   "outputs": [
    {
     "name": "stdout",
     "output_type": "stream",
     "text": [
      "6\n"
     ]
    }
   ],
   "source": [
    "count=0\n",
    "for i in E:\n",
    "    if i is True:\n",
    "        count=count+1\n",
    "print(count) "
   ]
  },
  {
   "cell_type": "code",
   "execution_count": 895,
   "id": "5fcf2c3d",
   "metadata": {},
   "outputs": [],
   "source": [
    "E=c['ROOMNAME']=='Room 401 (Double Bed)'"
   ]
  },
  {
   "cell_type": "code",
   "execution_count": 896,
   "id": "3a518a5e",
   "metadata": {},
   "outputs": [
    {
     "name": "stdout",
     "output_type": "stream",
     "text": [
      "3\n"
     ]
    }
   ],
   "source": [
    "count=0\n",
    "for i in E:\n",
    "    if i is True:\n",
    "        count=count+1\n",
    "print(count) "
   ]
  },
  {
   "cell_type": "code",
   "execution_count": 897,
   "id": "8ab29f90",
   "metadata": {},
   "outputs": [],
   "source": [
    "E=c['ROOMNAME']=='Room 402 (Double Bed)'"
   ]
  },
  {
   "cell_type": "code",
   "execution_count": 898,
   "id": "e06fbb0f",
   "metadata": {},
   "outputs": [
    {
     "name": "stdout",
     "output_type": "stream",
     "text": [
      "3\n"
     ]
    }
   ],
   "source": [
    "count=0\n",
    "for i in E:\n",
    "    if i is True:\n",
    "        count=count+1\n",
    "print(count) "
   ]
  },
  {
   "cell_type": "code",
   "execution_count": 899,
   "id": "bf3b54d6",
   "metadata": {},
   "outputs": [],
   "source": [
    "E=c['ROOMNAME']=='Room 403 (Double Bed)'"
   ]
  },
  {
   "cell_type": "code",
   "execution_count": 900,
   "id": "e2d0a5d8",
   "metadata": {},
   "outputs": [
    {
     "name": "stdout",
     "output_type": "stream",
     "text": [
      "3\n"
     ]
    }
   ],
   "source": [
    "count=0\n",
    "for i in E:\n",
    "    if i is True:\n",
    "        count=count+1\n",
    "print(count) "
   ]
  },
  {
   "cell_type": "code",
   "execution_count": 901,
   "id": "a8f73831",
   "metadata": {},
   "outputs": [],
   "source": [
    "E=c['ROOMNAME']=='Room 404 (Double Bed)'"
   ]
  },
  {
   "cell_type": "code",
   "execution_count": 902,
   "id": "696c193a",
   "metadata": {},
   "outputs": [
    {
     "name": "stdout",
     "output_type": "stream",
     "text": [
      "3\n"
     ]
    }
   ],
   "source": [
    "count=0\n",
    "for i in E:\n",
    "    if i is True:\n",
    "        count=count+1\n",
    "print(count) "
   ]
  },
  {
   "cell_type": "code",
   "execution_count": 904,
   "id": "b9a34a15",
   "metadata": {},
   "outputs": [],
   "source": [
    "E=c['ROOMNAME']=='Room 405 (Double Bed)'"
   ]
  },
  {
   "cell_type": "code",
   "execution_count": 905,
   "id": "7aea99e6",
   "metadata": {},
   "outputs": [
    {
     "name": "stdout",
     "output_type": "stream",
     "text": [
      "3\n"
     ]
    }
   ],
   "source": [
    "count=0\n",
    "for i in E:\n",
    "    if i is True:\n",
    "        count=count+1\n",
    "print(count) "
   ]
  },
  {
   "cell_type": "code",
   "execution_count": 906,
   "id": "0b883d53",
   "metadata": {},
   "outputs": [],
   "source": [
    "E=c['ROOMNAME']=='Room 406 (Delute Suite)'"
   ]
  },
  {
   "cell_type": "code",
   "execution_count": 907,
   "id": "d88a11f7",
   "metadata": {},
   "outputs": [
    {
     "name": "stdout",
     "output_type": "stream",
     "text": [
      "0\n"
     ]
    }
   ],
   "source": [
    "count=0\n",
    "for i in E:\n",
    "    if i is True:\n",
    "        count=count+1\n",
    "print(count) "
   ]
  },
  {
   "cell_type": "code",
   "execution_count": 908,
   "id": "bc2c13e4",
   "metadata": {},
   "outputs": [],
   "source": [
    "E=c['ROOMNAME']=='Room 407 (Single Bed)'"
   ]
  },
  {
   "cell_type": "code",
   "execution_count": 909,
   "id": "c132f543",
   "metadata": {},
   "outputs": [
    {
     "name": "stdout",
     "output_type": "stream",
     "text": [
      "1\n"
     ]
    }
   ],
   "source": [
    "count=0\n",
    "for i in E:\n",
    "    if i is True:\n",
    "        count=count+1\n",
    "print(count) "
   ]
  },
  {
   "cell_type": "code",
   "execution_count": 910,
   "id": "ad6fbe50",
   "metadata": {},
   "outputs": [],
   "source": [
    "E=c['ROOMNAME']=='Room 408 (Single Bed)'"
   ]
  },
  {
   "cell_type": "code",
   "execution_count": 911,
   "id": "0080e9e7",
   "metadata": {},
   "outputs": [
    {
     "name": "stdout",
     "output_type": "stream",
     "text": [
      "1\n"
     ]
    }
   ],
   "source": [
    "count=0\n",
    "for i in E:\n",
    "    if i is True:\n",
    "        count=count+1\n",
    "print(count) "
   ]
  },
  {
   "cell_type": "code",
   "execution_count": 912,
   "id": "e0c47944",
   "metadata": {},
   "outputs": [],
   "source": [
    "E=c['ROOMNAME']=='Room 409 (Double Bed)'"
   ]
  },
  {
   "cell_type": "code",
   "execution_count": 913,
   "id": "dbb32851",
   "metadata": {},
   "outputs": [
    {
     "name": "stdout",
     "output_type": "stream",
     "text": [
      "3\n"
     ]
    }
   ],
   "source": [
    "count=0\n",
    "for i in E:\n",
    "    if i is True:\n",
    "        count=count+1\n",
    "print(count) "
   ]
  },
  {
   "cell_type": "code",
   "execution_count": 914,
   "id": "a1dbd597",
   "metadata": {},
   "outputs": [],
   "source": [
    "E=c['ROOMNAME']=='Room 410 (Four Bedded)'"
   ]
  },
  {
   "cell_type": "code",
   "execution_count": 915,
   "id": "c4d3beca",
   "metadata": {},
   "outputs": [
    {
     "name": "stdout",
     "output_type": "stream",
     "text": [
      "3\n"
     ]
    }
   ],
   "source": [
    "count=0\n",
    "for i in E:\n",
    "    if i is True:\n",
    "        count=count+1\n",
    "print(count) "
   ]
  },
  {
   "cell_type": "code",
   "execution_count": 916,
   "id": "a96e5787",
   "metadata": {},
   "outputs": [],
   "source": [
    "E=c['ROOMNAME']=='Room 411 (Four Bedded)'"
   ]
  },
  {
   "cell_type": "code",
   "execution_count": 917,
   "id": "eb1adbe0",
   "metadata": {},
   "outputs": [
    {
     "name": "stdout",
     "output_type": "stream",
     "text": [
      "3\n"
     ]
    }
   ],
   "source": [
    "count=0\n",
    "for i in E:\n",
    "    if i is True:\n",
    "        count=count+1\n",
    "print(count) "
   ]
  },
  {
   "cell_type": "code",
   "execution_count": 918,
   "id": "113938bd",
   "metadata": {},
   "outputs": [],
   "source": [
    "E=c['ROOMNAME']=='Room 412 (Four Bedded)'"
   ]
  },
  {
   "cell_type": "code",
   "execution_count": 919,
   "id": "b2d2f6a3",
   "metadata": {},
   "outputs": [
    {
     "name": "stdout",
     "output_type": "stream",
     "text": [
      "3\n"
     ]
    }
   ],
   "source": [
    "count=0\n",
    "for i in E:\n",
    "    if i is True:\n",
    "        count=count+1\n",
    "print(count) "
   ]
  },
  {
   "cell_type": "code",
   "execution_count": 920,
   "id": "a1112a52",
   "metadata": {},
   "outputs": [],
   "source": [
    "E=c['ROOMNAME']=='Room 413 (Four Bedded)'"
   ]
  },
  {
   "cell_type": "code",
   "execution_count": 921,
   "id": "b8f2302e",
   "metadata": {},
   "outputs": [
    {
     "name": "stdout",
     "output_type": "stream",
     "text": [
      "3\n"
     ]
    }
   ],
   "source": [
    "count=0\n",
    "for i in E:\n",
    "    if i is True:\n",
    "        count=count+1\n",
    "print(count) "
   ]
  },
  {
   "cell_type": "code",
   "execution_count": 922,
   "id": "2e4292d7",
   "metadata": {},
   "outputs": [],
   "source": [
    "E=c['ROOMNAME']=='Room 414 (Single Bed)'"
   ]
  },
  {
   "cell_type": "code",
   "execution_count": 923,
   "id": "652d774f",
   "metadata": {},
   "outputs": [
    {
     "name": "stdout",
     "output_type": "stream",
     "text": [
      "4\n"
     ]
    }
   ],
   "source": [
    "count=0\n",
    "for i in E:\n",
    "    if i is True:\n",
    "        count=count+1\n",
    "print(count) "
   ]
  },
  {
   "cell_type": "code",
   "execution_count": 927,
   "id": "b1c15c26",
   "metadata": {},
   "outputs": [],
   "source": [
    "E=c['ROOMNAME']=='Room 416 (Single Bed)'"
   ]
  },
  {
   "cell_type": "code",
   "execution_count": 928,
   "id": "1cf9d06f",
   "metadata": {},
   "outputs": [
    {
     "name": "stdout",
     "output_type": "stream",
     "text": [
      "4\n"
     ]
    }
   ],
   "source": [
    "count=0\n",
    "for i in E:\n",
    "    if i is True:\n",
    "        count=count+1\n",
    "print(count) "
   ]
  },
  {
   "cell_type": "code",
   "execution_count": 929,
   "id": "3da8ce30",
   "metadata": {},
   "outputs": [],
   "source": [
    "E=c['ROOMNAME']=='Room 417 (Single Bed)'"
   ]
  },
  {
   "cell_type": "code",
   "execution_count": 930,
   "id": "28695c6b",
   "metadata": {},
   "outputs": [
    {
     "name": "stdout",
     "output_type": "stream",
     "text": [
      "1\n"
     ]
    }
   ],
   "source": [
    "count=0\n",
    "for i in E:\n",
    "    if i is True:\n",
    "        count=count+1\n",
    "print(count) "
   ]
  },
  {
   "cell_type": "code",
   "execution_count": 931,
   "id": "18e16845",
   "metadata": {},
   "outputs": [],
   "source": [
    "E=c['ROOMNAME']=='Room 418 (Single Bed)'"
   ]
  },
  {
   "cell_type": "code",
   "execution_count": 932,
   "id": "e7288741",
   "metadata": {},
   "outputs": [
    {
     "name": "stdout",
     "output_type": "stream",
     "text": [
      "1\n"
     ]
    }
   ],
   "source": [
    "count=0\n",
    "for i in E:\n",
    "    if i is True:\n",
    "        count=count+1\n",
    "print(count) "
   ]
  },
  {
   "cell_type": "code",
   "execution_count": 933,
   "id": "42be22f2",
   "metadata": {},
   "outputs": [],
   "source": [
    "E=c['ROOMNAME']=='Room 419 (Single Bed)'"
   ]
  },
  {
   "cell_type": "code",
   "execution_count": 934,
   "id": "ef795864",
   "metadata": {},
   "outputs": [
    {
     "name": "stdout",
     "output_type": "stream",
     "text": [
      "1\n"
     ]
    }
   ],
   "source": [
    "count=0\n",
    "for i in E:\n",
    "    if i is True:\n",
    "        count=count+1\n",
    "print(count) "
   ]
  },
  {
   "cell_type": "code",
   "execution_count": 935,
   "id": "693901e5",
   "metadata": {},
   "outputs": [],
   "source": [
    "E=c['ROOMNAME']=='Room 420 (Single Bed)'"
   ]
  },
  {
   "cell_type": "code",
   "execution_count": 936,
   "id": "34acdd52",
   "metadata": {},
   "outputs": [
    {
     "name": "stdout",
     "output_type": "stream",
     "text": [
      "1\n"
     ]
    }
   ],
   "source": [
    "count=0\n",
    "for i in E:\n",
    "    if i is True:\n",
    "        count=count+1\n",
    "print(count) "
   ]
  },
  {
   "cell_type": "code",
   "execution_count": 937,
   "id": "5161b736",
   "metadata": {},
   "outputs": [],
   "source": [
    "E=c['ROOMNAME']=='Room 422 (Double Bed)'"
   ]
  },
  {
   "cell_type": "code",
   "execution_count": 938,
   "id": "cd0a8fd7",
   "metadata": {},
   "outputs": [
    {
     "name": "stdout",
     "output_type": "stream",
     "text": [
      "3\n"
     ]
    }
   ],
   "source": [
    "count=0\n",
    "for i in E:\n",
    "    if i is True:\n",
    "        count=count+1\n",
    "print(count) "
   ]
  },
  {
   "cell_type": "code",
   "execution_count": 939,
   "id": "086c416c",
   "metadata": {},
   "outputs": [],
   "source": [
    "E=c['ROOMNAME']=='Room 423 (Single Bed)'"
   ]
  },
  {
   "cell_type": "code",
   "execution_count": 940,
   "id": "f8a31815",
   "metadata": {},
   "outputs": [
    {
     "name": "stdout",
     "output_type": "stream",
     "text": [
      "1\n"
     ]
    }
   ],
   "source": [
    "count=0\n",
    "for i in E:\n",
    "    if i is True:\n",
    "        count=count+1\n",
    "print(count) "
   ]
  },
  {
   "cell_type": "code",
   "execution_count": 941,
   "id": "83296604",
   "metadata": {},
   "outputs": [],
   "source": [
    "E=c['ROOMNAME']=='Room 424 (Single Bed)'"
   ]
  },
  {
   "cell_type": "code",
   "execution_count": 942,
   "id": "2faf00ad",
   "metadata": {},
   "outputs": [
    {
     "name": "stdout",
     "output_type": "stream",
     "text": [
      "1\n"
     ]
    }
   ],
   "source": [
    "count=0\n",
    "for i in E:\n",
    "    if i is True:\n",
    "        count=count+1\n",
    "print(count) "
   ]
  },
  {
   "cell_type": "code",
   "execution_count": 943,
   "id": "d79b1243",
   "metadata": {},
   "outputs": [],
   "source": [
    "E=c['ROOMNAME']=='Room 425 (Single Bed)'"
   ]
  },
  {
   "cell_type": "code",
   "execution_count": 944,
   "id": "07bc0bbd",
   "metadata": {},
   "outputs": [
    {
     "name": "stdout",
     "output_type": "stream",
     "text": [
      "1\n"
     ]
    }
   ],
   "source": [
    "count=0\n",
    "for i in E:\n",
    "    if i is True:\n",
    "        count=count+1\n",
    "print(count) "
   ]
  },
  {
   "cell_type": "code",
   "execution_count": 945,
   "id": "50ff7fa5",
   "metadata": {},
   "outputs": [],
   "source": [
    "E=c['ROOMNAME']=='Room 426 (Single Bed)'"
   ]
  },
  {
   "cell_type": "code",
   "execution_count": 946,
   "id": "9f734038",
   "metadata": {},
   "outputs": [
    {
     "name": "stdout",
     "output_type": "stream",
     "text": [
      "1\n"
     ]
    }
   ],
   "source": [
    "count=0\n",
    "for i in E:\n",
    "    if i is True:\n",
    "        count=count+1\n",
    "print(count) "
   ]
  },
  {
   "cell_type": "code",
   "execution_count": 947,
   "id": "84f165e9",
   "metadata": {},
   "outputs": [],
   "source": [
    "E=c['ROOMNAME']=='Room 427 (Double Bed)'"
   ]
  },
  {
   "cell_type": "code",
   "execution_count": 948,
   "id": "9822ac10",
   "metadata": {},
   "outputs": [
    {
     "name": "stdout",
     "output_type": "stream",
     "text": [
      "3\n"
     ]
    }
   ],
   "source": [
    "count=0\n",
    "for i in E:\n",
    "    if i is True:\n",
    "        count=count+1\n",
    "print(count) "
   ]
  },
  {
   "cell_type": "code",
   "execution_count": 949,
   "id": "78c839f6",
   "metadata": {},
   "outputs": [],
   "source": [
    "E=c['ROOMNAME']=='Room 428 (Double Bed)'"
   ]
  },
  {
   "cell_type": "code",
   "execution_count": 950,
   "id": "4fa27a07",
   "metadata": {},
   "outputs": [
    {
     "name": "stdout",
     "output_type": "stream",
     "text": [
      "3\n"
     ]
    }
   ],
   "source": [
    "count=0\n",
    "for i in E:\n",
    "    if i is True:\n",
    "        count=count+1\n",
    "print(count) "
   ]
  },
  {
   "cell_type": "code",
   "execution_count": 951,
   "id": "db35406e",
   "metadata": {},
   "outputs": [],
   "source": [
    "E=c['ROOMNAME']=='Room 429 (Double Bed)'"
   ]
  },
  {
   "cell_type": "code",
   "execution_count": 952,
   "id": "544ae269",
   "metadata": {},
   "outputs": [
    {
     "name": "stdout",
     "output_type": "stream",
     "text": [
      "3\n"
     ]
    }
   ],
   "source": [
    "count=0\n",
    "for i in E:\n",
    "    if i is True:\n",
    "        count=count+1\n",
    "print(count) "
   ]
  },
  {
   "cell_type": "code",
   "execution_count": 953,
   "id": "d376164f",
   "metadata": {},
   "outputs": [],
   "source": [
    "E=c['ROOMNAME']=='Room 430 (Double Bed)'"
   ]
  },
  {
   "cell_type": "code",
   "execution_count": 954,
   "id": "fcdd50c1",
   "metadata": {},
   "outputs": [
    {
     "name": "stdout",
     "output_type": "stream",
     "text": [
      "3\n"
     ]
    }
   ],
   "source": [
    "count=0\n",
    "for i in E:\n",
    "    if i is True:\n",
    "        count=count+1\n",
    "print(count) "
   ]
  },
  {
   "cell_type": "code",
   "execution_count": 955,
   "id": "af158c07",
   "metadata": {},
   "outputs": [],
   "source": [
    "E=c['ROOMNAME']=='Room 431 (Double Bed)'"
   ]
  },
  {
   "cell_type": "code",
   "execution_count": 956,
   "id": "33b9ff10",
   "metadata": {},
   "outputs": [
    {
     "name": "stdout",
     "output_type": "stream",
     "text": [
      "3\n"
     ]
    }
   ],
   "source": [
    "count=0\n",
    "for i in E:\n",
    "    if i is True:\n",
    "        count=count+1\n",
    "print(count) "
   ]
  },
  {
   "cell_type": "code",
   "execution_count": 957,
   "id": "f8fb8dc5",
   "metadata": {},
   "outputs": [],
   "source": [
    "E=c['ROOMNAME']=='Room 432 (Double Bed)'"
   ]
  },
  {
   "cell_type": "code",
   "execution_count": 958,
   "id": "d1053cbe",
   "metadata": {},
   "outputs": [
    {
     "name": "stdout",
     "output_type": "stream",
     "text": [
      "3\n"
     ]
    }
   ],
   "source": [
    "count=0\n",
    "for i in E:\n",
    "    if i is True:\n",
    "        count=count+1\n",
    "print(count) "
   ]
  },
  {
   "cell_type": "code",
   "execution_count": 959,
   "id": "835413c2",
   "metadata": {},
   "outputs": [],
   "source": [
    "E=c['ROOMNAME']=='Room 433 (Double Bed)'"
   ]
  },
  {
   "cell_type": "code",
   "execution_count": 960,
   "id": "882b6637",
   "metadata": {},
   "outputs": [
    {
     "name": "stdout",
     "output_type": "stream",
     "text": [
      "3\n"
     ]
    }
   ],
   "source": [
    "count=0\n",
    "for i in E:\n",
    "    if i is True:\n",
    "        count=count+1\n",
    "print(count) "
   ]
  },
  {
   "cell_type": "code",
   "execution_count": 961,
   "id": "1986219b",
   "metadata": {},
   "outputs": [],
   "source": [
    "E=c['ROOMNAME']=='Room 434 (Single Bed)'"
   ]
  },
  {
   "cell_type": "code",
   "execution_count": 962,
   "id": "af3e2c63",
   "metadata": {},
   "outputs": [
    {
     "name": "stdout",
     "output_type": "stream",
     "text": [
      "1\n"
     ]
    }
   ],
   "source": [
    "count=0\n",
    "for i in E:\n",
    "    if i is True:\n",
    "        count=count+1\n",
    "print(count) "
   ]
  },
  {
   "cell_type": "code",
   "execution_count": 963,
   "id": "65356709",
   "metadata": {},
   "outputs": [],
   "source": [
    "E=c['ROOMNAME']=='Room 435 (Single Bed)'"
   ]
  },
  {
   "cell_type": "code",
   "execution_count": 964,
   "id": "06077dab",
   "metadata": {},
   "outputs": [
    {
     "name": "stdout",
     "output_type": "stream",
     "text": [
      "1\n"
     ]
    }
   ],
   "source": [
    "count=0\n",
    "for i in E:\n",
    "    if i is True:\n",
    "        count=count+1\n",
    "print(count) "
   ]
  },
  {
   "cell_type": "code",
   "execution_count": 965,
   "id": "7f255822",
   "metadata": {},
   "outputs": [],
   "source": [
    "E=c['ROOMNAME']=='Room 436 (Single Bed)'"
   ]
  },
  {
   "cell_type": "code",
   "execution_count": 966,
   "id": "cc66d165",
   "metadata": {},
   "outputs": [
    {
     "name": "stdout",
     "output_type": "stream",
     "text": [
      "1\n"
     ]
    }
   ],
   "source": [
    "count=0\n",
    "for i in E:\n",
    "    if i is True:\n",
    "        count=count+1\n",
    "print(count) "
   ]
  },
  {
   "cell_type": "code",
   "execution_count": 967,
   "id": "74fd7b1e",
   "metadata": {},
   "outputs": [],
   "source": [
    "E=c['ROOMNAME']=='Room 437 (Single Bed)'"
   ]
  },
  {
   "cell_type": "code",
   "execution_count": 968,
   "id": "f537d056",
   "metadata": {},
   "outputs": [
    {
     "name": "stdout",
     "output_type": "stream",
     "text": [
      "1\n"
     ]
    }
   ],
   "source": [
    "count=0\n",
    "for i in E:\n",
    "    if i is True:\n",
    "        count=count+1\n",
    "print(count) "
   ]
  },
  {
   "cell_type": "code",
   "execution_count": 969,
   "id": "9dc535de",
   "metadata": {},
   "outputs": [],
   "source": [
    "E=c['ROOMNAME']=='Room 438 (Single Bed)'"
   ]
  },
  {
   "cell_type": "code",
   "execution_count": 970,
   "id": "f2f16401",
   "metadata": {},
   "outputs": [
    {
     "name": "stdout",
     "output_type": "stream",
     "text": [
      "1\n"
     ]
    }
   ],
   "source": [
    "count=0\n",
    "for i in E:\n",
    "    if i is True:\n",
    "        count=count+1\n",
    "print(count) "
   ]
  },
  {
   "cell_type": "code",
   "execution_count": 971,
   "id": "5b21ef18",
   "metadata": {},
   "outputs": [],
   "source": [
    "E=c['ROOMNAME']=='Room 501 (Double Bed)'"
   ]
  },
  {
   "cell_type": "code",
   "execution_count": 972,
   "id": "dbdc5929",
   "metadata": {},
   "outputs": [
    {
     "name": "stdout",
     "output_type": "stream",
     "text": [
      "2\n"
     ]
    }
   ],
   "source": [
    "count=0\n",
    "for i in E:\n",
    "    if i is True:\n",
    "        count=count+1\n",
    "print(count) "
   ]
  },
  {
   "cell_type": "code",
   "execution_count": 973,
   "id": "c548cb6d",
   "metadata": {},
   "outputs": [],
   "source": [
    "E=c['ROOMNAME']=='Room 502 (Double Bed)'"
   ]
  },
  {
   "cell_type": "code",
   "execution_count": 974,
   "id": "fc66ca9f",
   "metadata": {},
   "outputs": [
    {
     "name": "stdout",
     "output_type": "stream",
     "text": [
      "2\n"
     ]
    }
   ],
   "source": [
    "count=0\n",
    "for i in E:\n",
    "    if i is True:\n",
    "        count=count+1\n",
    "print(count) "
   ]
  },
  {
   "cell_type": "code",
   "execution_count": 975,
   "id": "be57a706",
   "metadata": {},
   "outputs": [],
   "source": [
    "E=c['ROOMNAME']=='Room 503 (Double Bed)'"
   ]
  },
  {
   "cell_type": "code",
   "execution_count": 976,
   "id": "c5f9d4e3",
   "metadata": {},
   "outputs": [
    {
     "name": "stdout",
     "output_type": "stream",
     "text": [
      "2\n"
     ]
    }
   ],
   "source": [
    "count=0\n",
    "for i in E:\n",
    "    if i is True:\n",
    "        count=count+1\n",
    "print(count) "
   ]
  },
  {
   "cell_type": "code",
   "execution_count": 977,
   "id": "beaaff77",
   "metadata": {},
   "outputs": [],
   "source": [
    "E=c['ROOMNAME']=='Room 504 (Double Bed)'"
   ]
  },
  {
   "cell_type": "code",
   "execution_count": 978,
   "id": "4869e833",
   "metadata": {},
   "outputs": [
    {
     "name": "stdout",
     "output_type": "stream",
     "text": [
      "2\n"
     ]
    }
   ],
   "source": [
    "count=0\n",
    "for i in E:\n",
    "    if i is True:\n",
    "        count=count+1\n",
    "print(count) "
   ]
  },
  {
   "cell_type": "code",
   "execution_count": 979,
   "id": "e3a20109",
   "metadata": {},
   "outputs": [],
   "source": [
    "E=c['ROOMNAME']=='Room 505 (Double Bed)'"
   ]
  },
  {
   "cell_type": "code",
   "execution_count": 980,
   "id": "50d344f4",
   "metadata": {},
   "outputs": [
    {
     "name": "stdout",
     "output_type": "stream",
     "text": [
      "2\n"
     ]
    }
   ],
   "source": [
    "count=0\n",
    "for i in E:\n",
    "    if i is True:\n",
    "        count=count+1\n",
    "print(count) "
   ]
  },
  {
   "cell_type": "code",
   "execution_count": 981,
   "id": "c9c97a95",
   "metadata": {},
   "outputs": [],
   "source": [
    "E=c['ROOMNAME']=='Room 506 (Double Bed)'"
   ]
  },
  {
   "cell_type": "code",
   "execution_count": 982,
   "id": "cc7d2112",
   "metadata": {},
   "outputs": [
    {
     "name": "stdout",
     "output_type": "stream",
     "text": [
      "2\n"
     ]
    }
   ],
   "source": [
    "count=0\n",
    "for i in E:\n",
    "    if i is True:\n",
    "        count=count+1\n",
    "print(count) "
   ]
  },
  {
   "cell_type": "code",
   "execution_count": 983,
   "id": "d2d79942",
   "metadata": {},
   "outputs": [],
   "source": [
    "E=c['ROOMNAME']=='Room 507 (Single Bed)'"
   ]
  },
  {
   "cell_type": "code",
   "execution_count": 984,
   "id": "940281f5",
   "metadata": {},
   "outputs": [
    {
     "name": "stdout",
     "output_type": "stream",
     "text": [
      "1\n"
     ]
    }
   ],
   "source": [
    "count=0\n",
    "for i in E:\n",
    "    if i is True:\n",
    "        count=count+1\n",
    "print(count) "
   ]
  },
  {
   "cell_type": "code",
   "execution_count": 985,
   "id": "19c4c37d",
   "metadata": {},
   "outputs": [],
   "source": [
    "E=c['ROOMNAME']=='Room 508 (Single Bed)'"
   ]
  },
  {
   "cell_type": "code",
   "execution_count": 986,
   "id": "03682a97",
   "metadata": {},
   "outputs": [
    {
     "name": "stdout",
     "output_type": "stream",
     "text": [
      "1\n"
     ]
    }
   ],
   "source": [
    "count=0\n",
    "for i in E:\n",
    "    if i is True:\n",
    "        count=count+1\n",
    "print(count) "
   ]
  },
  {
   "cell_type": "code",
   "execution_count": 987,
   "id": "a2dd0995",
   "metadata": {},
   "outputs": [],
   "source": [
    "E=c['ROOMNAME']=='Room 509 (Single Bed)'"
   ]
  },
  {
   "cell_type": "code",
   "execution_count": 988,
   "id": "59845eb4",
   "metadata": {},
   "outputs": [
    {
     "name": "stdout",
     "output_type": "stream",
     "text": [
      "1\n"
     ]
    }
   ],
   "source": [
    "count=0\n",
    "for i in E:\n",
    "    if i is True:\n",
    "        count=count+1\n",
    "print(count) "
   ]
  },
  {
   "cell_type": "code",
   "execution_count": 989,
   "id": "276466e7",
   "metadata": {},
   "outputs": [],
   "source": [
    "E=c['ROOMNAME']=='Room 510 (Single Bed)'"
   ]
  },
  {
   "cell_type": "code",
   "execution_count": 990,
   "id": "506d565b",
   "metadata": {},
   "outputs": [
    {
     "name": "stdout",
     "output_type": "stream",
     "text": [
      "1\n"
     ]
    }
   ],
   "source": [
    "count=0\n",
    "for i in E:\n",
    "    if i is True:\n",
    "        count=count+1\n",
    "print(count) "
   ]
  },
  {
   "cell_type": "code",
   "execution_count": 991,
   "id": "a28462f5",
   "metadata": {},
   "outputs": [],
   "source": [
    "E=c['ROOMNAME']=='Room 511 (Single Bed)'"
   ]
  },
  {
   "cell_type": "code",
   "execution_count": 992,
   "id": "9b0dcc51",
   "metadata": {},
   "outputs": [
    {
     "name": "stdout",
     "output_type": "stream",
     "text": [
      "1\n"
     ]
    }
   ],
   "source": [
    "count=0\n",
    "for i in E:\n",
    "    if i is True:\n",
    "        count=count+1\n",
    "print(count) "
   ]
  },
  {
   "cell_type": "code",
   "execution_count": 993,
   "id": "bbd1b2b1",
   "metadata": {},
   "outputs": [],
   "source": [
    "E=c['ROOMNAME']=='Room 512 (Single Bed)'"
   ]
  },
  {
   "cell_type": "code",
   "execution_count": 994,
   "id": "d6361d1c",
   "metadata": {},
   "outputs": [
    {
     "name": "stdout",
     "output_type": "stream",
     "text": [
      "1\n"
     ]
    }
   ],
   "source": [
    "count=0\n",
    "for i in E:\n",
    "    if i is True:\n",
    "        count=count+1\n",
    "print(count) "
   ]
  },
  {
   "cell_type": "code",
   "execution_count": 995,
   "id": "824f49c4",
   "metadata": {},
   "outputs": [],
   "source": [
    "E=c['ROOMNAME']=='Room 513 (Double Bed)'"
   ]
  },
  {
   "cell_type": "code",
   "execution_count": 996,
   "id": "80b13b40",
   "metadata": {},
   "outputs": [
    {
     "name": "stdout",
     "output_type": "stream",
     "text": [
      "2\n"
     ]
    }
   ],
   "source": [
    "count=0\n",
    "for i in E:\n",
    "    if i is True:\n",
    "        count=count+1\n",
    "print(count) "
   ]
  },
  {
   "cell_type": "code",
   "execution_count": 997,
   "id": "73f9dc10",
   "metadata": {},
   "outputs": [],
   "source": [
    "E=c['ROOMNAME']=='Room 514 (Double Bed)'"
   ]
  },
  {
   "cell_type": "code",
   "execution_count": 998,
   "id": "bf4d3180",
   "metadata": {},
   "outputs": [
    {
     "name": "stdout",
     "output_type": "stream",
     "text": [
      "2\n"
     ]
    }
   ],
   "source": [
    "count=0\n",
    "for i in E:\n",
    "    if i is True:\n",
    "        count=count+1\n",
    "print(count) "
   ]
  },
  {
   "cell_type": "code",
   "execution_count": 999,
   "id": "65987361",
   "metadata": {},
   "outputs": [],
   "source": [
    "E=c['ROOMNAME']=='Room 515 (Four Bedded)'"
   ]
  },
  {
   "cell_type": "code",
   "execution_count": 1000,
   "id": "a92199d3",
   "metadata": {},
   "outputs": [
    {
     "name": "stdout",
     "output_type": "stream",
     "text": [
      "2\n"
     ]
    }
   ],
   "source": [
    "count=0\n",
    "for i in E:\n",
    "    if i is True:\n",
    "        count=count+1\n",
    "print(count) "
   ]
  },
  {
   "cell_type": "code",
   "execution_count": 1001,
   "id": "4fd3a839",
   "metadata": {},
   "outputs": [],
   "source": [
    "E=c['ROOMNAME']=='Room 516 (Four Bedded)'"
   ]
  },
  {
   "cell_type": "code",
   "execution_count": 1002,
   "id": "aeafe046",
   "metadata": {},
   "outputs": [
    {
     "name": "stdout",
     "output_type": "stream",
     "text": [
      "2\n"
     ]
    }
   ],
   "source": [
    "count=0\n",
    "for i in E:\n",
    "    if i is True:\n",
    "        count=count+1\n",
    "print(count) "
   ]
  },
  {
   "cell_type": "code",
   "execution_count": 1003,
   "id": "30abca69",
   "metadata": {},
   "outputs": [],
   "source": [
    "E=c['ROOMNAME']=='Room 517 (Double Bed)'"
   ]
  },
  {
   "cell_type": "code",
   "execution_count": 1004,
   "id": "73e1a900",
   "metadata": {},
   "outputs": [
    {
     "name": "stdout",
     "output_type": "stream",
     "text": [
      "2\n"
     ]
    }
   ],
   "source": [
    "count=0\n",
    "for i in E:\n",
    "    if i is True:\n",
    "        count=count+1\n",
    "print(count) "
   ]
  },
  {
   "cell_type": "code",
   "execution_count": 1005,
   "id": "59abf9c9",
   "metadata": {},
   "outputs": [],
   "source": [
    "E=c['ROOMNAME']=='Room 518 (Single Bed)'"
   ]
  },
  {
   "cell_type": "code",
   "execution_count": 1006,
   "id": "56df203f",
   "metadata": {},
   "outputs": [
    {
     "name": "stdout",
     "output_type": "stream",
     "text": [
      "1\n"
     ]
    }
   ],
   "source": [
    "count=0\n",
    "for i in E:\n",
    "    if i is True:\n",
    "        count=count+1\n",
    "print(count) "
   ]
  },
  {
   "cell_type": "code",
   "execution_count": 1007,
   "id": "7be3208b",
   "metadata": {},
   "outputs": [],
   "source": [
    "E=c['ROOMNAME']=='Room 519 (Single Bed)'"
   ]
  },
  {
   "cell_type": "code",
   "execution_count": 1008,
   "id": "f8a94760",
   "metadata": {},
   "outputs": [
    {
     "name": "stdout",
     "output_type": "stream",
     "text": [
      "1\n"
     ]
    }
   ],
   "source": [
    "count=0\n",
    "for i in E:\n",
    "    if i is True:\n",
    "        count=count+1\n",
    "print(count) "
   ]
  },
  {
   "cell_type": "code",
   "execution_count": 1009,
   "id": "53bf5aef",
   "metadata": {},
   "outputs": [],
   "source": [
    "E=c['ROOMNAME']=='Room 520 (Single Bed)'"
   ]
  },
  {
   "cell_type": "code",
   "execution_count": 1010,
   "id": "3c27d59c",
   "metadata": {},
   "outputs": [
    {
     "name": "stdout",
     "output_type": "stream",
     "text": [
      "1\n"
     ]
    }
   ],
   "source": [
    "count=0\n",
    "for i in E:\n",
    "    if i is True:\n",
    "        count=count+1\n",
    "print(count) "
   ]
  },
  {
   "cell_type": "code",
   "execution_count": 1011,
   "id": "13e151e1",
   "metadata": {},
   "outputs": [],
   "source": [
    "E=c['ROOMNAME']=='Room 521 (Single Bed)'"
   ]
  },
  {
   "cell_type": "code",
   "execution_count": 1012,
   "id": "25f5b691",
   "metadata": {},
   "outputs": [
    {
     "name": "stdout",
     "output_type": "stream",
     "text": [
      "1\n"
     ]
    }
   ],
   "source": [
    "count=0\n",
    "for i in E:\n",
    "    if i is True:\n",
    "        count=count+1\n",
    "print(count) "
   ]
  },
  {
   "cell_type": "code",
   "execution_count": 1013,
   "id": "f232e399",
   "metadata": {},
   "outputs": [],
   "source": [
    "E=c['ROOMNAME']=='Room 522 (Double Bed)'"
   ]
  },
  {
   "cell_type": "code",
   "execution_count": 1014,
   "id": "bc1ef1be",
   "metadata": {},
   "outputs": [
    {
     "name": "stdout",
     "output_type": "stream",
     "text": [
      "4\n"
     ]
    }
   ],
   "source": [
    "count=0\n",
    "for i in E:\n",
    "    if i is True:\n",
    "        count=count+1\n",
    "print(count) "
   ]
  },
  {
   "cell_type": "code",
   "execution_count": 1015,
   "id": "2559bc50",
   "metadata": {},
   "outputs": [],
   "source": [
    "E=c['ROOMNAME']=='Room 523 (Double Bed)'"
   ]
  },
  {
   "cell_type": "code",
   "execution_count": 1016,
   "id": "e1d88e11",
   "metadata": {},
   "outputs": [
    {
     "name": "stdout",
     "output_type": "stream",
     "text": [
      "4\n"
     ]
    }
   ],
   "source": [
    "count=0\n",
    "for i in E:\n",
    "    if i is True:\n",
    "        count=count+1\n",
    "print(count) "
   ]
  },
  {
   "cell_type": "code",
   "execution_count": 1017,
   "id": "39ae88b9",
   "metadata": {},
   "outputs": [],
   "source": [
    "E=c['ROOMNAME']=='Room 524 (Double Bed)'"
   ]
  },
  {
   "cell_type": "code",
   "execution_count": 1018,
   "id": "3221a1a1",
   "metadata": {},
   "outputs": [
    {
     "name": "stdout",
     "output_type": "stream",
     "text": [
      "4\n"
     ]
    }
   ],
   "source": [
    "count=0\n",
    "for i in E:\n",
    "    if i is True:\n",
    "        count=count+1\n",
    "print(count) "
   ]
  },
  {
   "cell_type": "code",
   "execution_count": 1019,
   "id": "9222e912",
   "metadata": {},
   "outputs": [],
   "source": [
    "E=c['ROOMNAME']=='Room 525 (Double Bed)'"
   ]
  },
  {
   "cell_type": "code",
   "execution_count": 1020,
   "id": "f83e7612",
   "metadata": {},
   "outputs": [
    {
     "name": "stdout",
     "output_type": "stream",
     "text": [
      "2\n"
     ]
    }
   ],
   "source": [
    "count=0\n",
    "for i in E:\n",
    "    if i is True:\n",
    "        count=count+1\n",
    "print(count) "
   ]
  },
  {
   "cell_type": "code",
   "execution_count": 1021,
   "id": "447a77ae",
   "metadata": {},
   "outputs": [],
   "source": [
    "E=c['ROOMNAME']=='Room 526 (Double Bed)'"
   ]
  },
  {
   "cell_type": "code",
   "execution_count": 1022,
   "id": "03fc989c",
   "metadata": {},
   "outputs": [
    {
     "name": "stdout",
     "output_type": "stream",
     "text": [
      "2\n"
     ]
    }
   ],
   "source": [
    "count=0\n",
    "for i in E:\n",
    "    if i is True:\n",
    "        count=count+1\n",
    "print(count) "
   ]
  },
  {
   "cell_type": "code",
   "execution_count": 1023,
   "id": "066a07cc",
   "metadata": {},
   "outputs": [],
   "source": [
    "E=c['ROOMNAME']=='Room 527 (Double Bed)'"
   ]
  },
  {
   "cell_type": "code",
   "execution_count": 1024,
   "id": "308e6f8e",
   "metadata": {},
   "outputs": [
    {
     "name": "stdout",
     "output_type": "stream",
     "text": [
      "2\n"
     ]
    }
   ],
   "source": [
    "count=0\n",
    "for i in E:\n",
    "    if i is True:\n",
    "        count=count+1\n",
    "print(count) "
   ]
  },
  {
   "cell_type": "code",
   "execution_count": 1025,
   "id": "6d5975f8",
   "metadata": {},
   "outputs": [],
   "source": [
    "E=c['ROOMNAME']=='Room 528 (Double Bed)'"
   ]
  },
  {
   "cell_type": "code",
   "execution_count": 1026,
   "id": "47f122ca",
   "metadata": {},
   "outputs": [
    {
     "name": "stdout",
     "output_type": "stream",
     "text": [
      "2\n"
     ]
    }
   ],
   "source": [
    "count=0\n",
    "for i in E:\n",
    "    if i is True:\n",
    "        count=count+1\n",
    "print(count) "
   ]
  },
  {
   "cell_type": "code",
   "execution_count": 1027,
   "id": "d6d1997c",
   "metadata": {},
   "outputs": [],
   "source": [
    "E=c['ROOMNAME']=='Room 529 (Single Bed)'"
   ]
  },
  {
   "cell_type": "code",
   "execution_count": 1028,
   "id": "c921a5af",
   "metadata": {},
   "outputs": [
    {
     "name": "stdout",
     "output_type": "stream",
     "text": [
      "1\n"
     ]
    }
   ],
   "source": [
    "count=0\n",
    "for i in E:\n",
    "    if i is True:\n",
    "        count=count+1\n",
    "print(count) "
   ]
  },
  {
   "cell_type": "code",
   "execution_count": 1029,
   "id": "bdb10bdd",
   "metadata": {},
   "outputs": [],
   "source": [
    "E=c['ROOMNAME']=='Room 530 (Single Bed)'"
   ]
  },
  {
   "cell_type": "code",
   "execution_count": 1030,
   "id": "39daeee6",
   "metadata": {},
   "outputs": [
    {
     "name": "stdout",
     "output_type": "stream",
     "text": [
      "1\n"
     ]
    }
   ],
   "source": [
    "count=0\n",
    "for i in E:\n",
    "    if i is True:\n",
    "        count=count+1\n",
    "print(count) "
   ]
  },
  {
   "cell_type": "code",
   "execution_count": 1031,
   "id": "4d10afc8",
   "metadata": {},
   "outputs": [],
   "source": [
    "E=c['ROOMNAME']=='Room 531 (Single Bed)'"
   ]
  },
  {
   "cell_type": "code",
   "execution_count": 1032,
   "id": "43999514",
   "metadata": {},
   "outputs": [
    {
     "name": "stdout",
     "output_type": "stream",
     "text": [
      "1\n"
     ]
    }
   ],
   "source": [
    "count=0\n",
    "for i in E:\n",
    "    if i is True:\n",
    "        count=count+1\n",
    "print(count) "
   ]
  },
  {
   "cell_type": "code",
   "execution_count": 1033,
   "id": "75f854c7",
   "metadata": {},
   "outputs": [],
   "source": [
    "E=c['ROOMNAME']=='Room 532 (Single Bed)'"
   ]
  },
  {
   "cell_type": "code",
   "execution_count": 1034,
   "id": "a37a54f0",
   "metadata": {},
   "outputs": [
    {
     "name": "stdout",
     "output_type": "stream",
     "text": [
      "1\n"
     ]
    }
   ],
   "source": [
    "count=0\n",
    "for i in E:\n",
    "    if i is True:\n",
    "        count=count+1\n",
    "print(count) "
   ]
  },
  {
   "cell_type": "code",
   "execution_count": 1035,
   "id": "0acaa514",
   "metadata": {},
   "outputs": [],
   "source": [
    "E=c['ROOMNAME']=='Room 533 (Single Bed)'"
   ]
  },
  {
   "cell_type": "code",
   "execution_count": 1036,
   "id": "ecb0d332",
   "metadata": {},
   "outputs": [
    {
     "name": "stdout",
     "output_type": "stream",
     "text": [
      "1\n"
     ]
    }
   ],
   "source": [
    "count=0\n",
    "for i in E:\n",
    "    if i is True:\n",
    "        count=count+1\n",
    "print(count) "
   ]
  },
  {
   "cell_type": "code",
   "execution_count": 1037,
   "id": "fd83e456",
   "metadata": {},
   "outputs": [],
   "source": [
    "E=c['ROOMNAME']=='Room 535-VS (Golden Suite Wing)'"
   ]
  },
  {
   "cell_type": "code",
   "execution_count": 1038,
   "id": "f608a2a1",
   "metadata": {},
   "outputs": [
    {
     "name": "stdout",
     "output_type": "stream",
     "text": [
      "1\n"
     ]
    }
   ],
   "source": [
    "count=0\n",
    "for i in E:\n",
    "    if i is True:\n",
    "        count=count+1\n",
    "print(count) "
   ]
  },
  {
   "cell_type": "code",
   "execution_count": 1039,
   "id": "e7451ba3",
   "metadata": {},
   "outputs": [],
   "source": [
    "E=c['ROOMNAME']=='Room 536V-1 (VVIP Suite)'"
   ]
  },
  {
   "cell_type": "code",
   "execution_count": 1040,
   "id": "2e01e6b7",
   "metadata": {},
   "outputs": [
    {
     "name": "stdout",
     "output_type": "stream",
     "text": [
      "1\n"
     ]
    }
   ],
   "source": [
    "count=0\n",
    "for i in E:\n",
    "    if i is True:\n",
    "        count=count+1\n",
    "print(count) "
   ]
  },
  {
   "cell_type": "code",
   "execution_count": 1041,
   "id": "956d5328",
   "metadata": {},
   "outputs": [],
   "source": [
    "E=c['ROOMNAME']=='Room 538V-1 (VVIP Suite)'"
   ]
  },
  {
   "cell_type": "code",
   "execution_count": 1047,
   "id": "86a3598e",
   "metadata": {},
   "outputs": [
    {
     "name": "stdout",
     "output_type": "stream",
     "text": [
      "9\n"
     ]
    }
   ],
   "source": [
    "count=0\n",
    "for i in E:\n",
    "    if i is True:\n",
    "        count=count+1\n",
    "print(count) "
   ]
  },
  {
   "cell_type": "code",
   "execution_count": 1048,
   "id": "7aede55e",
   "metadata": {},
   "outputs": [],
   "source": [
    "E=c['ROOMNAME']=='Room 535V-1 (VVIP Suite)'"
   ]
  },
  {
   "cell_type": "code",
   "execution_count": 1049,
   "id": "aee52df7",
   "metadata": {},
   "outputs": [
    {
     "name": "stdout",
     "output_type": "stream",
     "text": [
      "1\n"
     ]
    }
   ],
   "source": [
    "count=0\n",
    "for i in E:\n",
    "    if i is True:\n",
    "        count=count+1\n",
    "print(count) "
   ]
  },
  {
   "cell_type": "code",
   "execution_count": 1050,
   "id": "ee50a61d",
   "metadata": {},
   "outputs": [],
   "source": [
    "E=c['ROOMNAME']=='ICU ST 1 (ICU/CCU)'"
   ]
  },
  {
   "cell_type": "code",
   "execution_count": 1051,
   "id": "ef81af8b",
   "metadata": {},
   "outputs": [
    {
     "name": "stdout",
     "output_type": "stream",
     "text": [
      "9\n"
     ]
    }
   ],
   "source": [
    "count=0\n",
    "for i in E:\n",
    "    if i is True:\n",
    "        count=count+1\n",
    "print(count) "
   ]
  },
  {
   "cell_type": "code",
   "execution_count": 1054,
   "id": "2fd21075",
   "metadata": {},
   "outputs": [],
   "source": [
    "E=c['ROOMNAME']=='ROOM 102 (Day Care)'"
   ]
  },
  {
   "cell_type": "code",
   "execution_count": 1055,
   "id": "8518c156",
   "metadata": {},
   "outputs": [
    {
     "name": "stdout",
     "output_type": "stream",
     "text": [
      "32\n"
     ]
    }
   ],
   "source": [
    "count=0\n",
    "for i in E:\n",
    "    if i is True:\n",
    "        count=count+1\n",
    "print(count) "
   ]
  },
  {
   "cell_type": "code",
   "execution_count": 1058,
   "id": "121bb387",
   "metadata": {},
   "outputs": [],
   "source": [
    "E=c['ROOMNAME']=='Daycare NT (Day Care)'"
   ]
  },
  {
   "cell_type": "code",
   "execution_count": 1059,
   "id": "f1c33496",
   "metadata": {},
   "outputs": [
    {
     "name": "stdout",
     "output_type": "stream",
     "text": [
      "50\n"
     ]
    }
   ],
   "source": [
    "count=0\n",
    "for i in E:\n",
    "    if i is True:\n",
    "        count=count+1\n",
    "print(count) "
   ]
  },
  {
   "cell_type": "code",
   "execution_count": 1062,
   "id": "5085713f",
   "metadata": {},
   "outputs": [],
   "source": [
    "E=c['ROOMNAME']=='Room 538V-1 (VVIP Suite)'"
   ]
  },
  {
   "cell_type": "code",
   "execution_count": 1063,
   "id": "9f60f539",
   "metadata": {},
   "outputs": [
    {
     "name": "stdout",
     "output_type": "stream",
     "text": [
      "1\n"
     ]
    }
   ],
   "source": [
    "count=0\n",
    "for i in E:\n",
    "    if i is True:\n",
    "        count=count+1\n",
    "print(count) "
   ]
  },
  {
   "cell_type": "markdown",
   "id": "5a49b76e",
   "metadata": {},
   "source": [
    "# 3.\tGet the count of the bed under each status."
   ]
  },
  {
   "cell_type": "code",
   "execution_count": 1073,
   "id": "b594826f",
   "metadata": {},
   "outputs": [],
   "source": [
    "E=c['BEDSTATUS']=='Available'"
   ]
  },
  {
   "cell_type": "code",
   "execution_count": 1074,
   "id": "73406167",
   "metadata": {},
   "outputs": [
    {
     "name": "stdout",
     "output_type": "stream",
     "text": [
      "527\n"
     ]
    }
   ],
   "source": [
    "#status under Available\n",
    "count=0\n",
    "for i in E:\n",
    "    if i is True:\n",
    "        count=count+1\n",
    "print(count)        \n",
    "                        "
   ]
  },
  {
   "cell_type": "code",
   "execution_count": 1075,
   "id": "895ffb45",
   "metadata": {},
   "outputs": [],
   "source": [
    "E=c['BEDSTATUS']=='Occupied Discharge'"
   ]
  },
  {
   "cell_type": "code",
   "execution_count": 1076,
   "id": "a56a80c8",
   "metadata": {},
   "outputs": [
    {
     "name": "stdout",
     "output_type": "stream",
     "text": [
      "59\n"
     ]
    }
   ],
   "source": [
    "#status under Occupied Discharge\n",
    "count=0\n",
    "for i in E:\n",
    "    if i is True:\n",
    "        count=count+1\n",
    "print(count)        \n",
    "                        "
   ]
  },
  {
   "cell_type": "code",
   "execution_count": 1077,
   "id": "1d69ef6f",
   "metadata": {},
   "outputs": [],
   "source": [
    "E=c['BEDSTATUS']=='Vacant Dirty'"
   ]
  },
  {
   "cell_type": "code",
   "execution_count": 1078,
   "id": "1fac3ea6",
   "metadata": {},
   "outputs": [
    {
     "name": "stdout",
     "output_type": "stream",
     "text": [
      "210\n"
     ]
    }
   ],
   "source": [
    "#status under Vacant Dirty\n",
    "count=0\n",
    "for i in E:\n",
    "    if i is True:\n",
    "        count=count+1\n",
    "print(count)        \n",
    "                        "
   ]
  },
  {
   "cell_type": "code",
   "execution_count": 1079,
   "id": "b820bac9",
   "metadata": {},
   "outputs": [],
   "source": [
    "E=c['BEDSTATUS']=='Occupied(Male)'"
   ]
  },
  {
   "cell_type": "code",
   "execution_count": 1080,
   "id": "54594315",
   "metadata": {},
   "outputs": [
    {
     "name": "stdout",
     "output_type": "stream",
     "text": [
      "90\n"
     ]
    }
   ],
   "source": [
    "#status under Occupied(Male)\n",
    "count=0\n",
    "for i in E:\n",
    "    if i is True:\n",
    "        count=count+1\n",
    "print(count)        \n",
    "                        "
   ]
  },
  {
   "cell_type": "code",
   "execution_count": 1081,
   "id": "b312fbfc",
   "metadata": {},
   "outputs": [],
   "source": [
    "E=c['BEDSTATUS']=='Occupied(Female)'"
   ]
  },
  {
   "cell_type": "code",
   "execution_count": 1082,
   "id": "1ede365a",
   "metadata": {},
   "outputs": [
    {
     "name": "stdout",
     "output_type": "stream",
     "text": [
      "104\n"
     ]
    }
   ],
   "source": [
    "#status under Occupied(Female)\n",
    "count=0\n",
    "for i in E:\n",
    "    if i is True:\n",
    "        count=count+1\n",
    "print(count)        \n",
    "                        "
   ]
  },
  {
   "cell_type": "code",
   "execution_count": 1083,
   "id": "812b98d0",
   "metadata": {},
   "outputs": [],
   "source": [
    "E=c['BEDSTATUS']=='Blocked'"
   ]
  },
  {
   "cell_type": "code",
   "execution_count": 1084,
   "id": "09ba79b2",
   "metadata": {},
   "outputs": [
    {
     "name": "stdout",
     "output_type": "stream",
     "text": [
      "2\n"
     ]
    }
   ],
   "source": [
    "#status under Blocked\n",
    "count=0\n",
    "for i in E:\n",
    "    if i is True:\n",
    "        count=count+1\n",
    "print(count)        \n",
    "                        "
   ]
  },
  {
   "cell_type": "markdown",
   "id": "0ddf3fcd",
   "metadata": {},
   "source": [
    "# 4.\tCalculate the overall occupancy percentage (total occupied / total bed)."
   ]
  },
  {
   "cell_type": "code",
   "execution_count": 1116,
   "id": "a91e5838",
   "metadata": {},
   "outputs": [],
   "source": [
    "E=c['BEDSTATUS']=='Available'"
   ]
  },
  {
   "cell_type": "code",
   "execution_count": 1118,
   "id": "cdff8ac2",
   "metadata": {},
   "outputs": [
    {
     "name": "stdout",
     "output_type": "stream",
     "text": [
      "465\n"
     ]
    }
   ],
   "source": [
    "count=0\n",
    "for i in E:\n",
    "    if i is False:\n",
    "        count=count+1\n",
    "print(count)        "
   ]
  },
  {
   "cell_type": "code",
   "execution_count": 1121,
   "id": "82a149df",
   "metadata": {},
   "outputs": [],
   "source": [
    "P=(count/len(E))*100"
   ]
  },
  {
   "cell_type": "code",
   "execution_count": 1126,
   "id": "7e679001",
   "metadata": {},
   "outputs": [
    {
     "name": "stdout",
     "output_type": "stream",
     "text": [
      "the overall occupancy percentage is 46.875\n"
     ]
    }
   ],
   "source": [
    "print(\"the overall occupancy percentage is\",P)"
   ]
  },
  {
   "cell_type": "markdown",
   "id": "a1bf35d5",
   "metadata": {},
   "source": [
    "# 5.\tCalculate occupancy for each ward."
   ]
  },
  {
   "cell_type": "code",
   "execution_count": 163,
   "id": "558a0b30",
   "metadata": {},
   "outputs": [],
   "source": [
    "E=c[['NURSENAME','BEDSTATUS']]=='Daycare Surgery','Occupied(Male)','Occupied(Female)','Vacant Dirty','Occupied Discharge','Blocked'"
   ]
  },
  {
   "cell_type": "code",
   "execution_count": 164,
   "id": "a4196ce1",
   "metadata": {},
   "outputs": [
    {
     "data": {
      "text/plain": [
       "(     NURSENAME  BEDSTATUS\n",
       " 0        False      False\n",
       " 1        False      False\n",
       " 2        False      False\n",
       " 3        False      False\n",
       " 4        False      False\n",
       " ..         ...        ...\n",
       " 995      False      False\n",
       " 996      False      False\n",
       " 997      False      False\n",
       " 998      False      False\n",
       " 999      False      False\n",
       " \n",
       " [992 rows x 2 columns],\n",
       " 'Occupied(Male)',\n",
       " 'Occupied(Female)',\n",
       " 'Vacant Dirty',\n",
       " 'Occupied Discharge',\n",
       " 'Blocked')"
      ]
     },
     "execution_count": 164,
     "metadata": {},
     "output_type": "execute_result"
    }
   ],
   "source": [
    "E"
   ]
  },
  {
   "cell_type": "code",
   "execution_count": 165,
   "id": "d0e1d65b",
   "metadata": {},
   "outputs": [],
   "source": [
    "k=c[['NURSENAME','BEDSTATUS']]=True"
   ]
  },
  {
   "cell_type": "code",
   "execution_count": 168,
   "id": "3a382236",
   "metadata": {},
   "outputs": [
    {
     "name": "stdout",
     "output_type": "stream",
     "text": [
      "6\n"
     ]
    }
   ],
   "source": [
    "count=0\n",
    "for i in E:\n",
    "    if k is True:\n",
    "        count=count+1\n",
    "print(count)        "
   ]
  },
  {
   "cell_type": "code",
   "execution_count": 178,
   "id": "d312ed5a",
   "metadata": {},
   "outputs": [],
   "source": [
    "E=c[['NURSENAME','BEDSTATUS']]=='Daycare Endoscopy','Occupied(Male)','Occupied(Female)','Vacant Dirty','Occupied Discharge','Blocked'"
   ]
  },
  {
   "cell_type": "code",
   "execution_count": 179,
   "id": "433dab18",
   "metadata": {},
   "outputs": [],
   "source": [
    "k=c[['NURSENAME','BEDSTATUS']]=True"
   ]
  },
  {
   "cell_type": "code",
   "execution_count": 180,
   "id": "46e97ba9",
   "metadata": {},
   "outputs": [
    {
     "name": "stdout",
     "output_type": "stream",
     "text": [
      "6\n"
     ]
    }
   ],
   "source": [
    "count=0\n",
    "for i in E:\n",
    "    if k is True:\n",
    "        count=count+1\n",
    "print(count)        "
   ]
  },
  {
   "cell_type": "markdown",
   "id": "91e7ea7b",
   "metadata": {},
   "source": [
    "# 7.\tCalculate count of bed with all the different bed statuses for each ward."
   ]
  },
  {
   "cell_type": "code",
   "execution_count": 184,
   "id": "71e61347",
   "metadata": {},
   "outputs": [],
   "source": [
    "F=c[['NURSENAME','BEDSTATUS']]=='Daycare Surgery','Available'"
   ]
  },
  {
   "cell_type": "code",
   "execution_count": 187,
   "id": "de9b316c",
   "metadata": {},
   "outputs": [
    {
     "data": {
      "text/plain": [
       "(     NURSENAME  BEDSTATUS\n",
       " 0        False      False\n",
       " 1        False      False\n",
       " 2        False      False\n",
       " 3        False      False\n",
       " 4        False      False\n",
       " ..         ...        ...\n",
       " 995      False      False\n",
       " 996      False      False\n",
       " 997      False      False\n",
       " 998      False      False\n",
       " 999      False      False\n",
       " \n",
       " [992 rows x 2 columns],\n",
       " 'Available')"
      ]
     },
     "execution_count": 187,
     "metadata": {},
     "output_type": "execute_result"
    }
   ],
   "source": [
    "F"
   ]
  },
  {
   "cell_type": "code",
   "execution_count": 189,
   "id": "55ebd709",
   "metadata": {},
   "outputs": [],
   "source": [
    "k=c[['NURSENAME','BEDSTATUS']]==True"
   ]
  },
  {
   "cell_type": "code",
   "execution_count": 186,
   "id": "515d9527",
   "metadata": {},
   "outputs": [
    {
     "name": "stdout",
     "output_type": "stream",
     "text": [
      "0\n"
     ]
    }
   ],
   "source": [
    "count=0\n",
    "for i in F:\n",
    "    if k is True:\n",
    "        count=count+1\n",
    "print(count) "
   ]
  },
  {
   "cell_type": "code",
   "execution_count": 196,
   "id": "a47f1e6b",
   "metadata": {},
   "outputs": [],
   "source": [
    "F=c[['NURSENAME','BEDSTATUS']]=='Daycare Endoscopy','Occupied Discharge'"
   ]
  },
  {
   "cell_type": "code",
   "execution_count": 197,
   "id": "44230627",
   "metadata": {},
   "outputs": [],
   "source": [
    "k=c[['NURSENAME','BEDSTATUS']]==True"
   ]
  },
  {
   "cell_type": "code",
   "execution_count": 199,
   "id": "72e05f97",
   "metadata": {},
   "outputs": [
    {
     "name": "stdout",
     "output_type": "stream",
     "text": [
      "0\n"
     ]
    }
   ],
   "source": [
    "count=0\n",
    "for i in F:\n",
    "    if k is True:\n",
    "        count=count+1\n",
    "print(count) "
   ]
  },
  {
   "cell_type": "markdown",
   "id": "872ada1a",
   "metadata": {},
   "source": [
    "# 6.\tCalculate occupancy for each room."
   ]
  },
  {
   "cell_type": "code",
   "execution_count": 226,
   "id": "29b5c2f6",
   "metadata": {},
   "outputs": [],
   "source": [
    "E=c['ROOMNAME']=='Room 529 (Single Bed)'"
   ]
  },
  {
   "cell_type": "code",
   "execution_count": 228,
   "id": "6d288958",
   "metadata": {},
   "outputs": [
    {
     "name": "stdout",
     "output_type": "stream",
     "text": [
      "1\n"
     ]
    }
   ],
   "source": [
    "count=0\n",
    "for i in E:\n",
    "    if i is True:\n",
    "        count=count+1\n",
    "print(count)        "
   ]
  },
  {
   "cell_type": "markdown",
   "id": "accf752c",
   "metadata": {},
   "source": [
    "# 8.\tCalculate count of bed with all the different bed statuses for each room."
   ]
  },
  {
   "cell_type": "code",
   "execution_count": 231,
   "id": "26774bf0",
   "metadata": {},
   "outputs": [],
   "source": [
    "F=c[['ROOMNAME','BEDSTATUS']]=='Room 529 (Single Bed)','Available'"
   ]
  },
  {
   "cell_type": "code",
   "execution_count": 232,
   "id": "4edae8d2",
   "metadata": {},
   "outputs": [
    {
     "data": {
      "text/plain": [
       "(     ROOMNAME  BEDSTATUS\n",
       " 0       False      False\n",
       " 1       False      False\n",
       " 2       False      False\n",
       " 3       False      False\n",
       " 4       False      False\n",
       " ..        ...        ...\n",
       " 995     False      False\n",
       " 996     False      False\n",
       " 997     False      False\n",
       " 998     False      False\n",
       " 999     False      False\n",
       " \n",
       " [992 rows x 2 columns],\n",
       " 'Available')"
      ]
     },
     "execution_count": 232,
     "metadata": {},
     "output_type": "execute_result"
    }
   ],
   "source": [
    "F"
   ]
  },
  {
   "cell_type": "code",
   "execution_count": 233,
   "id": "9bca8234",
   "metadata": {},
   "outputs": [
    {
     "name": "stdout",
     "output_type": "stream",
     "text": [
      "0\n"
     ]
    }
   ],
   "source": [
    "count=0\n",
    "for i in F:\n",
    "    if i is True:\n",
    "        count=count+1\n",
    "print(count)        "
   ]
  },
  {
   "cell_type": "code",
   "execution_count": 254,
   "id": "0b5d0913",
   "metadata": {},
   "outputs": [],
   "source": [
    "F=c[['ROOMNAME','BEDSTATUS']]=='Room 529 (Single Bed)','Occupied Discharge'"
   ]
  },
  {
   "cell_type": "code",
   "execution_count": 256,
   "id": "63b02965",
   "metadata": {},
   "outputs": [
    {
     "name": "stdout",
     "output_type": "stream",
     "text": [
      "0\n"
     ]
    }
   ],
   "source": [
    "count=0\n",
    "for i in F:\n",
    "        if i is True:\n",
    "            count=count+1\n",
    "print(count)        "
   ]
  },
  {
   "cell_type": "code",
   "execution_count": null,
   "id": "6085c857",
   "metadata": {},
   "outputs": [],
   "source": []
  }
 ],
 "metadata": {
  "kernelspec": {
   "display_name": "Python 3 (ipykernel)",
   "language": "python",
   "name": "python3"
  },
  "language_info": {
   "codemirror_mode": {
    "name": "ipython",
    "version": 3
   },
   "file_extension": ".py",
   "mimetype": "text/x-python",
   "name": "python",
   "nbconvert_exporter": "python",
   "pygments_lexer": "ipython3",
   "version": "3.9.12"
  }
 },
 "nbformat": 4,
 "nbformat_minor": 5
}
